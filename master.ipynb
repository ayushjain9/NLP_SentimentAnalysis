{
 "cells": [
  {
   "cell_type": "code",
   "execution_count": 1,
   "metadata": {},
   "outputs": [],
   "source": [
    "import pandas as pd\n",
    "import re"
   ]
  },
  {
   "cell_type": "code",
   "execution_count": null,
   "metadata": {},
   "outputs": [],
   "source": []
  },
  {
   "cell_type": "markdown",
   "metadata": {},
   "source": [
    "## 'Covid Data'"
   ]
  },
  {
   "cell_type": "code",
   "execution_count": 2,
   "metadata": {},
   "outputs": [],
   "source": [
    "data = pd.read_csv(\"C:\\\\Users\\\\ayushjain9\\\\Desktop\\\\TwitterProject\\\\data\\\\combine.csv\")"
   ]
  },
  {
   "cell_type": "code",
   "execution_count": 3,
   "metadata": {},
   "outputs": [
    {
     "data": {
      "text/plain": [
       "(870589, 10)"
      ]
     },
     "execution_count": 3,
     "metadata": {},
     "output_type": "execute_result"
    }
   ],
   "source": [
    "data.shape"
   ]
  },
  {
   "cell_type": "code",
   "execution_count": 4,
   "metadata": {},
   "outputs": [],
   "source": [
    "#Remove duplicates from Content column\n",
    "data.drop_duplicates(subset =\"Content\", inplace = True)"
   ]
  },
  {
   "cell_type": "code",
   "execution_count": 5,
   "metadata": {},
   "outputs": [
    {
     "data": {
      "text/plain": [
       "(377547, 10)"
      ]
     },
     "execution_count": 5,
     "metadata": {},
     "output_type": "execute_result"
    }
   ],
   "source": [
    "data.shape"
   ]
  },
  {
   "cell_type": "code",
   "execution_count": 6,
   "metadata": {},
   "outputs": [
    {
     "name": "stdout",
     "output_type": "stream",
     "text": [
      "<class 'pandas.core.frame.DataFrame'>\n",
      "Int64Index: 377547 entries, 0 to 870566\n",
      "Data columns (total 10 columns):\n",
      " #   Column           Non-Null Count   Dtype \n",
      "---  ------           --------------   ----- \n",
      " 0   Datetime         377546 non-null  object\n",
      " 1   Tweet Id         377545 non-null  object\n",
      " 2   Content          377546 non-null  object\n",
      " 3   Location         348776 non-null  object\n",
      " 4   Retweeted Tweet  2 non-null       object\n",
      " 5   Retweeted Count  377543 non-null  object\n",
      " 6   Like Count       377543 non-null  object\n",
      " 7   Hashtags         377394 non-null  object\n",
      " 8   Follower Count   377542 non-null  object\n",
      " 9   Verified User    377542 non-null  object\n",
      "dtypes: object(10)\n",
      "memory usage: 31.7+ MB\n"
     ]
    }
   ],
   "source": [
    "data.info()"
   ]
  },
  {
   "cell_type": "code",
   "execution_count": 7,
   "metadata": {},
   "outputs": [],
   "source": [
    "## Retweeted Tweet is 2\n",
    "data.drop(['Tweet Id', 'Retweeted Tweet'], axis = 1, inplace=True)"
   ]
  },
  {
   "cell_type": "code",
   "execution_count": 8,
   "metadata": {},
   "outputs": [
    {
     "name": "stdout",
     "output_type": "stream",
     "text": [
      "['Datetime', 'Content', 'Location', 'Retweeted Count', 'Like Count', 'Hashtags', 'Follower Count', 'Verified User']\n"
     ]
    }
   ],
   "source": [
    "print(data.columns.values.tolist())"
   ]
  },
  {
   "cell_type": "code",
   "execution_count": 9,
   "metadata": {},
   "outputs": [],
   "source": [
    "data.columns = [ 'date', 'text','user_location', 'retweets', 'likes_count','hashtags', 'user_followers', 'user_verified']"
   ]
  },
  {
   "cell_type": "code",
   "execution_count": 10,
   "metadata": {},
   "outputs": [],
   "source": [
    "data = data[['user_location','user_followers', 'user_verified','date', 'text', 'hashtags','retweets','likes_count' ]]"
   ]
  },
  {
   "cell_type": "code",
   "execution_count": null,
   "metadata": {},
   "outputs": [],
   "source": []
  },
  {
   "cell_type": "code",
   "execution_count": 11,
   "metadata": {},
   "outputs": [
    {
     "data": {
      "text/html": [
       "<div>\n",
       "<style scoped>\n",
       "    .dataframe tbody tr th:only-of-type {\n",
       "        vertical-align: middle;\n",
       "    }\n",
       "\n",
       "    .dataframe tbody tr th {\n",
       "        vertical-align: top;\n",
       "    }\n",
       "\n",
       "    .dataframe thead th {\n",
       "        text-align: right;\n",
       "    }\n",
       "</style>\n",
       "<table border=\"1\" class=\"dataframe\">\n",
       "  <thead>\n",
       "    <tr style=\"text-align: right;\">\n",
       "      <th></th>\n",
       "      <th>user_location</th>\n",
       "      <th>user_followers</th>\n",
       "      <th>user_verified</th>\n",
       "      <th>date</th>\n",
       "      <th>text</th>\n",
       "      <th>hashtags</th>\n",
       "      <th>retweets</th>\n",
       "      <th>likes_count</th>\n",
       "    </tr>\n",
       "  </thead>\n",
       "  <tbody>\n",
       "    <tr>\n",
       "      <th>0</th>\n",
       "      <td>ประเทศไทย</td>\n",
       "      <td>33</td>\n",
       "      <td>FALSE</td>\n",
       "      <td>2020-03-01 23:34:58+00:00</td>\n",
       "      <td>Everyone takes care of their health please.✌🏽😷...</td>\n",
       "      <td>['COVID', 'worldwide']</td>\n",
       "      <td>2</td>\n",
       "      <td>2</td>\n",
       "    </tr>\n",
       "    <tr>\n",
       "      <th>1</th>\n",
       "      <td>Mumbai</td>\n",
       "      <td>370</td>\n",
       "      <td>FALSE</td>\n",
       "      <td>2020-03-01 22:08:50+00:00</td>\n",
       "      <td>I landed in Mumbai at midnight and there was a...</td>\n",
       "      <td>['covid']</td>\n",
       "      <td>0</td>\n",
       "      <td>0</td>\n",
       "    </tr>\n",
       "    <tr>\n",
       "      <th>2</th>\n",
       "      <td>Dhaka</td>\n",
       "      <td>57502</td>\n",
       "      <td>FALSE</td>\n",
       "      <td>2020-03-01 22:03:21+00:00</td>\n",
       "      <td>Here are the latest developments on the #coron...</td>\n",
       "      <td>['coronavirusoutbreak', 'COVID', 'Coronavid19']</td>\n",
       "      <td>7</td>\n",
       "      <td>12</td>\n",
       "    </tr>\n",
       "    <tr>\n",
       "      <th>3</th>\n",
       "      <td>Dubai, United Arab Emirates</td>\n",
       "      <td>2061</td>\n",
       "      <td>TRUE</td>\n",
       "      <td>2020-03-01 20:00:10+00:00</td>\n",
       "      <td>@UltraAbuDhabi @MEFCC to go ahead as scheduled...</td>\n",
       "      <td>['COVID']</td>\n",
       "      <td>0</td>\n",
       "      <td>0</td>\n",
       "    </tr>\n",
       "    <tr>\n",
       "      <th>4</th>\n",
       "      <td>SunnySideOfLife</td>\n",
       "      <td>754</td>\n",
       "      <td>FALSE</td>\n",
       "      <td>2020-03-01 18:37:11+00:00</td>\n",
       "      <td>@AbeShinzo request general public to avoid spo...</td>\n",
       "      <td>['COVID19', 'coronavirus', 'COVID', 'Japan', '...</td>\n",
       "      <td>0</td>\n",
       "      <td>0</td>\n",
       "    </tr>\n",
       "  </tbody>\n",
       "</table>\n",
       "</div>"
      ],
      "text/plain": [
       "                  user_location user_followers user_verified  \\\n",
       "0                     ประเทศไทย             33         FALSE   \n",
       "1                        Mumbai            370         FALSE   \n",
       "2                         Dhaka          57502         FALSE   \n",
       "3  Dubai, United Arab Emirates            2061          TRUE   \n",
       "4               SunnySideOfLife            754         FALSE   \n",
       "\n",
       "                        date  \\\n",
       "0  2020-03-01 23:34:58+00:00   \n",
       "1  2020-03-01 22:08:50+00:00   \n",
       "2  2020-03-01 22:03:21+00:00   \n",
       "3  2020-03-01 20:00:10+00:00   \n",
       "4  2020-03-01 18:37:11+00:00   \n",
       "\n",
       "                                                text  \\\n",
       "0  Everyone takes care of their health please.✌🏽😷...   \n",
       "1  I landed in Mumbai at midnight and there was a...   \n",
       "2  Here are the latest developments on the #coron...   \n",
       "3  @UltraAbuDhabi @MEFCC to go ahead as scheduled...   \n",
       "4  @AbeShinzo request general public to avoid spo...   \n",
       "\n",
       "                                            hashtags retweets likes_count  \n",
       "0                             ['COVID', 'worldwide']        2           2  \n",
       "1                                          ['covid']        0           0  \n",
       "2    ['coronavirusoutbreak', 'COVID', 'Coronavid19']        7          12  \n",
       "3                                          ['COVID']        0           0  \n",
       "4  ['COVID19', 'coronavirus', 'COVID', 'Japan', '...        0           0  "
      ]
     },
     "execution_count": 11,
     "metadata": {},
     "output_type": "execute_result"
    }
   ],
   "source": [
    "data.head()"
   ]
  },
  {
   "cell_type": "code",
   "execution_count": 12,
   "metadata": {},
   "outputs": [],
   "source": [
    "# Correcting Date format\n",
    "data['date'] = pd.to_datetime(data['date'], errors='coerce').dt.date"
   ]
  },
  {
   "cell_type": "markdown",
   "metadata": {},
   "source": [
    "data['date'] = pd.to_datetime(data['date'], errors='coerce').dt.date"
   ]
  },
  {
   "cell_type": "code",
   "execution_count": 13,
   "metadata": {},
   "outputs": [
    {
     "data": {
      "text/html": [
       "<div>\n",
       "<style scoped>\n",
       "    .dataframe tbody tr th:only-of-type {\n",
       "        vertical-align: middle;\n",
       "    }\n",
       "\n",
       "    .dataframe tbody tr th {\n",
       "        vertical-align: top;\n",
       "    }\n",
       "\n",
       "    .dataframe thead th {\n",
       "        text-align: right;\n",
       "    }\n",
       "</style>\n",
       "<table border=\"1\" class=\"dataframe\">\n",
       "  <thead>\n",
       "    <tr style=\"text-align: right;\">\n",
       "      <th></th>\n",
       "      <th>user_location</th>\n",
       "      <th>user_followers</th>\n",
       "      <th>user_verified</th>\n",
       "      <th>date</th>\n",
       "      <th>text</th>\n",
       "      <th>hashtags</th>\n",
       "      <th>retweets</th>\n",
       "      <th>likes_count</th>\n",
       "    </tr>\n",
       "  </thead>\n",
       "  <tbody>\n",
       "    <tr>\n",
       "      <th>0</th>\n",
       "      <td>ประเทศไทย</td>\n",
       "      <td>33</td>\n",
       "      <td>FALSE</td>\n",
       "      <td>2020-03-01</td>\n",
       "      <td>Everyone takes care of their health please.✌🏽😷...</td>\n",
       "      <td>['COVID', 'worldwide']</td>\n",
       "      <td>2</td>\n",
       "      <td>2</td>\n",
       "    </tr>\n",
       "    <tr>\n",
       "      <th>1</th>\n",
       "      <td>Mumbai</td>\n",
       "      <td>370</td>\n",
       "      <td>FALSE</td>\n",
       "      <td>2020-03-01</td>\n",
       "      <td>I landed in Mumbai at midnight and there was a...</td>\n",
       "      <td>['covid']</td>\n",
       "      <td>0</td>\n",
       "      <td>0</td>\n",
       "    </tr>\n",
       "    <tr>\n",
       "      <th>2</th>\n",
       "      <td>Dhaka</td>\n",
       "      <td>57502</td>\n",
       "      <td>FALSE</td>\n",
       "      <td>2020-03-01</td>\n",
       "      <td>Here are the latest developments on the #coron...</td>\n",
       "      <td>['coronavirusoutbreak', 'COVID', 'Coronavid19']</td>\n",
       "      <td>7</td>\n",
       "      <td>12</td>\n",
       "    </tr>\n",
       "    <tr>\n",
       "      <th>3</th>\n",
       "      <td>Dubai, United Arab Emirates</td>\n",
       "      <td>2061</td>\n",
       "      <td>TRUE</td>\n",
       "      <td>2020-03-01</td>\n",
       "      <td>@UltraAbuDhabi @MEFCC to go ahead as scheduled...</td>\n",
       "      <td>['COVID']</td>\n",
       "      <td>0</td>\n",
       "      <td>0</td>\n",
       "    </tr>\n",
       "    <tr>\n",
       "      <th>4</th>\n",
       "      <td>SunnySideOfLife</td>\n",
       "      <td>754</td>\n",
       "      <td>FALSE</td>\n",
       "      <td>2020-03-01</td>\n",
       "      <td>@AbeShinzo request general public to avoid spo...</td>\n",
       "      <td>['COVID19', 'coronavirus', 'COVID', 'Japan', '...</td>\n",
       "      <td>0</td>\n",
       "      <td>0</td>\n",
       "    </tr>\n",
       "  </tbody>\n",
       "</table>\n",
       "</div>"
      ],
      "text/plain": [
       "                  user_location user_followers user_verified        date  \\\n",
       "0                     ประเทศไทย             33         FALSE  2020-03-01   \n",
       "1                        Mumbai            370         FALSE  2020-03-01   \n",
       "2                         Dhaka          57502         FALSE  2020-03-01   \n",
       "3  Dubai, United Arab Emirates            2061          TRUE  2020-03-01   \n",
       "4               SunnySideOfLife            754         FALSE  2020-03-01   \n",
       "\n",
       "                                                text  \\\n",
       "0  Everyone takes care of their health please.✌🏽😷...   \n",
       "1  I landed in Mumbai at midnight and there was a...   \n",
       "2  Here are the latest developments on the #coron...   \n",
       "3  @UltraAbuDhabi @MEFCC to go ahead as scheduled...   \n",
       "4  @AbeShinzo request general public to avoid spo...   \n",
       "\n",
       "                                            hashtags retweets likes_count  \n",
       "0                             ['COVID', 'worldwide']        2           2  \n",
       "1                                          ['covid']        0           0  \n",
       "2    ['coronavirusoutbreak', 'COVID', 'Coronavid19']        7          12  \n",
       "3                                          ['COVID']        0           0  \n",
       "4  ['COVID19', 'coronavirus', 'COVID', 'Japan', '...        0           0  "
      ]
     },
     "execution_count": 13,
     "metadata": {},
     "output_type": "execute_result"
    }
   ],
   "source": [
    "data.head()"
   ]
  },
  {
   "cell_type": "code",
   "execution_count": null,
   "metadata": {},
   "outputs": [],
   "source": []
  },
  {
   "cell_type": "markdown",
   "metadata": {},
   "source": []
  },
  {
   "cell_type": "markdown",
   "metadata": {},
   "source": [
    "## 'Vaccination Data'"
   ]
  },
  {
   "cell_type": "code",
   "execution_count": 14,
   "metadata": {},
   "outputs": [],
   "source": [
    "data1 = pd.read_csv(\"C:\\\\Users\\\\ayushjain9\\\\Desktop\\\\TwitterProject\\\\data\\\\vaccination_all_tweets.csv\")"
   ]
  },
  {
   "cell_type": "code",
   "execution_count": 15,
   "metadata": {},
   "outputs": [
    {
     "data": {
      "text/plain": [
       "(193272, 16)"
      ]
     },
     "execution_count": 15,
     "metadata": {},
     "output_type": "execute_result"
    }
   ],
   "source": [
    "data1.shape"
   ]
  },
  {
   "cell_type": "code",
   "execution_count": 16,
   "metadata": {},
   "outputs": [
    {
     "data": {
      "text/plain": [
       "Index(['id', 'user_name', 'user_location', 'user_description', 'user_created',\n",
       "       'user_followers', 'user_friends', 'user_favourites', 'user_verified',\n",
       "       'date', 'text', 'hashtags', 'source', 'retweets', 'favorites',\n",
       "       'is_retweet'],\n",
       "      dtype='object')"
      ]
     },
     "execution_count": 16,
     "metadata": {},
     "output_type": "execute_result"
    }
   ],
   "source": [
    "data1.columns"
   ]
  },
  {
   "cell_type": "code",
   "execution_count": 17,
   "metadata": {},
   "outputs": [
    {
     "name": "stdout",
     "output_type": "stream",
     "text": [
      "<class 'pandas.core.frame.DataFrame'>\n",
      "RangeIndex: 193272 entries, 0 to 193271\n",
      "Data columns (total 16 columns):\n",
      " #   Column            Non-Null Count   Dtype \n",
      "---  ------            --------------   ----- \n",
      " 0   id                193272 non-null  int64 \n",
      " 1   user_name         193271 non-null  object\n",
      " 2   user_location     134699 non-null  object\n",
      " 3   user_description  179542 non-null  object\n",
      " 4   user_created      193272 non-null  object\n",
      " 5   user_followers    193272 non-null  int64 \n",
      " 6   user_friends      193272 non-null  int64 \n",
      " 7   user_favourites   193272 non-null  int64 \n",
      " 8   user_verified     193272 non-null  bool  \n",
      " 9   date              193272 non-null  object\n",
      " 10  text              193272 non-null  object\n",
      " 11  hashtags          152299 non-null  object\n",
      " 12  source            193153 non-null  object\n",
      " 13  retweets          193272 non-null  int64 \n",
      " 14  favorites         193272 non-null  int64 \n",
      " 15  is_retweet        193272 non-null  bool  \n",
      "dtypes: bool(2), int64(6), object(8)\n",
      "memory usage: 21.0+ MB\n"
     ]
    }
   ],
   "source": [
    "data1.info()"
   ]
  },
  {
   "cell_type": "code",
   "execution_count": 18,
   "metadata": {},
   "outputs": [],
   "source": [
    "data1.drop(['id','user_name','user_description', 'user_created','user_friends','source','is_retweet','user_favourites'], axis = 1, inplace=True)"
   ]
  },
  {
   "cell_type": "code",
   "execution_count": 19,
   "metadata": {},
   "outputs": [
    {
     "name": "stdout",
     "output_type": "stream",
     "text": [
      "<class 'pandas.core.frame.DataFrame'>\n",
      "RangeIndex: 193272 entries, 0 to 193271\n",
      "Data columns (total 8 columns):\n",
      " #   Column          Non-Null Count   Dtype \n",
      "---  ------          --------------   ----- \n",
      " 0   user_location   134699 non-null  object\n",
      " 1   user_followers  193272 non-null  int64 \n",
      " 2   user_verified   193272 non-null  bool  \n",
      " 3   date            193272 non-null  object\n",
      " 4   text            193272 non-null  object\n",
      " 5   hashtags        152299 non-null  object\n",
      " 6   retweets        193272 non-null  int64 \n",
      " 7   favorites       193272 non-null  int64 \n",
      "dtypes: bool(1), int64(3), object(4)\n",
      "memory usage: 10.5+ MB\n"
     ]
    }
   ],
   "source": [
    "data1.info()"
   ]
  },
  {
   "cell_type": "code",
   "execution_count": 20,
   "metadata": {},
   "outputs": [],
   "source": [
    "data1.columns = [ 'user_location','user_followers', 'user_verified','date', 'text', 'hashtags','retweets','likes_count']"
   ]
  },
  {
   "cell_type": "code",
   "execution_count": null,
   "metadata": {},
   "outputs": [],
   "source": [
    "data1.info()"
   ]
  },
  {
   "cell_type": "code",
   "execution_count": 21,
   "metadata": {},
   "outputs": [
    {
     "data": {
      "text/html": [
       "<div>\n",
       "<style scoped>\n",
       "    .dataframe tbody tr th:only-of-type {\n",
       "        vertical-align: middle;\n",
       "    }\n",
       "\n",
       "    .dataframe tbody tr th {\n",
       "        vertical-align: top;\n",
       "    }\n",
       "\n",
       "    .dataframe thead th {\n",
       "        text-align: right;\n",
       "    }\n",
       "</style>\n",
       "<table border=\"1\" class=\"dataframe\">\n",
       "  <thead>\n",
       "    <tr style=\"text-align: right;\">\n",
       "      <th></th>\n",
       "      <th>user_location</th>\n",
       "      <th>user_followers</th>\n",
       "      <th>user_verified</th>\n",
       "      <th>date</th>\n",
       "      <th>text</th>\n",
       "      <th>hashtags</th>\n",
       "      <th>retweets</th>\n",
       "      <th>likes_count</th>\n",
       "    </tr>\n",
       "  </thead>\n",
       "  <tbody>\n",
       "    <tr>\n",
       "      <th>0</th>\n",
       "      <td>La Crescenta-Montrose, CA</td>\n",
       "      <td>405</td>\n",
       "      <td>False</td>\n",
       "      <td>2020-12-20 06:06:44</td>\n",
       "      <td>Same folks said daikon paste could treat a cyt...</td>\n",
       "      <td>['PfizerBioNTech']</td>\n",
       "      <td>0</td>\n",
       "      <td>0</td>\n",
       "    </tr>\n",
       "    <tr>\n",
       "      <th>1</th>\n",
       "      <td>San Francisco, CA</td>\n",
       "      <td>834</td>\n",
       "      <td>False</td>\n",
       "      <td>2020-12-13 16:27:13</td>\n",
       "      <td>While the world has been on the wrong side of ...</td>\n",
       "      <td>NaN</td>\n",
       "      <td>1</td>\n",
       "      <td>1</td>\n",
       "    </tr>\n",
       "    <tr>\n",
       "      <th>2</th>\n",
       "      <td>Your Bed</td>\n",
       "      <td>10</td>\n",
       "      <td>False</td>\n",
       "      <td>2020-12-12 20:33:45</td>\n",
       "      <td>#coronavirus #SputnikV #AstraZeneca #PfizerBio...</td>\n",
       "      <td>['coronavirus', 'SputnikV', 'AstraZeneca', 'Pf...</td>\n",
       "      <td>0</td>\n",
       "      <td>0</td>\n",
       "    </tr>\n",
       "    <tr>\n",
       "      <th>3</th>\n",
       "      <td>Vancouver, BC - Canada</td>\n",
       "      <td>49165</td>\n",
       "      <td>True</td>\n",
       "      <td>2020-12-12 20:23:59</td>\n",
       "      <td>Facts are immutable, Senator, even when you're...</td>\n",
       "      <td>NaN</td>\n",
       "      <td>446</td>\n",
       "      <td>2129</td>\n",
       "    </tr>\n",
       "    <tr>\n",
       "      <th>4</th>\n",
       "      <td>NaN</td>\n",
       "      <td>152</td>\n",
       "      <td>False</td>\n",
       "      <td>2020-12-12 20:17:19</td>\n",
       "      <td>Explain to me again why we need a vaccine @Bor...</td>\n",
       "      <td>['whereareallthesickpeople', 'PfizerBioNTech']</td>\n",
       "      <td>0</td>\n",
       "      <td>0</td>\n",
       "    </tr>\n",
       "  </tbody>\n",
       "</table>\n",
       "</div>"
      ],
      "text/plain": [
       "               user_location  user_followers  user_verified  \\\n",
       "0  La Crescenta-Montrose, CA             405          False   \n",
       "1          San Francisco, CA             834          False   \n",
       "2                   Your Bed              10          False   \n",
       "3     Vancouver, BC - Canada           49165           True   \n",
       "4                        NaN             152          False   \n",
       "\n",
       "                  date                                               text  \\\n",
       "0  2020-12-20 06:06:44  Same folks said daikon paste could treat a cyt...   \n",
       "1  2020-12-13 16:27:13  While the world has been on the wrong side of ...   \n",
       "2  2020-12-12 20:33:45  #coronavirus #SputnikV #AstraZeneca #PfizerBio...   \n",
       "3  2020-12-12 20:23:59  Facts are immutable, Senator, even when you're...   \n",
       "4  2020-12-12 20:17:19  Explain to me again why we need a vaccine @Bor...   \n",
       "\n",
       "                                            hashtags  retweets  likes_count  \n",
       "0                                 ['PfizerBioNTech']         0            0  \n",
       "1                                                NaN         1            1  \n",
       "2  ['coronavirus', 'SputnikV', 'AstraZeneca', 'Pf...         0            0  \n",
       "3                                                NaN       446         2129  \n",
       "4     ['whereareallthesickpeople', 'PfizerBioNTech']         0            0  "
      ]
     },
     "execution_count": 21,
     "metadata": {},
     "output_type": "execute_result"
    }
   ],
   "source": [
    "data1.head()"
   ]
  },
  {
   "cell_type": "code",
   "execution_count": 22,
   "metadata": {},
   "outputs": [],
   "source": [
    "# Correcting Date format\n",
    "data1['date'] = pd.to_datetime(data1['date'], errors='coerce').dt.date"
   ]
  },
  {
   "cell_type": "code",
   "execution_count": 23,
   "metadata": {},
   "outputs": [
    {
     "data": {
      "text/html": [
       "<div>\n",
       "<style scoped>\n",
       "    .dataframe tbody tr th:only-of-type {\n",
       "        vertical-align: middle;\n",
       "    }\n",
       "\n",
       "    .dataframe tbody tr th {\n",
       "        vertical-align: top;\n",
       "    }\n",
       "\n",
       "    .dataframe thead th {\n",
       "        text-align: right;\n",
       "    }\n",
       "</style>\n",
       "<table border=\"1\" class=\"dataframe\">\n",
       "  <thead>\n",
       "    <tr style=\"text-align: right;\">\n",
       "      <th></th>\n",
       "      <th>user_location</th>\n",
       "      <th>user_followers</th>\n",
       "      <th>user_verified</th>\n",
       "      <th>date</th>\n",
       "      <th>text</th>\n",
       "      <th>hashtags</th>\n",
       "      <th>retweets</th>\n",
       "      <th>likes_count</th>\n",
       "    </tr>\n",
       "  </thead>\n",
       "  <tbody>\n",
       "    <tr>\n",
       "      <th>0</th>\n",
       "      <td>La Crescenta-Montrose, CA</td>\n",
       "      <td>405</td>\n",
       "      <td>False</td>\n",
       "      <td>2020-12-20</td>\n",
       "      <td>Same folks said daikon paste could treat a cyt...</td>\n",
       "      <td>['PfizerBioNTech']</td>\n",
       "      <td>0</td>\n",
       "      <td>0</td>\n",
       "    </tr>\n",
       "    <tr>\n",
       "      <th>1</th>\n",
       "      <td>San Francisco, CA</td>\n",
       "      <td>834</td>\n",
       "      <td>False</td>\n",
       "      <td>2020-12-13</td>\n",
       "      <td>While the world has been on the wrong side of ...</td>\n",
       "      <td>NaN</td>\n",
       "      <td>1</td>\n",
       "      <td>1</td>\n",
       "    </tr>\n",
       "    <tr>\n",
       "      <th>2</th>\n",
       "      <td>Your Bed</td>\n",
       "      <td>10</td>\n",
       "      <td>False</td>\n",
       "      <td>2020-12-12</td>\n",
       "      <td>#coronavirus #SputnikV #AstraZeneca #PfizerBio...</td>\n",
       "      <td>['coronavirus', 'SputnikV', 'AstraZeneca', 'Pf...</td>\n",
       "      <td>0</td>\n",
       "      <td>0</td>\n",
       "    </tr>\n",
       "    <tr>\n",
       "      <th>3</th>\n",
       "      <td>Vancouver, BC - Canada</td>\n",
       "      <td>49165</td>\n",
       "      <td>True</td>\n",
       "      <td>2020-12-12</td>\n",
       "      <td>Facts are immutable, Senator, even when you're...</td>\n",
       "      <td>NaN</td>\n",
       "      <td>446</td>\n",
       "      <td>2129</td>\n",
       "    </tr>\n",
       "    <tr>\n",
       "      <th>4</th>\n",
       "      <td>NaN</td>\n",
       "      <td>152</td>\n",
       "      <td>False</td>\n",
       "      <td>2020-12-12</td>\n",
       "      <td>Explain to me again why we need a vaccine @Bor...</td>\n",
       "      <td>['whereareallthesickpeople', 'PfizerBioNTech']</td>\n",
       "      <td>0</td>\n",
       "      <td>0</td>\n",
       "    </tr>\n",
       "  </tbody>\n",
       "</table>\n",
       "</div>"
      ],
      "text/plain": [
       "               user_location  user_followers  user_verified        date  \\\n",
       "0  La Crescenta-Montrose, CA             405          False  2020-12-20   \n",
       "1          San Francisco, CA             834          False  2020-12-13   \n",
       "2                   Your Bed              10          False  2020-12-12   \n",
       "3     Vancouver, BC - Canada           49165           True  2020-12-12   \n",
       "4                        NaN             152          False  2020-12-12   \n",
       "\n",
       "                                                text  \\\n",
       "0  Same folks said daikon paste could treat a cyt...   \n",
       "1  While the world has been on the wrong side of ...   \n",
       "2  #coronavirus #SputnikV #AstraZeneca #PfizerBio...   \n",
       "3  Facts are immutable, Senator, even when you're...   \n",
       "4  Explain to me again why we need a vaccine @Bor...   \n",
       "\n",
       "                                            hashtags  retweets  likes_count  \n",
       "0                                 ['PfizerBioNTech']         0            0  \n",
       "1                                                NaN         1            1  \n",
       "2  ['coronavirus', 'SputnikV', 'AstraZeneca', 'Pf...         0            0  \n",
       "3                                                NaN       446         2129  \n",
       "4     ['whereareallthesickpeople', 'PfizerBioNTech']         0            0  "
      ]
     },
     "execution_count": 23,
     "metadata": {},
     "output_type": "execute_result"
    }
   ],
   "source": [
    "data1.head()"
   ]
  },
  {
   "cell_type": "code",
   "execution_count": null,
   "metadata": {},
   "outputs": [],
   "source": []
  },
  {
   "cell_type": "markdown",
   "metadata": {},
   "source": [
    "# Merging Two DataFrames"
   ]
  },
  {
   "cell_type": "code",
   "execution_count": 24,
   "metadata": {},
   "outputs": [],
   "source": [
    "# Stack the DataFrames on top of each other\n",
    "df = pd.concat([data, data1], axis=0, ignore_index = True)"
   ]
  },
  {
   "cell_type": "code",
   "execution_count": 25,
   "metadata": {},
   "outputs": [
    {
     "data": {
      "text/plain": [
       "(570819, 8)"
      ]
     },
     "execution_count": 25,
     "metadata": {},
     "output_type": "execute_result"
    }
   ],
   "source": [
    "df.shape"
   ]
  },
  {
   "cell_type": "code",
   "execution_count": 26,
   "metadata": {},
   "outputs": [
    {
     "name": "stdout",
     "output_type": "stream",
     "text": [
      "<class 'pandas.core.frame.DataFrame'>\n",
      "RangeIndex: 570819 entries, 0 to 570818\n",
      "Data columns (total 8 columns):\n",
      " #   Column          Non-Null Count   Dtype \n",
      "---  ------          --------------   ----- \n",
      " 0   user_location   483475 non-null  object\n",
      " 1   user_followers  570814 non-null  object\n",
      " 2   user_verified   570814 non-null  object\n",
      " 3   date            570816 non-null  object\n",
      " 4   text            570818 non-null  object\n",
      " 5   hashtags        529693 non-null  object\n",
      " 6   retweets        570815 non-null  object\n",
      " 7   likes_count     570815 non-null  object\n",
      "dtypes: object(8)\n",
      "memory usage: 34.8+ MB\n"
     ]
    }
   ],
   "source": [
    "df.info()"
   ]
  },
  {
   "cell_type": "code",
   "execution_count": 27,
   "metadata": {},
   "outputs": [
    {
     "data": {
      "text/html": [
       "<div>\n",
       "<style scoped>\n",
       "    .dataframe tbody tr th:only-of-type {\n",
       "        vertical-align: middle;\n",
       "    }\n",
       "\n",
       "    .dataframe tbody tr th {\n",
       "        vertical-align: top;\n",
       "    }\n",
       "\n",
       "    .dataframe thead th {\n",
       "        text-align: right;\n",
       "    }\n",
       "</style>\n",
       "<table border=\"1\" class=\"dataframe\">\n",
       "  <thead>\n",
       "    <tr style=\"text-align: right;\">\n",
       "      <th></th>\n",
       "      <th>user_location</th>\n",
       "      <th>user_followers</th>\n",
       "      <th>user_verified</th>\n",
       "      <th>date</th>\n",
       "      <th>text</th>\n",
       "      <th>hashtags</th>\n",
       "      <th>retweets</th>\n",
       "      <th>likes_count</th>\n",
       "    </tr>\n",
       "  </thead>\n",
       "  <tbody>\n",
       "    <tr>\n",
       "      <th>0</th>\n",
       "      <td>ประเทศไทย</td>\n",
       "      <td>33</td>\n",
       "      <td>FALSE</td>\n",
       "      <td>2020-03-01</td>\n",
       "      <td>Everyone takes care of their health please.✌🏽😷...</td>\n",
       "      <td>['COVID', 'worldwide']</td>\n",
       "      <td>2</td>\n",
       "      <td>2</td>\n",
       "    </tr>\n",
       "    <tr>\n",
       "      <th>1</th>\n",
       "      <td>Mumbai</td>\n",
       "      <td>370</td>\n",
       "      <td>FALSE</td>\n",
       "      <td>2020-03-01</td>\n",
       "      <td>I landed in Mumbai at midnight and there was a...</td>\n",
       "      <td>['covid']</td>\n",
       "      <td>0</td>\n",
       "      <td>0</td>\n",
       "    </tr>\n",
       "    <tr>\n",
       "      <th>2</th>\n",
       "      <td>Dhaka</td>\n",
       "      <td>57502</td>\n",
       "      <td>FALSE</td>\n",
       "      <td>2020-03-01</td>\n",
       "      <td>Here are the latest developments on the #coron...</td>\n",
       "      <td>['coronavirusoutbreak', 'COVID', 'Coronavid19']</td>\n",
       "      <td>7</td>\n",
       "      <td>12</td>\n",
       "    </tr>\n",
       "    <tr>\n",
       "      <th>3</th>\n",
       "      <td>Dubai, United Arab Emirates</td>\n",
       "      <td>2061</td>\n",
       "      <td>TRUE</td>\n",
       "      <td>2020-03-01</td>\n",
       "      <td>@UltraAbuDhabi @MEFCC to go ahead as scheduled...</td>\n",
       "      <td>['COVID']</td>\n",
       "      <td>0</td>\n",
       "      <td>0</td>\n",
       "    </tr>\n",
       "    <tr>\n",
       "      <th>4</th>\n",
       "      <td>SunnySideOfLife</td>\n",
       "      <td>754</td>\n",
       "      <td>FALSE</td>\n",
       "      <td>2020-03-01</td>\n",
       "      <td>@AbeShinzo request general public to avoid spo...</td>\n",
       "      <td>['COVID19', 'coronavirus', 'COVID', 'Japan', '...</td>\n",
       "      <td>0</td>\n",
       "      <td>0</td>\n",
       "    </tr>\n",
       "  </tbody>\n",
       "</table>\n",
       "</div>"
      ],
      "text/plain": [
       "                  user_location user_followers user_verified        date  \\\n",
       "0                     ประเทศไทย             33         FALSE  2020-03-01   \n",
       "1                        Mumbai            370         FALSE  2020-03-01   \n",
       "2                         Dhaka          57502         FALSE  2020-03-01   \n",
       "3  Dubai, United Arab Emirates            2061          TRUE  2020-03-01   \n",
       "4               SunnySideOfLife            754         FALSE  2020-03-01   \n",
       "\n",
       "                                                text  \\\n",
       "0  Everyone takes care of their health please.✌🏽😷...   \n",
       "1  I landed in Mumbai at midnight and there was a...   \n",
       "2  Here are the latest developments on the #coron...   \n",
       "3  @UltraAbuDhabi @MEFCC to go ahead as scheduled...   \n",
       "4  @AbeShinzo request general public to avoid spo...   \n",
       "\n",
       "                                            hashtags retweets likes_count  \n",
       "0                             ['COVID', 'worldwide']        2           2  \n",
       "1                                          ['covid']        0           0  \n",
       "2    ['coronavirusoutbreak', 'COVID', 'Coronavid19']        7          12  \n",
       "3                                          ['COVID']        0           0  \n",
       "4  ['COVID19', 'coronavirus', 'COVID', 'Japan', '...        0           0  "
      ]
     },
     "execution_count": 27,
     "metadata": {},
     "output_type": "execute_result"
    }
   ],
   "source": [
    "df.head()"
   ]
  },
  {
   "cell_type": "markdown",
   "metadata": {},
   "source": [
    "# Data Cleaning\n",
    "\n",
    "## Date"
   ]
  },
  {
   "cell_type": "code",
   "execution_count": 28,
   "metadata": {},
   "outputs": [
    {
     "data": {
      "text/plain": [
       "<bound method Series.isna of 0         2020-03-01\n",
       "1         2020-03-01\n",
       "2         2020-03-01\n",
       "3         2020-03-01\n",
       "4         2020-03-01\n",
       "             ...    \n",
       "570814    2021-09-13\n",
       "570815    2021-09-13\n",
       "570816    2021-09-13\n",
       "570817    2021-09-13\n",
       "570818    2021-09-13\n",
       "Name: date, Length: 570819, dtype: object>"
      ]
     },
     "execution_count": 28,
     "metadata": {},
     "output_type": "execute_result"
    }
   ],
   "source": [
    "df.date.isna"
   ]
  },
  {
   "cell_type": "code",
   "execution_count": 29,
   "metadata": {},
   "outputs": [],
   "source": [
    "df.dropna(subset =['date'], inplace=True)"
   ]
  },
  {
   "cell_type": "code",
   "execution_count": 30,
   "metadata": {},
   "outputs": [
    {
     "data": {
      "text/plain": [
       "(570816, 8)"
      ]
     },
     "execution_count": 30,
     "metadata": {},
     "output_type": "execute_result"
    }
   ],
   "source": [
    "df.shape"
   ]
  },
  {
   "cell_type": "code",
   "execution_count": null,
   "metadata": {},
   "outputs": [],
   "source": [
    "# data['date'] = pd.to_datetime(data['date'], errors='coerce').dt.date"
   ]
  },
  {
   "cell_type": "code",
   "execution_count": null,
   "metadata": {},
   "outputs": [],
   "source": [
    "# data1['date'] = pd.to_datetime(data1['date'], errors='coerce').dt.date"
   ]
  },
  {
   "cell_type": "code",
   "execution_count": 31,
   "metadata": {},
   "outputs": [
    {
     "data": {
      "text/plain": [
       "0"
      ]
     },
     "execution_count": 31,
     "metadata": {},
     "output_type": "execute_result"
    }
   ],
   "source": [
    "df.date.isnull().sum()"
   ]
  },
  {
   "cell_type": "code",
   "execution_count": 32,
   "metadata": {},
   "outputs": [
    {
     "data": {
      "text/html": [
       "<div>\n",
       "<style scoped>\n",
       "    .dataframe tbody tr th:only-of-type {\n",
       "        vertical-align: middle;\n",
       "    }\n",
       "\n",
       "    .dataframe tbody tr th {\n",
       "        vertical-align: top;\n",
       "    }\n",
       "\n",
       "    .dataframe thead th {\n",
       "        text-align: right;\n",
       "    }\n",
       "</style>\n",
       "<table border=\"1\" class=\"dataframe\">\n",
       "  <thead>\n",
       "    <tr style=\"text-align: right;\">\n",
       "      <th></th>\n",
       "      <th>user_location</th>\n",
       "      <th>user_followers</th>\n",
       "      <th>user_verified</th>\n",
       "      <th>date</th>\n",
       "      <th>text</th>\n",
       "      <th>hashtags</th>\n",
       "      <th>retweets</th>\n",
       "      <th>likes_count</th>\n",
       "    </tr>\n",
       "  </thead>\n",
       "  <tbody>\n",
       "  </tbody>\n",
       "</table>\n",
       "</div>"
      ],
      "text/plain": [
       "Empty DataFrame\n",
       "Columns: [user_location, user_followers, user_verified, date, text, hashtags, retweets, likes_count]\n",
       "Index: []"
      ]
     },
     "execution_count": 32,
     "metadata": {},
     "output_type": "execute_result"
    }
   ],
   "source": [
    "null_data = df[df.date.isnull()]\n",
    "null_data"
   ]
  },
  {
   "cell_type": "code",
   "execution_count": 40,
   "metadata": {},
   "outputs": [
    {
     "data": {
      "text/html": [
       "<div>\n",
       "<style scoped>\n",
       "    .dataframe tbody tr th:only-of-type {\n",
       "        vertical-align: middle;\n",
       "    }\n",
       "\n",
       "    .dataframe tbody tr th {\n",
       "        vertical-align: top;\n",
       "    }\n",
       "\n",
       "    .dataframe thead th {\n",
       "        text-align: right;\n",
       "    }\n",
       "</style>\n",
       "<table border=\"1\" class=\"dataframe\">\n",
       "  <thead>\n",
       "    <tr style=\"text-align: right;\">\n",
       "      <th></th>\n",
       "      <th>user_location</th>\n",
       "      <th>user_followers</th>\n",
       "      <th>user_verified</th>\n",
       "      <th>date</th>\n",
       "      <th>text</th>\n",
       "      <th>hashtags</th>\n",
       "      <th>retweets</th>\n",
       "      <th>likes_count</th>\n",
       "    </tr>\n",
       "  </thead>\n",
       "  <tbody>\n",
       "    <tr>\n",
       "      <th>0</th>\n",
       "      <td>ประเทศไทย</td>\n",
       "      <td>33</td>\n",
       "      <td>FALSE</td>\n",
       "      <td>2020-03-01</td>\n",
       "      <td>Everyone takes care of their health please.✌🏽😷...</td>\n",
       "      <td>['COVID', 'worldwide']</td>\n",
       "      <td>2</td>\n",
       "      <td>2</td>\n",
       "    </tr>\n",
       "    <tr>\n",
       "      <th>1</th>\n",
       "      <td>Mumbai</td>\n",
       "      <td>370</td>\n",
       "      <td>FALSE</td>\n",
       "      <td>2020-03-01</td>\n",
       "      <td>I landed in Mumbai at midnight and there was a...</td>\n",
       "      <td>['covid']</td>\n",
       "      <td>0</td>\n",
       "      <td>0</td>\n",
       "    </tr>\n",
       "    <tr>\n",
       "      <th>2</th>\n",
       "      <td>Dhaka</td>\n",
       "      <td>57502</td>\n",
       "      <td>FALSE</td>\n",
       "      <td>2020-03-01</td>\n",
       "      <td>Here are the latest developments on the #coron...</td>\n",
       "      <td>['coronavirusoutbreak', 'COVID', 'Coronavid19']</td>\n",
       "      <td>7</td>\n",
       "      <td>12</td>\n",
       "    </tr>\n",
       "    <tr>\n",
       "      <th>3</th>\n",
       "      <td>Dubai, United Arab Emirates</td>\n",
       "      <td>2061</td>\n",
       "      <td>TRUE</td>\n",
       "      <td>2020-03-01</td>\n",
       "      <td>@UltraAbuDhabi @MEFCC to go ahead as scheduled...</td>\n",
       "      <td>['COVID']</td>\n",
       "      <td>0</td>\n",
       "      <td>0</td>\n",
       "    </tr>\n",
       "    <tr>\n",
       "      <th>4</th>\n",
       "      <td>SunnySideOfLife</td>\n",
       "      <td>754</td>\n",
       "      <td>FALSE</td>\n",
       "      <td>2020-03-01</td>\n",
       "      <td>@AbeShinzo request general public to avoid spo...</td>\n",
       "      <td>['COVID19', 'coronavirus', 'COVID', 'Japan', '...</td>\n",
       "      <td>0</td>\n",
       "      <td>0</td>\n",
       "    </tr>\n",
       "    <tr>\n",
       "      <th>...</th>\n",
       "      <td>...</td>\n",
       "      <td>...</td>\n",
       "      <td>...</td>\n",
       "      <td>...</td>\n",
       "      <td>...</td>\n",
       "      <td>...</td>\n",
       "      <td>...</td>\n",
       "      <td>...</td>\n",
       "    </tr>\n",
       "    <tr>\n",
       "      <th>570814</th>\n",
       "      <td>Bengaluru, India</td>\n",
       "      <td>25</td>\n",
       "      <td>False</td>\n",
       "      <td>2021-09-13</td>\n",
       "      <td>18-44 #BBMP #Bengaluru #CovidVaccine Availabil...</td>\n",
       "      <td>['BBMP', 'Bengaluru', 'CovidVaccine', 'COVISHI...</td>\n",
       "      <td>0</td>\n",
       "      <td>1</td>\n",
       "    </tr>\n",
       "    <tr>\n",
       "      <th>570815</th>\n",
       "      <td>Bengaluru, India</td>\n",
       "      <td>25</td>\n",
       "      <td>False</td>\n",
       "      <td>2021-09-13</td>\n",
       "      <td>18-44 #URBAN #Bengaluru #CovidVaccine Availabi...</td>\n",
       "      <td>['URBAN', 'Bengaluru', 'CovidVaccine', 'COVISH...</td>\n",
       "      <td>0</td>\n",
       "      <td>0</td>\n",
       "    </tr>\n",
       "    <tr>\n",
       "      <th>570816</th>\n",
       "      <td>Fremont, CA, USA</td>\n",
       "      <td>670</td>\n",
       "      <td>False</td>\n",
       "      <td>2021-09-13</td>\n",
       "      <td>US Special Envoy for Climate ... - https://t.c...</td>\n",
       "      <td>['IndiaPostUSA']</td>\n",
       "      <td>0</td>\n",
       "      <td>1</td>\n",
       "    </tr>\n",
       "    <tr>\n",
       "      <th>570817</th>\n",
       "      <td>Fremont, CA, USA</td>\n",
       "      <td>670</td>\n",
       "      <td>False</td>\n",
       "      <td>2021-09-13</td>\n",
       "      <td>India's cumulative COVID-19 vaccination covera...</td>\n",
       "      <td>NaN</td>\n",
       "      <td>0</td>\n",
       "      <td>0</td>\n",
       "    </tr>\n",
       "    <tr>\n",
       "      <th>570818</th>\n",
       "      <td>Bengaluru, India</td>\n",
       "      <td>25</td>\n",
       "      <td>False</td>\n",
       "      <td>2021-09-13</td>\n",
       "      <td>45+ #URBAN #Bengaluru #CovidVaccine Availabili...</td>\n",
       "      <td>['URBAN', 'Bengaluru', 'CovidVaccine', 'COVISH...</td>\n",
       "      <td>0</td>\n",
       "      <td>0</td>\n",
       "    </tr>\n",
       "  </tbody>\n",
       "</table>\n",
       "<p>570816 rows × 8 columns</p>\n",
       "</div>"
      ],
      "text/plain": [
       "                       user_location user_followers user_verified        date  \\\n",
       "0                          ประเทศไทย             33         FALSE  2020-03-01   \n",
       "1                             Mumbai            370         FALSE  2020-03-01   \n",
       "2                              Dhaka          57502         FALSE  2020-03-01   \n",
       "3       Dubai, United Arab Emirates            2061          TRUE  2020-03-01   \n",
       "4                    SunnySideOfLife            754         FALSE  2020-03-01   \n",
       "...                              ...            ...           ...         ...   \n",
       "570814              Bengaluru, India             25         False  2021-09-13   \n",
       "570815              Bengaluru, India             25         False  2021-09-13   \n",
       "570816              Fremont, CA, USA            670         False  2021-09-13   \n",
       "570817              Fremont, CA, USA            670         False  2021-09-13   \n",
       "570818              Bengaluru, India             25         False  2021-09-13   \n",
       "\n",
       "                                                     text  \\\n",
       "0       Everyone takes care of their health please.✌🏽😷...   \n",
       "1       I landed in Mumbai at midnight and there was a...   \n",
       "2       Here are the latest developments on the #coron...   \n",
       "3       @UltraAbuDhabi @MEFCC to go ahead as scheduled...   \n",
       "4       @AbeShinzo request general public to avoid spo...   \n",
       "...                                                   ...   \n",
       "570814  18-44 #BBMP #Bengaluru #CovidVaccine Availabil...   \n",
       "570815  18-44 #URBAN #Bengaluru #CovidVaccine Availabi...   \n",
       "570816  US Special Envoy for Climate ... - https://t.c...   \n",
       "570817  India's cumulative COVID-19 vaccination covera...   \n",
       "570818  45+ #URBAN #Bengaluru #CovidVaccine Availabili...   \n",
       "\n",
       "                                                 hashtags retweets likes_count  \n",
       "0                                  ['COVID', 'worldwide']        2           2  \n",
       "1                                               ['covid']        0           0  \n",
       "2         ['coronavirusoutbreak', 'COVID', 'Coronavid19']        7          12  \n",
       "3                                               ['COVID']        0           0  \n",
       "4       ['COVID19', 'coronavirus', 'COVID', 'Japan', '...        0           0  \n",
       "...                                                   ...      ...         ...  \n",
       "570814  ['BBMP', 'Bengaluru', 'CovidVaccine', 'COVISHI...        0           1  \n",
       "570815  ['URBAN', 'Bengaluru', 'CovidVaccine', 'COVISH...        0           0  \n",
       "570816                                   ['IndiaPostUSA']        0           1  \n",
       "570817                                                NaN        0           0  \n",
       "570818  ['URBAN', 'Bengaluru', 'CovidVaccine', 'COVISH...        0           0  \n",
       "\n",
       "[570816 rows x 8 columns]"
      ]
     },
     "execution_count": 40,
     "metadata": {},
     "output_type": "execute_result"
    }
   ],
   "source": [
    "df[pd.notnull(df['date'])]"
   ]
  },
  {
   "cell_type": "code",
   "execution_count": null,
   "metadata": {},
   "outputs": [],
   "source": []
  },
  {
   "cell_type": "code",
   "execution_count": null,
   "metadata": {},
   "outputs": [],
   "source": [
    "df.head()"
   ]
  },
  {
   "cell_type": "markdown",
   "metadata": {},
   "source": [
    "## Location"
   ]
  },
  {
   "cell_type": "code",
   "execution_count": 38,
   "metadata": {},
   "outputs": [
    {
     "data": {
      "text/plain": [
       "0                            ประเทศไทย\n",
       "1                               Mumbai\n",
       "2                                Dhaka\n",
       "3         Dubai, United Arab Emirates \n",
       "4                      SunnySideOfLife\n",
       "                      ...             \n",
       "570814                Bengaluru, India\n",
       "570815                Bengaluru, India\n",
       "570816                Fremont, CA, USA\n",
       "570817                Fremont, CA, USA\n",
       "570818                Bengaluru, India\n",
       "Name: user_location, Length: 570816, dtype: object"
      ]
     },
     "execution_count": 38,
     "metadata": {},
     "output_type": "execute_result"
    }
   ],
   "source": [
    "# Location\n",
    "df.user_location"
   ]
  },
  {
   "cell_type": "code",
   "execution_count": 206,
   "metadata": {},
   "outputs": [],
   "source": [
    "# countries = list(df.user_location)\n",
    "# countries"
   ]
  },
  {
   "cell_type": "code",
   "execution_count": 35,
   "metadata": {},
   "outputs": [
    {
     "name": "stderr",
     "output_type": "stream",
     "text": [
      "[nltk_data] Downloading package words to\n",
      "[nltk_data]     C:\\Users\\ayushjain9\\AppData\\Roaming\\nltk_data...\n",
      "[nltk_data]   Package words is already up-to-date!\n"
     ]
    }
   ],
   "source": [
    "import nltk\n",
    "nltk.download('words')\n",
    "from nltk.corpus import words"
   ]
  },
  {
   "cell_type": "code",
   "execution_count": 36,
   "metadata": {},
   "outputs": [],
   "source": [
    "Word = list(set(words.words()))"
   ]
  },
  {
   "cell_type": "code",
   "execution_count": 43,
   "metadata": {},
   "outputs": [],
   "source": [
    "df = df[df['user_location'].str.contains('|'.join(Word), na = False)]"
   ]
  },
  {
   "cell_type": "code",
   "execution_count": 205,
   "metadata": {},
   "outputs": [],
   "source": [
    "# list(df.user_location)"
   ]
  },
  {
   "cell_type": "code",
   "execution_count": 45,
   "metadata": {},
   "outputs": [
    {
     "data": {
      "text/plain": [
       "(476159, 8)"
      ]
     },
     "execution_count": 45,
     "metadata": {},
     "output_type": "execute_result"
    }
   ],
   "source": [
    "df.shape"
   ]
  },
  {
   "cell_type": "code",
   "execution_count": 46,
   "metadata": {},
   "outputs": [
    {
     "data": {
      "text/html": [
       "<div>\n",
       "<style scoped>\n",
       "    .dataframe tbody tr th:only-of-type {\n",
       "        vertical-align: middle;\n",
       "    }\n",
       "\n",
       "    .dataframe tbody tr th {\n",
       "        vertical-align: top;\n",
       "    }\n",
       "\n",
       "    .dataframe thead th {\n",
       "        text-align: right;\n",
       "    }\n",
       "</style>\n",
       "<table border=\"1\" class=\"dataframe\">\n",
       "  <thead>\n",
       "    <tr style=\"text-align: right;\">\n",
       "      <th></th>\n",
       "      <th>user_location</th>\n",
       "      <th>user_followers</th>\n",
       "      <th>user_verified</th>\n",
       "      <th>date</th>\n",
       "      <th>text</th>\n",
       "      <th>hashtags</th>\n",
       "      <th>retweets</th>\n",
       "      <th>likes_count</th>\n",
       "    </tr>\n",
       "  </thead>\n",
       "  <tbody>\n",
       "    <tr>\n",
       "      <th>1</th>\n",
       "      <td>Mumbai</td>\n",
       "      <td>370</td>\n",
       "      <td>FALSE</td>\n",
       "      <td>2020-03-01</td>\n",
       "      <td>I landed in Mumbai at midnight and there was a...</td>\n",
       "      <td>['covid']</td>\n",
       "      <td>0</td>\n",
       "      <td>0</td>\n",
       "    </tr>\n",
       "    <tr>\n",
       "      <th>2</th>\n",
       "      <td>Dhaka</td>\n",
       "      <td>57502</td>\n",
       "      <td>FALSE</td>\n",
       "      <td>2020-03-01</td>\n",
       "      <td>Here are the latest developments on the #coron...</td>\n",
       "      <td>['coronavirusoutbreak', 'COVID', 'Coronavid19']</td>\n",
       "      <td>7</td>\n",
       "      <td>12</td>\n",
       "    </tr>\n",
       "    <tr>\n",
       "      <th>3</th>\n",
       "      <td>Dubai, United Arab Emirates</td>\n",
       "      <td>2061</td>\n",
       "      <td>TRUE</td>\n",
       "      <td>2020-03-01</td>\n",
       "      <td>@UltraAbuDhabi @MEFCC to go ahead as scheduled...</td>\n",
       "      <td>['COVID']</td>\n",
       "      <td>0</td>\n",
       "      <td>0</td>\n",
       "    </tr>\n",
       "    <tr>\n",
       "      <th>4</th>\n",
       "      <td>SunnySideOfLife</td>\n",
       "      <td>754</td>\n",
       "      <td>FALSE</td>\n",
       "      <td>2020-03-01</td>\n",
       "      <td>@AbeShinzo request general public to avoid spo...</td>\n",
       "      <td>['COVID19', 'coronavirus', 'COVID', 'Japan', '...</td>\n",
       "      <td>0</td>\n",
       "      <td>0</td>\n",
       "    </tr>\n",
       "    <tr>\n",
       "      <th>5</th>\n",
       "      <td>Eheliyagoda, Sri Lanka</td>\n",
       "      <td>850</td>\n",
       "      <td>FALSE</td>\n",
       "      <td>2020-03-01</td>\n",
       "      <td>@warunawijesuriy Hey buddy, I think today #Arm...</td>\n",
       "      <td>['Armenia', 'COVID']</td>\n",
       "      <td>0</td>\n",
       "      <td>0</td>\n",
       "    </tr>\n",
       "  </tbody>\n",
       "</table>\n",
       "</div>"
      ],
      "text/plain": [
       "                  user_location user_followers user_verified        date  \\\n",
       "1                        Mumbai            370         FALSE  2020-03-01   \n",
       "2                         Dhaka          57502         FALSE  2020-03-01   \n",
       "3  Dubai, United Arab Emirates            2061          TRUE  2020-03-01   \n",
       "4               SunnySideOfLife            754         FALSE  2020-03-01   \n",
       "5        Eheliyagoda, Sri Lanka            850         FALSE  2020-03-01   \n",
       "\n",
       "                                                text  \\\n",
       "1  I landed in Mumbai at midnight and there was a...   \n",
       "2  Here are the latest developments on the #coron...   \n",
       "3  @UltraAbuDhabi @MEFCC to go ahead as scheduled...   \n",
       "4  @AbeShinzo request general public to avoid spo...   \n",
       "5  @warunawijesuriy Hey buddy, I think today #Arm...   \n",
       "\n",
       "                                            hashtags retweets likes_count  \n",
       "1                                          ['covid']        0           0  \n",
       "2    ['coronavirusoutbreak', 'COVID', 'Coronavid19']        7          12  \n",
       "3                                          ['COVID']        0           0  \n",
       "4  ['COVID19', 'coronavirus', 'COVID', 'Japan', '...        0           0  \n",
       "5                               ['Armenia', 'COVID']        0           0  "
      ]
     },
     "execution_count": 46,
     "metadata": {},
     "output_type": "execute_result"
    }
   ],
   "source": [
    "df.head()"
   ]
  },
  {
   "cell_type": "code",
   "execution_count": 47,
   "metadata": {},
   "outputs": [],
   "source": [
    "from geotext import GeoText\n",
    "# def find_country(n):\n",
    "#     for c in pycountry.countries:\n",
    "#         if str(c.name).lower() in n.lower():\n",
    "#             return c.name\n",
    "\n",
    "df1 = (df['user_location']\n",
    "      .replace(r\"\\bUSA\\b\", \"United States\", regex=True)\n",
    "      .apply(lambda x: GeoText(x).countries))"
   ]
  },
  {
   "cell_type": "code",
   "execution_count": 48,
   "metadata": {},
   "outputs": [
    {
     "data": {
      "text/plain": [
       "1             []\n",
       "2             []\n",
       "3             []\n",
       "4             []\n",
       "5    [Sri Lanka]\n",
       "Name: user_location, dtype: object"
      ]
     },
     "execution_count": 48,
     "metadata": {},
     "output_type": "execute_result"
    }
   ],
   "source": [
    "df1.head()"
   ]
  },
  {
   "cell_type": "code",
   "execution_count": 49,
   "metadata": {},
   "outputs": [],
   "source": [
    "df2 = (df['user_location']\n",
    "      .replace(r\"\\bUSA\\b\", \"United States\", regex=True)\n",
    "      .apply(lambda x: GeoText(x).cities))"
   ]
  },
  {
   "cell_type": "code",
   "execution_count": 50,
   "metadata": {},
   "outputs": [
    {
     "data": {
      "text/plain": [
       "1    [Mumbai]\n",
       "2     [Dhaka]\n",
       "3     [Dubai]\n",
       "4          []\n",
       "5          []\n",
       "Name: user_location, dtype: object"
      ]
     },
     "execution_count": 50,
     "metadata": {},
     "output_type": "execute_result"
    }
   ],
   "source": [
    "df2.head()"
   ]
  },
  {
   "cell_type": "code",
   "execution_count": 51,
   "metadata": {},
   "outputs": [
    {
     "data": {
      "text/html": [
       "<div>\n",
       "<style scoped>\n",
       "    .dataframe tbody tr th:only-of-type {\n",
       "        vertical-align: middle;\n",
       "    }\n",
       "\n",
       "    .dataframe tbody tr th {\n",
       "        vertical-align: top;\n",
       "    }\n",
       "\n",
       "    .dataframe thead th {\n",
       "        text-align: right;\n",
       "    }\n",
       "</style>\n",
       "<table border=\"1\" class=\"dataframe\">\n",
       "  <thead>\n",
       "    <tr style=\"text-align: right;\">\n",
       "      <th></th>\n",
       "      <th>user_location_x</th>\n",
       "      <th>user_location_y</th>\n",
       "    </tr>\n",
       "  </thead>\n",
       "  <tbody>\n",
       "    <tr>\n",
       "      <th>1</th>\n",
       "      <td>[Mumbai]</td>\n",
       "      <td>[]</td>\n",
       "    </tr>\n",
       "    <tr>\n",
       "      <th>2</th>\n",
       "      <td>[Dhaka]</td>\n",
       "      <td>[]</td>\n",
       "    </tr>\n",
       "    <tr>\n",
       "      <th>3</th>\n",
       "      <td>[Dubai]</td>\n",
       "      <td>[]</td>\n",
       "    </tr>\n",
       "    <tr>\n",
       "      <th>4</th>\n",
       "      <td>[]</td>\n",
       "      <td>[]</td>\n",
       "    </tr>\n",
       "    <tr>\n",
       "      <th>5</th>\n",
       "      <td>[]</td>\n",
       "      <td>[Sri Lanka]</td>\n",
       "    </tr>\n",
       "  </tbody>\n",
       "</table>\n",
       "</div>"
      ],
      "text/plain": [
       "  user_location_x user_location_y\n",
       "1        [Mumbai]              []\n",
       "2         [Dhaka]              []\n",
       "3         [Dubai]              []\n",
       "4              []              []\n",
       "5              []     [Sri Lanka]"
      ]
     },
     "execution_count": 51,
     "metadata": {},
     "output_type": "execute_result"
    }
   ],
   "source": [
    "df3 = pd.merge(df2,df1, left_index=True, right_index=True)\n",
    "df3.head()"
   ]
  },
  {
   "cell_type": "code",
   "execution_count": 52,
   "metadata": {},
   "outputs": [
    {
     "data": {
      "text/html": [
       "<div>\n",
       "<style scoped>\n",
       "    .dataframe tbody tr th:only-of-type {\n",
       "        vertical-align: middle;\n",
       "    }\n",
       "\n",
       "    .dataframe tbody tr th {\n",
       "        vertical-align: top;\n",
       "    }\n",
       "\n",
       "    .dataframe thead th {\n",
       "        text-align: right;\n",
       "    }\n",
       "</style>\n",
       "<table border=\"1\" class=\"dataframe\">\n",
       "  <thead>\n",
       "    <tr style=\"text-align: right;\">\n",
       "      <th></th>\n",
       "      <th>user_location_x</th>\n",
       "      <th>user_location_y</th>\n",
       "      <th>user_location</th>\n",
       "      <th>user_followers</th>\n",
       "      <th>user_verified</th>\n",
       "      <th>date</th>\n",
       "      <th>text</th>\n",
       "      <th>hashtags</th>\n",
       "      <th>retweets</th>\n",
       "      <th>likes_count</th>\n",
       "    </tr>\n",
       "  </thead>\n",
       "  <tbody>\n",
       "    <tr>\n",
       "      <th>1</th>\n",
       "      <td>[Mumbai]</td>\n",
       "      <td>[]</td>\n",
       "      <td>Mumbai</td>\n",
       "      <td>370</td>\n",
       "      <td>FALSE</td>\n",
       "      <td>2020-03-01</td>\n",
       "      <td>I landed in Mumbai at midnight and there was a...</td>\n",
       "      <td>['covid']</td>\n",
       "      <td>0</td>\n",
       "      <td>0</td>\n",
       "    </tr>\n",
       "    <tr>\n",
       "      <th>2</th>\n",
       "      <td>[Dhaka]</td>\n",
       "      <td>[]</td>\n",
       "      <td>Dhaka</td>\n",
       "      <td>57502</td>\n",
       "      <td>FALSE</td>\n",
       "      <td>2020-03-01</td>\n",
       "      <td>Here are the latest developments on the #coron...</td>\n",
       "      <td>['coronavirusoutbreak', 'COVID', 'Coronavid19']</td>\n",
       "      <td>7</td>\n",
       "      <td>12</td>\n",
       "    </tr>\n",
       "    <tr>\n",
       "      <th>3</th>\n",
       "      <td>[Dubai]</td>\n",
       "      <td>[]</td>\n",
       "      <td>Dubai, United Arab Emirates</td>\n",
       "      <td>2061</td>\n",
       "      <td>TRUE</td>\n",
       "      <td>2020-03-01</td>\n",
       "      <td>@UltraAbuDhabi @MEFCC to go ahead as scheduled...</td>\n",
       "      <td>['COVID']</td>\n",
       "      <td>0</td>\n",
       "      <td>0</td>\n",
       "    </tr>\n",
       "    <tr>\n",
       "      <th>4</th>\n",
       "      <td>[]</td>\n",
       "      <td>[]</td>\n",
       "      <td>SunnySideOfLife</td>\n",
       "      <td>754</td>\n",
       "      <td>FALSE</td>\n",
       "      <td>2020-03-01</td>\n",
       "      <td>@AbeShinzo request general public to avoid spo...</td>\n",
       "      <td>['COVID19', 'coronavirus', 'COVID', 'Japan', '...</td>\n",
       "      <td>0</td>\n",
       "      <td>0</td>\n",
       "    </tr>\n",
       "    <tr>\n",
       "      <th>5</th>\n",
       "      <td>[]</td>\n",
       "      <td>[Sri Lanka]</td>\n",
       "      <td>Eheliyagoda, Sri Lanka</td>\n",
       "      <td>850</td>\n",
       "      <td>FALSE</td>\n",
       "      <td>2020-03-01</td>\n",
       "      <td>@warunawijesuriy Hey buddy, I think today #Arm...</td>\n",
       "      <td>['Armenia', 'COVID']</td>\n",
       "      <td>0</td>\n",
       "      <td>0</td>\n",
       "    </tr>\n",
       "  </tbody>\n",
       "</table>\n",
       "</div>"
      ],
      "text/plain": [
       "  user_location_x user_location_y                 user_location  \\\n",
       "1        [Mumbai]              []                        Mumbai   \n",
       "2         [Dhaka]              []                         Dhaka   \n",
       "3         [Dubai]              []  Dubai, United Arab Emirates    \n",
       "4              []              []               SunnySideOfLife   \n",
       "5              []     [Sri Lanka]        Eheliyagoda, Sri Lanka   \n",
       "\n",
       "  user_followers user_verified        date  \\\n",
       "1            370         FALSE  2020-03-01   \n",
       "2          57502         FALSE  2020-03-01   \n",
       "3           2061          TRUE  2020-03-01   \n",
       "4            754         FALSE  2020-03-01   \n",
       "5            850         FALSE  2020-03-01   \n",
       "\n",
       "                                                text  \\\n",
       "1  I landed in Mumbai at midnight and there was a...   \n",
       "2  Here are the latest developments on the #coron...   \n",
       "3  @UltraAbuDhabi @MEFCC to go ahead as scheduled...   \n",
       "4  @AbeShinzo request general public to avoid spo...   \n",
       "5  @warunawijesuriy Hey buddy, I think today #Arm...   \n",
       "\n",
       "                                            hashtags retweets likes_count  \n",
       "1                                          ['covid']        0           0  \n",
       "2    ['coronavirusoutbreak', 'COVID', 'Coronavid19']        7          12  \n",
       "3                                          ['COVID']        0           0  \n",
       "4  ['COVID19', 'coronavirus', 'COVID', 'Japan', '...        0           0  \n",
       "5                               ['Armenia', 'COVID']        0           0  "
      ]
     },
     "execution_count": 52,
     "metadata": {},
     "output_type": "execute_result"
    }
   ],
   "source": [
    "df = pd.merge(df3, df, left_index=True, right_index=True)\n",
    "df.head()"
   ]
  },
  {
   "cell_type": "code",
   "execution_count": 53,
   "metadata": {},
   "outputs": [
    {
     "data": {
      "text/html": [
       "<div>\n",
       "<style scoped>\n",
       "    .dataframe tbody tr th:only-of-type {\n",
       "        vertical-align: middle;\n",
       "    }\n",
       "\n",
       "    .dataframe tbody tr th {\n",
       "        vertical-align: top;\n",
       "    }\n",
       "\n",
       "    .dataframe thead th {\n",
       "        text-align: right;\n",
       "    }\n",
       "</style>\n",
       "<table border=\"1\" class=\"dataframe\">\n",
       "  <thead>\n",
       "    <tr style=\"text-align: right;\">\n",
       "      <th></th>\n",
       "      <th>user_location_x</th>\n",
       "      <th>user_location_y</th>\n",
       "      <th>user_location</th>\n",
       "      <th>user_followers</th>\n",
       "      <th>user_verified</th>\n",
       "      <th>date</th>\n",
       "      <th>text</th>\n",
       "      <th>hashtags</th>\n",
       "      <th>retweets</th>\n",
       "      <th>likes_count</th>\n",
       "    </tr>\n",
       "  </thead>\n",
       "  <tbody>\n",
       "    <tr>\n",
       "      <th>1</th>\n",
       "      <td>Mumbai</td>\n",
       "      <td></td>\n",
       "      <td>Mumbai</td>\n",
       "      <td>370</td>\n",
       "      <td>FALSE</td>\n",
       "      <td>2020-03-01</td>\n",
       "      <td>I landed in Mumbai at midnight and there was a...</td>\n",
       "      <td>['covid']</td>\n",
       "      <td>0</td>\n",
       "      <td>0</td>\n",
       "    </tr>\n",
       "    <tr>\n",
       "      <th>2</th>\n",
       "      <td>Dhaka</td>\n",
       "      <td></td>\n",
       "      <td>Dhaka</td>\n",
       "      <td>57502</td>\n",
       "      <td>FALSE</td>\n",
       "      <td>2020-03-01</td>\n",
       "      <td>Here are the latest developments on the #coron...</td>\n",
       "      <td>['coronavirusoutbreak', 'COVID', 'Coronavid19']</td>\n",
       "      <td>7</td>\n",
       "      <td>12</td>\n",
       "    </tr>\n",
       "    <tr>\n",
       "      <th>3</th>\n",
       "      <td>Dubai</td>\n",
       "      <td></td>\n",
       "      <td>Dubai, United Arab Emirates</td>\n",
       "      <td>2061</td>\n",
       "      <td>TRUE</td>\n",
       "      <td>2020-03-01</td>\n",
       "      <td>@UltraAbuDhabi @MEFCC to go ahead as scheduled...</td>\n",
       "      <td>['COVID']</td>\n",
       "      <td>0</td>\n",
       "      <td>0</td>\n",
       "    </tr>\n",
       "    <tr>\n",
       "      <th>4</th>\n",
       "      <td></td>\n",
       "      <td></td>\n",
       "      <td>SunnySideOfLife</td>\n",
       "      <td>754</td>\n",
       "      <td>FALSE</td>\n",
       "      <td>2020-03-01</td>\n",
       "      <td>@AbeShinzo request general public to avoid spo...</td>\n",
       "      <td>['COVID19', 'coronavirus', 'COVID', 'Japan', '...</td>\n",
       "      <td>0</td>\n",
       "      <td>0</td>\n",
       "    </tr>\n",
       "    <tr>\n",
       "      <th>5</th>\n",
       "      <td></td>\n",
       "      <td>Sri Lanka</td>\n",
       "      <td>Eheliyagoda, Sri Lanka</td>\n",
       "      <td>850</td>\n",
       "      <td>FALSE</td>\n",
       "      <td>2020-03-01</td>\n",
       "      <td>@warunawijesuriy Hey buddy, I think today #Arm...</td>\n",
       "      <td>['Armenia', 'COVID']</td>\n",
       "      <td>0</td>\n",
       "      <td>0</td>\n",
       "    </tr>\n",
       "  </tbody>\n",
       "</table>\n",
       "</div>"
      ],
      "text/plain": [
       "  user_location_x user_location_y                 user_location  \\\n",
       "1          Mumbai                                        Mumbai   \n",
       "2           Dhaka                                         Dhaka   \n",
       "3           Dubai                  Dubai, United Arab Emirates    \n",
       "4                                               SunnySideOfLife   \n",
       "5                       Sri Lanka        Eheliyagoda, Sri Lanka   \n",
       "\n",
       "  user_followers user_verified        date  \\\n",
       "1            370         FALSE  2020-03-01   \n",
       "2          57502         FALSE  2020-03-01   \n",
       "3           2061          TRUE  2020-03-01   \n",
       "4            754         FALSE  2020-03-01   \n",
       "5            850         FALSE  2020-03-01   \n",
       "\n",
       "                                                text  \\\n",
       "1  I landed in Mumbai at midnight and there was a...   \n",
       "2  Here are the latest developments on the #coron...   \n",
       "3  @UltraAbuDhabi @MEFCC to go ahead as scheduled...   \n",
       "4  @AbeShinzo request general public to avoid spo...   \n",
       "5  @warunawijesuriy Hey buddy, I think today #Arm...   \n",
       "\n",
       "                                            hashtags retweets likes_count  \n",
       "1                                          ['covid']        0           0  \n",
       "2    ['coronavirusoutbreak', 'COVID', 'Coronavid19']        7          12  \n",
       "3                                          ['COVID']        0           0  \n",
       "4  ['COVID19', 'coronavirus', 'COVID', 'Japan', '...        0           0  \n",
       "5                               ['Armenia', 'COVID']        0           0  "
      ]
     },
     "execution_count": 53,
     "metadata": {},
     "output_type": "execute_result"
    }
   ],
   "source": [
    "df['user_location_x'] = [','.join(map(str, l)) for l in df['user_location_x']] #List to string\n",
    "df['user_location_y'] = [','.join(map(str, l)) for l in df['user_location_y']]\n",
    "df.head()"
   ]
  },
  {
   "cell_type": "code",
   "execution_count": 54,
   "metadata": {},
   "outputs": [],
   "source": [
    "web = pd.read_csv('https://datahub.io/core/world-cities/r/world-cities.csv')"
   ]
  },
  {
   "cell_type": "code",
   "execution_count": 55,
   "metadata": {},
   "outputs": [
    {
     "data": {
      "text/html": [
       "<div>\n",
       "<style scoped>\n",
       "    .dataframe tbody tr th:only-of-type {\n",
       "        vertical-align: middle;\n",
       "    }\n",
       "\n",
       "    .dataframe tbody tr th {\n",
       "        vertical-align: top;\n",
       "    }\n",
       "\n",
       "    .dataframe thead th {\n",
       "        text-align: right;\n",
       "    }\n",
       "</style>\n",
       "<table border=\"1\" class=\"dataframe\">\n",
       "  <thead>\n",
       "    <tr style=\"text-align: right;\">\n",
       "      <th></th>\n",
       "      <th>name</th>\n",
       "      <th>country</th>\n",
       "      <th>subcountry</th>\n",
       "      <th>geonameid</th>\n",
       "    </tr>\n",
       "  </thead>\n",
       "  <tbody>\n",
       "    <tr>\n",
       "      <th>0</th>\n",
       "      <td>les Escaldes</td>\n",
       "      <td>Andorra</td>\n",
       "      <td>Escaldes-Engordany</td>\n",
       "      <td>3040051</td>\n",
       "    </tr>\n",
       "    <tr>\n",
       "      <th>1</th>\n",
       "      <td>Andorra la Vella</td>\n",
       "      <td>Andorra</td>\n",
       "      <td>Andorra la Vella</td>\n",
       "      <td>3041563</td>\n",
       "    </tr>\n",
       "    <tr>\n",
       "      <th>2</th>\n",
       "      <td>Umm al Qaywayn</td>\n",
       "      <td>United Arab Emirates</td>\n",
       "      <td>Umm al Qaywayn</td>\n",
       "      <td>290594</td>\n",
       "    </tr>\n",
       "    <tr>\n",
       "      <th>3</th>\n",
       "      <td>Ras al-Khaimah</td>\n",
       "      <td>United Arab Emirates</td>\n",
       "      <td>Raʼs al Khaymah</td>\n",
       "      <td>291074</td>\n",
       "    </tr>\n",
       "    <tr>\n",
       "      <th>4</th>\n",
       "      <td>Khawr Fakkān</td>\n",
       "      <td>United Arab Emirates</td>\n",
       "      <td>Ash Shāriqah</td>\n",
       "      <td>291696</td>\n",
       "    </tr>\n",
       "  </tbody>\n",
       "</table>\n",
       "</div>"
      ],
      "text/plain": [
       "               name               country          subcountry  geonameid\n",
       "0      les Escaldes               Andorra  Escaldes-Engordany    3040051\n",
       "1  Andorra la Vella               Andorra    Andorra la Vella    3041563\n",
       "2    Umm al Qaywayn  United Arab Emirates      Umm al Qaywayn     290594\n",
       "3    Ras al-Khaimah  United Arab Emirates     Raʼs al Khaymah     291074\n",
       "4      Khawr Fakkān  United Arab Emirates        Ash Shāriqah     291696"
      ]
     },
     "execution_count": 55,
     "metadata": {},
     "output_type": "execute_result"
    }
   ],
   "source": [
    "web.head()"
   ]
  },
  {
   "cell_type": "code",
   "execution_count": 56,
   "metadata": {},
   "outputs": [
    {
     "data": {
      "text/plain": [
       "0            les escaldes\n",
       "1        andorra la vella\n",
       "2          umm al qaywayn\n",
       "3          ras al-khaimah\n",
       "4            khawr fakkān\n",
       "               ...       \n",
       "23013            bulawayo\n",
       "23014             bindura\n",
       "23015          beitbridge\n",
       "23016             epworth\n",
       "23017         chitungwiza\n",
       "Name: name, Length: 23018, dtype: object"
      ]
     },
     "execution_count": 56,
     "metadata": {},
     "output_type": "execute_result"
    }
   ],
   "source": [
    "web['name'].str.lower()"
   ]
  },
  {
   "cell_type": "code",
   "execution_count": 57,
   "metadata": {},
   "outputs": [
    {
     "data": {
      "text/plain": [
       "1                      \n",
       "2                      \n",
       "3                      \n",
       "4                      \n",
       "5             sri lanka\n",
       "              ...      \n",
       "570814            india\n",
       "570815            india\n",
       "570816    united states\n",
       "570817    united states\n",
       "570818            india\n",
       "Name: user_location_y, Length: 476159, dtype: object"
      ]
     },
     "execution_count": 57,
     "metadata": {},
     "output_type": "execute_result"
    }
   ],
   "source": [
    "df['user_location_y'].str.lower()"
   ]
  },
  {
   "cell_type": "code",
   "execution_count": 171,
   "metadata": {},
   "outputs": [],
   "source": [
    "df_final = df.merge(web, how = 'left', left_on='user_location_x', right_on='name')[['user_location_x', 'user_location_y', 'user_location', 'name','country',\n",
    "'subcountry','user_followers','user_verified','date','text','hashtags',\n",
    "'retweets','likes_count']]"
   ]
  },
  {
   "cell_type": "code",
   "execution_count": 172,
   "metadata": {},
   "outputs": [
    {
     "data": {
      "text/plain": [
       "(596927, 13)"
      ]
     },
     "execution_count": 172,
     "metadata": {},
     "output_type": "execute_result"
    }
   ],
   "source": [
    "df_final.shape"
   ]
  },
  {
   "cell_type": "code",
   "execution_count": 173,
   "metadata": {},
   "outputs": [
    {
     "data": {
      "text/html": [
       "<div>\n",
       "<style scoped>\n",
       "    .dataframe tbody tr th:only-of-type {\n",
       "        vertical-align: middle;\n",
       "    }\n",
       "\n",
       "    .dataframe tbody tr th {\n",
       "        vertical-align: top;\n",
       "    }\n",
       "\n",
       "    .dataframe thead th {\n",
       "        text-align: right;\n",
       "    }\n",
       "</style>\n",
       "<table border=\"1\" class=\"dataframe\">\n",
       "  <thead>\n",
       "    <tr style=\"text-align: right;\">\n",
       "      <th></th>\n",
       "      <th>user_location_x</th>\n",
       "      <th>user_location_y</th>\n",
       "      <th>user_location</th>\n",
       "      <th>name</th>\n",
       "      <th>country</th>\n",
       "      <th>subcountry</th>\n",
       "      <th>user_followers</th>\n",
       "      <th>user_verified</th>\n",
       "      <th>date</th>\n",
       "      <th>text</th>\n",
       "      <th>hashtags</th>\n",
       "      <th>retweets</th>\n",
       "      <th>likes_count</th>\n",
       "    </tr>\n",
       "  </thead>\n",
       "  <tbody>\n",
       "    <tr>\n",
       "      <th>0</th>\n",
       "      <td>Mumbai</td>\n",
       "      <td></td>\n",
       "      <td>Mumbai</td>\n",
       "      <td>Mumbai</td>\n",
       "      <td>India</td>\n",
       "      <td>Maharashtra</td>\n",
       "      <td>370</td>\n",
       "      <td>FALSE</td>\n",
       "      <td>2020-03-01</td>\n",
       "      <td>I landed in Mumbai at midnight and there was absolutely no thermal scan or temperature check. #covid</td>\n",
       "      <td>['covid']</td>\n",
       "      <td>0</td>\n",
       "      <td>0</td>\n",
       "    </tr>\n",
       "    <tr>\n",
       "      <th>1</th>\n",
       "      <td>Dhaka</td>\n",
       "      <td></td>\n",
       "      <td>Dhaka</td>\n",
       "      <td>Dhaka</td>\n",
       "      <td>Bangladesh</td>\n",
       "      <td>Dhaka</td>\n",
       "      <td>57502</td>\n",
       "      <td>FALSE</td>\n",
       "      <td>2020-03-01</td>\n",
       "      <td>Here are the latest developments on the #coronavirusoutbreak:\\n\\n-A boom of cases in Italy, Iran and the U.K.\\n-Italy to spend $4B on coronavirus fight\\n-New York gets OK to develop its own coronavirus test\\n\\n#COVID #Coronavid19 https://t.co/t9I7scIuNi</td>\n",
       "      <td>['coronavirusoutbreak', 'COVID', 'Coronavid19']</td>\n",
       "      <td>7</td>\n",
       "      <td>12</td>\n",
       "    </tr>\n",
       "    <tr>\n",
       "      <th>2</th>\n",
       "      <td>Dubai</td>\n",
       "      <td></td>\n",
       "      <td>Dubai, United Arab Emirates</td>\n",
       "      <td>Dubai</td>\n",
       "      <td>United Arab Emirates</td>\n",
       "      <td>Dubai</td>\n",
       "      <td>2061</td>\n",
       "      <td>TRUE</td>\n",
       "      <td>2020-03-01</td>\n",
       "      <td>@UltraAbuDhabi @MEFCC to go ahead as scheduled. @DJmag Middle East stands cancelled. Experts give their valuable advice on safety protocols at massive events! #COVID https://t.co/0XVKPI4Hb3</td>\n",
       "      <td>['COVID']</td>\n",
       "      <td>0</td>\n",
       "      <td>0</td>\n",
       "    </tr>\n",
       "    <tr>\n",
       "      <th>3</th>\n",
       "      <td></td>\n",
       "      <td></td>\n",
       "      <td>SunnySideOfLife</td>\n",
       "      <td>NaN</td>\n",
       "      <td>NaN</td>\n",
       "      <td>NaN</td>\n",
       "      <td>754</td>\n",
       "      <td>FALSE</td>\n",
       "      <td>2020-03-01</td>\n",
       "      <td>@AbeShinzo request general public to avoid sports Gym and Buffet restaurants #COVID19 #coronavirus #COVID #Japan  #コロナウイルス https://t.co/VOGqTEFtiU</td>\n",
       "      <td>['COVID19', 'coronavirus', 'COVID', 'Japan', 'コロナウイルス']</td>\n",
       "      <td>0</td>\n",
       "      <td>0</td>\n",
       "    </tr>\n",
       "    <tr>\n",
       "      <th>4</th>\n",
       "      <td></td>\n",
       "      <td>Sri Lanka</td>\n",
       "      <td>Eheliyagoda, Sri Lanka</td>\n",
       "      <td>NaN</td>\n",
       "      <td>NaN</td>\n",
       "      <td>NaN</td>\n",
       "      <td>850</td>\n",
       "      <td>FALSE</td>\n",
       "      <td>2020-03-01</td>\n",
       "      <td>@warunawijesuriy Hey buddy, I think today #Armenia  Records his first patient who suffered #COVID</td>\n",
       "      <td>['Armenia', 'COVID']</td>\n",
       "      <td>0</td>\n",
       "      <td>0</td>\n",
       "    </tr>\n",
       "  </tbody>\n",
       "</table>\n",
       "</div>"
      ],
      "text/plain": [
       "  user_location_x user_location_y                 user_location    name  \\\n",
       "0          Mumbai                                        Mumbai  Mumbai   \n",
       "1           Dhaka                                         Dhaka   Dhaka   \n",
       "2           Dubai                  Dubai, United Arab Emirates    Dubai   \n",
       "3                                               SunnySideOfLife     NaN   \n",
       "4                       Sri Lanka        Eheliyagoda, Sri Lanka     NaN   \n",
       "\n",
       "                country   subcountry user_followers user_verified        date  \\\n",
       "0                 India  Maharashtra            370         FALSE  2020-03-01   \n",
       "1            Bangladesh        Dhaka          57502         FALSE  2020-03-01   \n",
       "2  United Arab Emirates        Dubai           2061          TRUE  2020-03-01   \n",
       "3                   NaN          NaN            754         FALSE  2020-03-01   \n",
       "4                   NaN          NaN            850         FALSE  2020-03-01   \n",
       "\n",
       "                                                                                                                                                                                                                                                            text  \\\n",
       "0                                                                                                                                                           I landed in Mumbai at midnight and there was absolutely no thermal scan or temperature check. #covid   \n",
       "1  Here are the latest developments on the #coronavirusoutbreak:\\n\\n-A boom of cases in Italy, Iran and the U.K.\\n-Italy to spend $4B on coronavirus fight\\n-New York gets OK to develop its own coronavirus test\\n\\n#COVID #Coronavid19 https://t.co/t9I7scIuNi   \n",
       "2                                                                  @UltraAbuDhabi @MEFCC to go ahead as scheduled. @DJmag Middle East stands cancelled. Experts give their valuable advice on safety protocols at massive events! #COVID https://t.co/0XVKPI4Hb3   \n",
       "3                                                                                                             @AbeShinzo request general public to avoid sports Gym and Buffet restaurants #COVID19 #coronavirus #COVID #Japan  #コロナウイルス https://t.co/VOGqTEFtiU   \n",
       "4                                                                                                                                                              @warunawijesuriy Hey buddy, I think today #Armenia  Records his first patient who suffered #COVID   \n",
       "\n",
       "                                                  hashtags retweets  \\\n",
       "0                                                ['covid']        0   \n",
       "1          ['coronavirusoutbreak', 'COVID', 'Coronavid19']        7   \n",
       "2                                                ['COVID']        0   \n",
       "3  ['COVID19', 'coronavirus', 'COVID', 'Japan', 'コロナウイルス']        0   \n",
       "4                                     ['Armenia', 'COVID']        0   \n",
       "\n",
       "  likes_count  \n",
       "0           0  \n",
       "1          12  \n",
       "2           0  \n",
       "3           0  \n",
       "4           0  "
      ]
     },
     "execution_count": 173,
     "metadata": {},
     "output_type": "execute_result"
    }
   ],
   "source": [
    "df_final.head()"
   ]
  },
  {
   "cell_type": "code",
   "execution_count": 174,
   "metadata": {},
   "outputs": [
    {
     "data": {
      "text/html": [
       "<div>\n",
       "<style scoped>\n",
       "    .dataframe tbody tr th:only-of-type {\n",
       "        vertical-align: middle;\n",
       "    }\n",
       "\n",
       "    .dataframe tbody tr th {\n",
       "        vertical-align: top;\n",
       "    }\n",
       "\n",
       "    .dataframe thead th {\n",
       "        text-align: right;\n",
       "    }\n",
       "</style>\n",
       "<table border=\"1\" class=\"dataframe\">\n",
       "  <thead>\n",
       "    <tr style=\"text-align: right;\">\n",
       "      <th></th>\n",
       "      <th>user_location_x</th>\n",
       "      <th>user_location_y</th>\n",
       "      <th>user_location</th>\n",
       "      <th>name</th>\n",
       "      <th>country</th>\n",
       "      <th>subcountry</th>\n",
       "      <th>user_followers</th>\n",
       "      <th>user_verified</th>\n",
       "      <th>date</th>\n",
       "      <th>text</th>\n",
       "      <th>hashtags</th>\n",
       "      <th>retweets</th>\n",
       "      <th>likes_count</th>\n",
       "    </tr>\n",
       "  </thead>\n",
       "  <tbody>\n",
       "    <tr>\n",
       "      <th>0</th>\n",
       "      <td>Mumbai</td>\n",
       "      <td></td>\n",
       "      <td>Mumbai</td>\n",
       "      <td>Mumbai</td>\n",
       "      <td>India</td>\n",
       "      <td>Maharashtra</td>\n",
       "      <td>370</td>\n",
       "      <td>FALSE</td>\n",
       "      <td>2020-03-01</td>\n",
       "      <td>I landed in Mumbai at midnight and there was absolutely no thermal scan or temperature check. #covid</td>\n",
       "      <td>['covid']</td>\n",
       "      <td>0</td>\n",
       "      <td>0</td>\n",
       "    </tr>\n",
       "    <tr>\n",
       "      <th>1</th>\n",
       "      <td>Dhaka</td>\n",
       "      <td></td>\n",
       "      <td>Dhaka</td>\n",
       "      <td>Dhaka</td>\n",
       "      <td>Bangladesh</td>\n",
       "      <td>Dhaka</td>\n",
       "      <td>57502</td>\n",
       "      <td>FALSE</td>\n",
       "      <td>2020-03-01</td>\n",
       "      <td>Here are the latest developments on the #coronavirusoutbreak:\\n\\n-A boom of cases in Italy, Iran and the U.K.\\n-Italy to spend $4B on coronavirus fight\\n-New York gets OK to develop its own coronavirus test\\n\\n#COVID #Coronavid19 https://t.co/t9I7scIuNi</td>\n",
       "      <td>['coronavirusoutbreak', 'COVID', 'Coronavid19']</td>\n",
       "      <td>7</td>\n",
       "      <td>12</td>\n",
       "    </tr>\n",
       "    <tr>\n",
       "      <th>2</th>\n",
       "      <td>Dubai</td>\n",
       "      <td></td>\n",
       "      <td>Dubai, United Arab Emirates</td>\n",
       "      <td>Dubai</td>\n",
       "      <td>United Arab Emirates</td>\n",
       "      <td>Dubai</td>\n",
       "      <td>2061</td>\n",
       "      <td>TRUE</td>\n",
       "      <td>2020-03-01</td>\n",
       "      <td>@UltraAbuDhabi @MEFCC to go ahead as scheduled. @DJmag Middle East stands cancelled. Experts give their valuable advice on safety protocols at massive events! #COVID https://t.co/0XVKPI4Hb3</td>\n",
       "      <td>['COVID']</td>\n",
       "      <td>0</td>\n",
       "      <td>0</td>\n",
       "    </tr>\n",
       "    <tr>\n",
       "      <th>3</th>\n",
       "      <td></td>\n",
       "      <td></td>\n",
       "      <td>SunnySideOfLife</td>\n",
       "      <td>NaN</td>\n",
       "      <td></td>\n",
       "      <td>NaN</td>\n",
       "      <td>754</td>\n",
       "      <td>FALSE</td>\n",
       "      <td>2020-03-01</td>\n",
       "      <td>@AbeShinzo request general public to avoid sports Gym and Buffet restaurants #COVID19 #coronavirus #COVID #Japan  #コロナウイルス https://t.co/VOGqTEFtiU</td>\n",
       "      <td>['COVID19', 'coronavirus', 'COVID', 'Japan', 'コロナウイルス']</td>\n",
       "      <td>0</td>\n",
       "      <td>0</td>\n",
       "    </tr>\n",
       "    <tr>\n",
       "      <th>4</th>\n",
       "      <td></td>\n",
       "      <td>Sri Lanka</td>\n",
       "      <td>Eheliyagoda, Sri Lanka</td>\n",
       "      <td>NaN</td>\n",
       "      <td>Sri Lanka</td>\n",
       "      <td>NaN</td>\n",
       "      <td>850</td>\n",
       "      <td>FALSE</td>\n",
       "      <td>2020-03-01</td>\n",
       "      <td>@warunawijesuriy Hey buddy, I think today #Armenia  Records his first patient who suffered #COVID</td>\n",
       "      <td>['Armenia', 'COVID']</td>\n",
       "      <td>0</td>\n",
       "      <td>0</td>\n",
       "    </tr>\n",
       "  </tbody>\n",
       "</table>\n",
       "</div>"
      ],
      "text/plain": [
       "  user_location_x user_location_y                 user_location    name  \\\n",
       "0          Mumbai                                        Mumbai  Mumbai   \n",
       "1           Dhaka                                         Dhaka   Dhaka   \n",
       "2           Dubai                  Dubai, United Arab Emirates    Dubai   \n",
       "3                                               SunnySideOfLife     NaN   \n",
       "4                       Sri Lanka        Eheliyagoda, Sri Lanka     NaN   \n",
       "\n",
       "                country   subcountry user_followers user_verified        date  \\\n",
       "0                 India  Maharashtra            370         FALSE  2020-03-01   \n",
       "1            Bangladesh        Dhaka          57502         FALSE  2020-03-01   \n",
       "2  United Arab Emirates        Dubai           2061          TRUE  2020-03-01   \n",
       "3                                NaN            754         FALSE  2020-03-01   \n",
       "4             Sri Lanka          NaN            850         FALSE  2020-03-01   \n",
       "\n",
       "                                                                                                                                                                                                                                                            text  \\\n",
       "0                                                                                                                                                           I landed in Mumbai at midnight and there was absolutely no thermal scan or temperature check. #covid   \n",
       "1  Here are the latest developments on the #coronavirusoutbreak:\\n\\n-A boom of cases in Italy, Iran and the U.K.\\n-Italy to spend $4B on coronavirus fight\\n-New York gets OK to develop its own coronavirus test\\n\\n#COVID #Coronavid19 https://t.co/t9I7scIuNi   \n",
       "2                                                                  @UltraAbuDhabi @MEFCC to go ahead as scheduled. @DJmag Middle East stands cancelled. Experts give their valuable advice on safety protocols at massive events! #COVID https://t.co/0XVKPI4Hb3   \n",
       "3                                                                                                             @AbeShinzo request general public to avoid sports Gym and Buffet restaurants #COVID19 #coronavirus #COVID #Japan  #コロナウイルス https://t.co/VOGqTEFtiU   \n",
       "4                                                                                                                                                              @warunawijesuriy Hey buddy, I think today #Armenia  Records his first patient who suffered #COVID   \n",
       "\n",
       "                                                  hashtags retweets  \\\n",
       "0                                                ['covid']        0   \n",
       "1          ['coronavirusoutbreak', 'COVID', 'Coronavid19']        7   \n",
       "2                                                ['COVID']        0   \n",
       "3  ['COVID19', 'coronavirus', 'COVID', 'Japan', 'コロナウイルス']        0   \n",
       "4                                     ['Armenia', 'COVID']        0   \n",
       "\n",
       "  likes_count  \n",
       "0           0  \n",
       "1          12  \n",
       "2           0  \n",
       "3           0  \n",
       "4           0  "
      ]
     },
     "execution_count": 174,
     "metadata": {},
     "output_type": "execute_result"
    }
   ],
   "source": [
    "# Filling NAN of country by User_location_y\n",
    "df_final.country.fillna(df_final.user_location_y, inplace = True)\n",
    "df_final.head()"
   ]
  },
  {
   "cell_type": "code",
   "execution_count": 175,
   "metadata": {},
   "outputs": [],
   "source": [
    "df_final = df_final.drop(['user_location_x','user_location_y','user_location','name'], axis =1)"
   ]
  },
  {
   "cell_type": "code",
   "execution_count": 176,
   "metadata": {},
   "outputs": [
    {
     "data": {
      "text/plain": [
       "0"
      ]
     },
     "execution_count": 176,
     "metadata": {},
     "output_type": "execute_result"
    }
   ],
   "source": [
    "df_final.country.isnull().sum()"
   ]
  },
  {
   "cell_type": "code",
   "execution_count": 177,
   "metadata": {},
   "outputs": [
    {
     "data": {
      "text/html": [
       "<div>\n",
       "<style scoped>\n",
       "    .dataframe tbody tr th:only-of-type {\n",
       "        vertical-align: middle;\n",
       "    }\n",
       "\n",
       "    .dataframe tbody tr th {\n",
       "        vertical-align: top;\n",
       "    }\n",
       "\n",
       "    .dataframe thead th {\n",
       "        text-align: right;\n",
       "    }\n",
       "</style>\n",
       "<table border=\"1\" class=\"dataframe\">\n",
       "  <thead>\n",
       "    <tr style=\"text-align: right;\">\n",
       "      <th></th>\n",
       "      <th>country</th>\n",
       "      <th>subcountry</th>\n",
       "      <th>user_followers</th>\n",
       "      <th>user_verified</th>\n",
       "      <th>date</th>\n",
       "      <th>text</th>\n",
       "      <th>hashtags</th>\n",
       "      <th>retweets</th>\n",
       "      <th>likes_count</th>\n",
       "    </tr>\n",
       "  </thead>\n",
       "  <tbody>\n",
       "    <tr>\n",
       "      <th>0</th>\n",
       "      <td>India</td>\n",
       "      <td>Maharashtra</td>\n",
       "      <td>370</td>\n",
       "      <td>FALSE</td>\n",
       "      <td>2020-03-01</td>\n",
       "      <td>I landed in Mumbai at midnight and there was absolutely no thermal scan or temperature check. #covid</td>\n",
       "      <td>['covid']</td>\n",
       "      <td>0</td>\n",
       "      <td>0</td>\n",
       "    </tr>\n",
       "    <tr>\n",
       "      <th>1</th>\n",
       "      <td>Bangladesh</td>\n",
       "      <td>Dhaka</td>\n",
       "      <td>57502</td>\n",
       "      <td>FALSE</td>\n",
       "      <td>2020-03-01</td>\n",
       "      <td>Here are the latest developments on the #coronavirusoutbreak:\\n\\n-A boom of cases in Italy, Iran and the U.K.\\n-Italy to spend $4B on coronavirus fight\\n-New York gets OK to develop its own coronavirus test\\n\\n#COVID #Coronavid19 https://t.co/t9I7scIuNi</td>\n",
       "      <td>['coronavirusoutbreak', 'COVID', 'Coronavid19']</td>\n",
       "      <td>7</td>\n",
       "      <td>12</td>\n",
       "    </tr>\n",
       "    <tr>\n",
       "      <th>2</th>\n",
       "      <td>United Arab Emirates</td>\n",
       "      <td>Dubai</td>\n",
       "      <td>2061</td>\n",
       "      <td>TRUE</td>\n",
       "      <td>2020-03-01</td>\n",
       "      <td>@UltraAbuDhabi @MEFCC to go ahead as scheduled. @DJmag Middle East stands cancelled. Experts give their valuable advice on safety protocols at massive events! #COVID https://t.co/0XVKPI4Hb3</td>\n",
       "      <td>['COVID']</td>\n",
       "      <td>0</td>\n",
       "      <td>0</td>\n",
       "    </tr>\n",
       "    <tr>\n",
       "      <th>3</th>\n",
       "      <td></td>\n",
       "      <td>NaN</td>\n",
       "      <td>754</td>\n",
       "      <td>FALSE</td>\n",
       "      <td>2020-03-01</td>\n",
       "      <td>@AbeShinzo request general public to avoid sports Gym and Buffet restaurants #COVID19 #coronavirus #COVID #Japan  #コロナウイルス https://t.co/VOGqTEFtiU</td>\n",
       "      <td>['COVID19', 'coronavirus', 'COVID', 'Japan', 'コロナウイルス']</td>\n",
       "      <td>0</td>\n",
       "      <td>0</td>\n",
       "    </tr>\n",
       "    <tr>\n",
       "      <th>4</th>\n",
       "      <td>Sri Lanka</td>\n",
       "      <td>NaN</td>\n",
       "      <td>850</td>\n",
       "      <td>FALSE</td>\n",
       "      <td>2020-03-01</td>\n",
       "      <td>@warunawijesuriy Hey buddy, I think today #Armenia  Records his first patient who suffered #COVID</td>\n",
       "      <td>['Armenia', 'COVID']</td>\n",
       "      <td>0</td>\n",
       "      <td>0</td>\n",
       "    </tr>\n",
       "  </tbody>\n",
       "</table>\n",
       "</div>"
      ],
      "text/plain": [
       "                country   subcountry user_followers user_verified        date  \\\n",
       "0                 India  Maharashtra            370         FALSE  2020-03-01   \n",
       "1            Bangladesh        Dhaka          57502         FALSE  2020-03-01   \n",
       "2  United Arab Emirates        Dubai           2061          TRUE  2020-03-01   \n",
       "3                                NaN            754         FALSE  2020-03-01   \n",
       "4             Sri Lanka          NaN            850         FALSE  2020-03-01   \n",
       "\n",
       "                                                                                                                                                                                                                                                            text  \\\n",
       "0                                                                                                                                                           I landed in Mumbai at midnight and there was absolutely no thermal scan or temperature check. #covid   \n",
       "1  Here are the latest developments on the #coronavirusoutbreak:\\n\\n-A boom of cases in Italy, Iran and the U.K.\\n-Italy to spend $4B on coronavirus fight\\n-New York gets OK to develop its own coronavirus test\\n\\n#COVID #Coronavid19 https://t.co/t9I7scIuNi   \n",
       "2                                                                  @UltraAbuDhabi @MEFCC to go ahead as scheduled. @DJmag Middle East stands cancelled. Experts give their valuable advice on safety protocols at massive events! #COVID https://t.co/0XVKPI4Hb3   \n",
       "3                                                                                                             @AbeShinzo request general public to avoid sports Gym and Buffet restaurants #COVID19 #coronavirus #COVID #Japan  #コロナウイルス https://t.co/VOGqTEFtiU   \n",
       "4                                                                                                                                                              @warunawijesuriy Hey buddy, I think today #Armenia  Records his first patient who suffered #COVID   \n",
       "\n",
       "                                                  hashtags retweets  \\\n",
       "0                                                ['covid']        0   \n",
       "1          ['coronavirusoutbreak', 'COVID', 'Coronavid19']        7   \n",
       "2                                                ['COVID']        0   \n",
       "3  ['COVID19', 'coronavirus', 'COVID', 'Japan', 'コロナウイルス']        0   \n",
       "4                                     ['Armenia', 'COVID']        0   \n",
       "\n",
       "  likes_count  \n",
       "0           0  \n",
       "1          12  \n",
       "2           0  \n",
       "3           0  \n",
       "4           0  "
      ]
     },
     "execution_count": 177,
     "metadata": {},
     "output_type": "execute_result"
    }
   ],
   "source": [
    "df_final.head()"
   ]
  },
  {
   "cell_type": "code",
   "execution_count": 178,
   "metadata": {},
   "outputs": [],
   "source": [
    "import numpy as np\n",
    "df_final['country'].replace('', np.nan, inplace=True)"
   ]
  },
  {
   "cell_type": "code",
   "execution_count": 179,
   "metadata": {},
   "outputs": [],
   "source": [
    "df_final.dropna(subset=['country'], inplace=True)"
   ]
  },
  {
   "cell_type": "code",
   "execution_count": 180,
   "metadata": {},
   "outputs": [
    {
     "data": {
      "text/html": [
       "<div>\n",
       "<style scoped>\n",
       "    .dataframe tbody tr th:only-of-type {\n",
       "        vertical-align: middle;\n",
       "    }\n",
       "\n",
       "    .dataframe tbody tr th {\n",
       "        vertical-align: top;\n",
       "    }\n",
       "\n",
       "    .dataframe thead th {\n",
       "        text-align: right;\n",
       "    }\n",
       "</style>\n",
       "<table border=\"1\" class=\"dataframe\">\n",
       "  <thead>\n",
       "    <tr style=\"text-align: right;\">\n",
       "      <th></th>\n",
       "      <th>country</th>\n",
       "      <th>subcountry</th>\n",
       "      <th>user_followers</th>\n",
       "      <th>user_verified</th>\n",
       "      <th>date</th>\n",
       "      <th>text</th>\n",
       "      <th>hashtags</th>\n",
       "      <th>retweets</th>\n",
       "      <th>likes_count</th>\n",
       "    </tr>\n",
       "  </thead>\n",
       "  <tbody>\n",
       "    <tr>\n",
       "      <th>0</th>\n",
       "      <td>India</td>\n",
       "      <td>Maharashtra</td>\n",
       "      <td>370</td>\n",
       "      <td>FALSE</td>\n",
       "      <td>2020-03-01</td>\n",
       "      <td>I landed in Mumbai at midnight and there was absolutely no thermal scan or temperature check. #covid</td>\n",
       "      <td>['covid']</td>\n",
       "      <td>0</td>\n",
       "      <td>0</td>\n",
       "    </tr>\n",
       "    <tr>\n",
       "      <th>1</th>\n",
       "      <td>Bangladesh</td>\n",
       "      <td>Dhaka</td>\n",
       "      <td>57502</td>\n",
       "      <td>FALSE</td>\n",
       "      <td>2020-03-01</td>\n",
       "      <td>Here are the latest developments on the #coronavirusoutbreak:\\n\\n-A boom of cases in Italy, Iran and the U.K.\\n-Italy to spend $4B on coronavirus fight\\n-New York gets OK to develop its own coronavirus test\\n\\n#COVID #Coronavid19 https://t.co/t9I7scIuNi</td>\n",
       "      <td>['coronavirusoutbreak', 'COVID', 'Coronavid19']</td>\n",
       "      <td>7</td>\n",
       "      <td>12</td>\n",
       "    </tr>\n",
       "    <tr>\n",
       "      <th>2</th>\n",
       "      <td>United Arab Emirates</td>\n",
       "      <td>Dubai</td>\n",
       "      <td>2061</td>\n",
       "      <td>TRUE</td>\n",
       "      <td>2020-03-01</td>\n",
       "      <td>@UltraAbuDhabi @MEFCC to go ahead as scheduled. @DJmag Middle East stands cancelled. Experts give their valuable advice on safety protocols at massive events! #COVID https://t.co/0XVKPI4Hb3</td>\n",
       "      <td>['COVID']</td>\n",
       "      <td>0</td>\n",
       "      <td>0</td>\n",
       "    </tr>\n",
       "    <tr>\n",
       "      <th>4</th>\n",
       "      <td>Sri Lanka</td>\n",
       "      <td>NaN</td>\n",
       "      <td>850</td>\n",
       "      <td>FALSE</td>\n",
       "      <td>2020-03-01</td>\n",
       "      <td>@warunawijesuriy Hey buddy, I think today #Armenia  Records his first patient who suffered #COVID</td>\n",
       "      <td>['Armenia', 'COVID']</td>\n",
       "      <td>0</td>\n",
       "      <td>0</td>\n",
       "    </tr>\n",
       "    <tr>\n",
       "      <th>5</th>\n",
       "      <td>India</td>\n",
       "      <td>NCT</td>\n",
       "      <td>908</td>\n",
       "      <td>FALSE</td>\n",
       "      <td>2020-03-01</td>\n",
       "      <td>This is what keeps India alive..\\n#Section144\\n#SundayMotivation\\n#COVID\\nhttps://t.co/eD05WlkXQB</td>\n",
       "      <td>['Section144', 'SundayMotivation', 'COVID']</td>\n",
       "      <td>1</td>\n",
       "      <td>2</td>\n",
       "    </tr>\n",
       "  </tbody>\n",
       "</table>\n",
       "</div>"
      ],
      "text/plain": [
       "                country   subcountry user_followers user_verified        date  \\\n",
       "0                 India  Maharashtra            370         FALSE  2020-03-01   \n",
       "1            Bangladesh        Dhaka          57502         FALSE  2020-03-01   \n",
       "2  United Arab Emirates        Dubai           2061          TRUE  2020-03-01   \n",
       "4             Sri Lanka          NaN            850         FALSE  2020-03-01   \n",
       "5                 India          NCT            908         FALSE  2020-03-01   \n",
       "\n",
       "                                                                                                                                                                                                                                                            text  \\\n",
       "0                                                                                                                                                           I landed in Mumbai at midnight and there was absolutely no thermal scan or temperature check. #covid   \n",
       "1  Here are the latest developments on the #coronavirusoutbreak:\\n\\n-A boom of cases in Italy, Iran and the U.K.\\n-Italy to spend $4B on coronavirus fight\\n-New York gets OK to develop its own coronavirus test\\n\\n#COVID #Coronavid19 https://t.co/t9I7scIuNi   \n",
       "2                                                                  @UltraAbuDhabi @MEFCC to go ahead as scheduled. @DJmag Middle East stands cancelled. Experts give their valuable advice on safety protocols at massive events! #COVID https://t.co/0XVKPI4Hb3   \n",
       "4                                                                                                                                                              @warunawijesuriy Hey buddy, I think today #Armenia  Records his first patient who suffered #COVID   \n",
       "5                                                                                                                                                              This is what keeps India alive..\\n#Section144\\n#SundayMotivation\\n#COVID\\nhttps://t.co/eD05WlkXQB   \n",
       "\n",
       "                                          hashtags retweets likes_count  \n",
       "0                                        ['covid']        0           0  \n",
       "1  ['coronavirusoutbreak', 'COVID', 'Coronavid19']        7          12  \n",
       "2                                        ['COVID']        0           0  \n",
       "4                             ['Armenia', 'COVID']        0           0  \n",
       "5      ['Section144', 'SundayMotivation', 'COVID']        1           2  "
      ]
     },
     "execution_count": 180,
     "metadata": {},
     "output_type": "execute_result"
    }
   ],
   "source": [
    "df_final.head()"
   ]
  },
  {
   "cell_type": "code",
   "execution_count": 181,
   "metadata": {},
   "outputs": [
    {
     "data": {
      "text/plain": [
       "(451259, 9)"
      ]
     },
     "execution_count": 181,
     "metadata": {},
     "output_type": "execute_result"
    }
   ],
   "source": [
    "df_final.shape"
   ]
  },
  {
   "cell_type": "code",
   "execution_count": 220,
   "metadata": {},
   "outputs": [
    {
     "data": {
      "text/plain": [
       "0"
      ]
     },
     "execution_count": 220,
     "metadata": {},
     "output_type": "execute_result"
    }
   ],
   "source": [
    "# Removing Duplicates\n",
    "df_final.text.duplicated().sum()"
   ]
  },
  {
   "cell_type": "code",
   "execution_count": 185,
   "metadata": {},
   "outputs": [],
   "source": [
    "df_final = df_final.drop_duplicates(subset=['text'], keep='last')"
   ]
  },
  {
   "cell_type": "code",
   "execution_count": null,
   "metadata": {},
   "outputs": [],
   "source": []
  },
  {
   "cell_type": "markdown",
   "metadata": {},
   "source": [
    "## Selecting df by countries"
   ]
  },
  {
   "cell_type": "code",
   "execution_count": 74,
   "metadata": {},
   "outputs": [],
   "source": [
    "df_france  = df_final[df_final.country  == \"France\"]"
   ]
  },
  {
   "cell_type": "code",
   "execution_count": 75,
   "metadata": {},
   "outputs": [
    {
     "data": {
      "text/html": [
       "<div>\n",
       "<style scoped>\n",
       "    .dataframe tbody tr th:only-of-type {\n",
       "        vertical-align: middle;\n",
       "    }\n",
       "\n",
       "    .dataframe tbody tr th {\n",
       "        vertical-align: top;\n",
       "    }\n",
       "\n",
       "    .dataframe thead th {\n",
       "        text-align: right;\n",
       "    }\n",
       "</style>\n",
       "<table border=\"1\" class=\"dataframe\">\n",
       "  <thead>\n",
       "    <tr style=\"text-align: right;\">\n",
       "      <th></th>\n",
       "      <th>country</th>\n",
       "      <th>subcountry</th>\n",
       "      <th>user_followers</th>\n",
       "      <th>user_verified</th>\n",
       "      <th>date</th>\n",
       "      <th>text</th>\n",
       "      <th>hashtags</th>\n",
       "      <th>retweets</th>\n",
       "      <th>likes_count</th>\n",
       "    </tr>\n",
       "  </thead>\n",
       "  <tbody>\n",
       "    <tr>\n",
       "      <th>261</th>\n",
       "      <td>France</td>\n",
       "      <td>Île-de-France</td>\n",
       "      <td>5698</td>\n",
       "      <td>FALSE</td>\n",
       "      <td>2020-03-01</td>\n",
       "      <td>I did good by not buying the tickets, #madonna...</td>\n",
       "      <td>['madonna', 'Corona']</td>\n",
       "      <td>0</td>\n",
       "      <td>2</td>\n",
       "    </tr>\n",
       "    <tr>\n",
       "      <th>281</th>\n",
       "      <td>France</td>\n",
       "      <td>Île-de-France</td>\n",
       "      <td>286</td>\n",
       "      <td>FALSE</td>\n",
       "      <td>2020-03-01</td>\n",
       "      <td>My daughter's Ballet School refused to accept ...</td>\n",
       "      <td>['Corona']</td>\n",
       "      <td>0</td>\n",
       "      <td>0</td>\n",
       "    </tr>\n",
       "    <tr>\n",
       "      <th>648</th>\n",
       "      <td>France</td>\n",
       "      <td>Île-de-France</td>\n",
       "      <td>830</td>\n",
       "      <td>FALSE</td>\n",
       "      <td>2020-03-02</td>\n",
       "      <td>The #COVID19 epidemic continues to expand rapi...</td>\n",
       "      <td>['COVID19', 'NYTimes']</td>\n",
       "      <td>0</td>\n",
       "      <td>0</td>\n",
       "    </tr>\n",
       "    <tr>\n",
       "      <th>756</th>\n",
       "      <td>France</td>\n",
       "      <td>NaN</td>\n",
       "      <td>1852</td>\n",
       "      <td>FALSE</td>\n",
       "      <td>2020-03-02</td>\n",
       "      <td>#corona #coronavirusfr this is the reason of t...</td>\n",
       "      <td>['corona', 'coronavirusfr']</td>\n",
       "      <td>1</td>\n",
       "      <td>0</td>\n",
       "    </tr>\n",
       "    <tr>\n",
       "      <th>841</th>\n",
       "      <td>France</td>\n",
       "      <td>Île-de-France</td>\n",
       "      <td>82672</td>\n",
       "      <td>TRUE</td>\n",
       "      <td>2020-03-02</td>\n",
       "      <td>Alibaba’s new #AI system can detect #coronavir...</td>\n",
       "      <td>['AI', 'coronavirus', 'Covid_19']</td>\n",
       "      <td>1</td>\n",
       "      <td>6</td>\n",
       "    </tr>\n",
       "  </tbody>\n",
       "</table>\n",
       "</div>"
      ],
      "text/plain": [
       "    country     subcountry user_followers user_verified        date  \\\n",
       "261  France  Île-de-France           5698         FALSE  2020-03-01   \n",
       "281  France  Île-de-France            286         FALSE  2020-03-01   \n",
       "648  France  Île-de-France            830         FALSE  2020-03-02   \n",
       "756  France            NaN           1852         FALSE  2020-03-02   \n",
       "841  France  Île-de-France          82672          TRUE  2020-03-02   \n",
       "\n",
       "                                                  text  \\\n",
       "261  I did good by not buying the tickets, #madonna...   \n",
       "281  My daughter's Ballet School refused to accept ...   \n",
       "648  The #COVID19 epidemic continues to expand rapi...   \n",
       "756  #corona #coronavirusfr this is the reason of t...   \n",
       "841  Alibaba’s new #AI system can detect #coronavir...   \n",
       "\n",
       "                              hashtags retweets likes_count  \n",
       "261              ['madonna', 'Corona']        0           2  \n",
       "281                         ['Corona']        0           0  \n",
       "648             ['COVID19', 'NYTimes']        0           0  \n",
       "756        ['corona', 'coronavirusfr']        1           0  \n",
       "841  ['AI', 'coronavirus', 'Covid_19']        1           6  "
      ]
     },
     "execution_count": 75,
     "metadata": {},
     "output_type": "execute_result"
    }
   ],
   "source": [
    "df_france.head()"
   ]
  },
  {
   "cell_type": "code",
   "execution_count": null,
   "metadata": {},
   "outputs": [],
   "source": []
  },
  {
   "cell_type": "code",
   "execution_count": null,
   "metadata": {},
   "outputs": [],
   "source": []
  },
  {
   "cell_type": "markdown",
   "metadata": {},
   "source": [
    "# Text"
   ]
  },
  {
   "cell_type": "code",
   "execution_count": 186,
   "metadata": {},
   "outputs": [
    {
     "data": {
      "text/plain": [
       "0                                                                                                                                                             I landed in Mumbai at midnight and there was absolutely no thermal scan or temperature check. #covid\n",
       "1    Here are the latest developments on the #coronavirusoutbreak:\\n\\n-A boom of cases in Italy, Iran and the U.K.\\n-Italy to spend $4B on coronavirus fight\\n-New York gets OK to develop its own coronavirus test\\n\\n#COVID #Coronavid19 https://t.co/t9I7scIuNi\n",
       "2                                                                    @UltraAbuDhabi @MEFCC to go ahead as scheduled. @DJmag Middle East stands cancelled. Experts give their valuable advice on safety protocols at massive events! #COVID https://t.co/0XVKPI4Hb3\n",
       "4                                                                                                                                                                @warunawijesuriy Hey buddy, I think today #Armenia  Records his first patient who suffered #COVID\n",
       "5                                                                                                                                                                This is what keeps India alive..\\n#Section144\\n#SundayMotivation\\n#COVID\\nhttps://t.co/eD05WlkXQB\n",
       "Name: text, dtype: object"
      ]
     },
     "execution_count": 186,
     "metadata": {},
     "output_type": "execute_result"
    }
   ],
   "source": [
    "df_final.text.head()"
   ]
  },
  {
   "cell_type": "code",
   "execution_count": 77,
   "metadata": {},
   "outputs": [
    {
     "data": {
      "text/plain": [
       "0                                                                                                                                                             I landed in Mumbai at midnight and there was absolutely no thermal scan or temperature check. #covid\n",
       "1    Here are the latest developments on the #coronavirusoutbreak:\\n\\n-A boom of cases in Italy, Iran and the U.K.\\n-Italy to spend $4B on coronavirus fight\\n-New York gets OK to develop its own coronavirus test\\n\\n#COVID #Coronavid19 https://t.co/t9I7scIuNi\n",
       "2                                                                    @UltraAbuDhabi @MEFCC to go ahead as scheduled. @DJmag Middle East stands cancelled. Experts give their valuable advice on safety protocols at massive events! #COVID https://t.co/0XVKPI4Hb3\n",
       "4                                                                                                                                                                @warunawijesuriy Hey buddy, I think today #Armenia  Records his first patient who suffered #COVID\n",
       "5                                                                                                                                                                This is what keeps India alive..\\n#Section144\\n#SundayMotivation\\n#COVID\\nhttps://t.co/eD05WlkXQB\n",
       "Name: text, dtype: object"
      ]
     },
     "execution_count": 77,
     "metadata": {},
     "output_type": "execute_result"
    }
   ],
   "source": [
    "pd.set_option('display.max_colwidth', 700)\n",
    "df_final.text.head()"
   ]
  },
  {
   "cell_type": "code",
   "execution_count": 247,
   "metadata": {},
   "outputs": [
    {
     "name": "stderr",
     "output_type": "stream",
     "text": [
      "[nltk_data] Downloading package stopwords to\n",
      "[nltk_data]     C:\\Users\\ayushjain9\\AppData\\Roaming\\nltk_data...\n",
      "[nltk_data]   Package stopwords is already up-to-date!\n"
     ]
    },
    {
     "data": {
      "text/plain": [
       "True"
      ]
     },
     "execution_count": 247,
     "metadata": {},
     "output_type": "execute_result"
    }
   ],
   "source": [
    "from nltk.corpus import stopwords\n",
    "nltk.download('stopwords')"
   ]
  },
  {
   "cell_type": "code",
   "execution_count": 255,
   "metadata": {},
   "outputs": [
    {
     "name": "stdout",
     "output_type": "stream",
     "text": [
      "{'an', \"wasn't\", 'some', 'when', 'once', 'wouldn', 'out', 'hadn', 'haven', 'down', 'these', 've', \"doesn't\", 'other', 'only', 'm', 'having', 'or', 'won', 'who', 'be', \"should've\", 'they', 'more', 'have', 'isn', \"wouldn't\", 'that', 'yours', 'while', 'ain', 'off', 'themselves', 'both', 'if', 'you', 'in', 'most', 'each', 'at', 'o', 'your', \"hadn't\", 'after', 'can', 'their', \"needn't\", 'weren', 'too', 'through', 'until', 'don', 'himself', 'mightn', 'what', 'me', 'than', 'shouldn', \"she's\", 'hasn', 'same', 'wasn', 'again', \"didn't\", 'which', 'shan', 'ours', \"don't\", 'herself', 'itself', 'very', \"hasn't\", 'because', 'doing', 'him', 'from', \"isn't\", 'up', 'do', 'few', 'mustn', 'during', 'ourselves', 'under', 'before', 'by', 'whom', 'his', 'on', 'been', 'he', \"that'll\", 'all', 'hers', 'couldn', 'my', 'how', \"you'll\", 'we', 'didn', \"mustn't\", \"shan't\", \"aren't\", 'y', 'our', 'of', 'she', \"you'd\", 'theirs', 'why', 'there', 'are', \"couldn't\", \"it's\", 'its', 'below', 'a', 'needn', 'i', 'yourself', 'own', 'then', 'was', 'has', 'aren', 'am', 'now', 'just', 'should', 'but', 'against', \"you've\", 'so', 'll', 'and', 'as', \"mightn't\", 'where', 'with', 'will', 't', 'the', 'it', 'this', 'over', 'did', \"you're\", 'nor', 'for', 'doesn', \"weren't\", 'them', 'myself', 'any', 're', 'her', 'is', 'above', \"haven't\", 'into', 'ma', 'about', 'here', 'those', 'between', 'further', 'yourselves', \"shouldn't\", 'were', 'had', 'does', 'such', 'd', \"won't\", 's', 'being', 'to'}\n"
     ]
    }
   ],
   "source": [
    "# stop_words1 = stopwords.words(\"english\")\n",
    "# print(stop_words1)\n",
    "stop_words = set(stopwords.words(\"english\"))\n",
    "stop_words.discard('not')\n",
    "stop_words.discard('no')\n",
    "print(stop_words)"
   ]
  },
  {
   "cell_type": "code",
   "execution_count": 256,
   "metadata": {},
   "outputs": [],
   "source": [
    "def text_preproc(x):\n",
    "  x = x.lower()\n",
    "  x = ' '.join([word for word in x.split(' ') if word not in stop_words]) # Remove stop words\n",
    "  x = x.encode('ascii', 'ignore').decode() # Remove unicode characters\n",
    "  x = ' '.join(re.sub(\"(@[A-Za-z0-9]+)|([^0-9A-Za-z \\t])|(\\w+:\\/\\/\\S+)\",\" \",x).split())\n",
    "  # x = re.sub(r'https*\\S+', ' ', x) #  Remove URL\n",
    "  # x = re.sub(r'@\\S+', ' ', x)  # Remove mentions\n",
    "  # x = re.sub(r'#\\S+', ' ', x) # Remove Hashtags\n",
    "  # x = re.sub(r'\\'\\w+', '', x) # Remove ticks and the next character\n",
    "  # x = re.sub('[%s]' % re.escape(string.punctuation), ' ', x) # remove punctuations\n",
    "  x = re.sub(r'\\w*\\d+\\w*', '', x) # remove numbers\n",
    "  x = re.sub(r'\\s{2,}', ' ', x) # replace over spaces\n",
    "  return x"
   ]
  },
  {
   "cell_type": "code",
   "execution_count": 257,
   "metadata": {},
   "outputs": [
    {
     "data": {
      "text/plain": [
       "0                                                                             landed mumbai midnight absolutely no thermal scan temperature check covid\n",
       "1    latest developments coronavirusoutbreak a boom cases italy iran u k italy spend coronavirus fight new york gets ok develop coronavirus test covid \n",
       "2                                    go ahead scheduled middle east stands cancelled experts give valuable advice safety protocols massive events covid\n",
       "4                                                                                    hey buddy think today armenia records first patient suffered covid\n",
       "5                                                                                                              keeps india alive sundaymotivation covid\n",
       "Name: clean_texts, dtype: object"
      ]
     },
     "execution_count": 257,
     "metadata": {},
     "output_type": "execute_result"
    }
   ],
   "source": [
    "df_final['clean_texts'] = df_final.text.apply(text_preproc)\n",
    "df_final.clean_texts.head()"
   ]
  },
  {
   "cell_type": "code",
   "execution_count": 258,
   "metadata": {},
   "outputs": [],
   "source": [
    "df_final['clean_texts_no_Stopwords'] = df_final.text.apply(text_preproc)"
   ]
  },
  {
   "cell_type": "code",
   "execution_count": 95,
   "metadata": {},
   "outputs": [
    {
     "data": {
      "text/plain": [
       "0                                                                                                       i landed in mumbai at midnight and there was absolutely no thermal scan or temperature check covid\n",
       "1    here are the latest developments on the coronavirusoutbreak a boom of cases in italy iran and the u k italy to spend on coronavirus fight new york gets ok to develop its own coronavirus test covid \n",
       "2                                                                     to go ahead as scheduled middle east stands cancelled experts give their valuable advice on safety protocols at massive events covid\n",
       "4                                                                                                                             hey buddy i think today armenia records his first patient who suffered covid\n",
       "5                                                                                                                                                    this is what keeps india alive sundaymotivation covid\n",
       "Name: clean_texts_no_Stopwords, dtype: object"
      ]
     },
     "execution_count": 95,
     "metadata": {},
     "output_type": "execute_result"
    }
   ],
   "source": [
    "df_final.clean_texts_no_Stopwords.head()"
   ]
  },
  {
   "cell_type": "code",
   "execution_count": 259,
   "metadata": {},
   "outputs": [
    {
     "data": {
      "text/html": [
       "<div>\n",
       "<style scoped>\n",
       "    .dataframe tbody tr th:only-of-type {\n",
       "        vertical-align: middle;\n",
       "    }\n",
       "\n",
       "    .dataframe tbody tr th {\n",
       "        vertical-align: top;\n",
       "    }\n",
       "\n",
       "    .dataframe thead th {\n",
       "        text-align: right;\n",
       "    }\n",
       "</style>\n",
       "<table border=\"1\" class=\"dataframe\">\n",
       "  <thead>\n",
       "    <tr style=\"text-align: right;\">\n",
       "      <th></th>\n",
       "      <th>country</th>\n",
       "      <th>subcountry</th>\n",
       "      <th>user_followers</th>\n",
       "      <th>user_verified</th>\n",
       "      <th>date</th>\n",
       "      <th>text</th>\n",
       "      <th>hashtags</th>\n",
       "      <th>retweets</th>\n",
       "      <th>likes_count</th>\n",
       "      <th>clean_texts</th>\n",
       "      <th>tokenized_texts</th>\n",
       "      <th>scores</th>\n",
       "      <th>compound</th>\n",
       "      <th>comp_score</th>\n",
       "      <th>clean_texts_no_Stopwords</th>\n",
       "    </tr>\n",
       "  </thead>\n",
       "  <tbody>\n",
       "    <tr>\n",
       "      <th>0</th>\n",
       "      <td>India</td>\n",
       "      <td>Maharashtra</td>\n",
       "      <td>370</td>\n",
       "      <td>FALSE</td>\n",
       "      <td>2020-03-01</td>\n",
       "      <td>I landed in Mumbai at midnight and there was absolutely no thermal scan or temperature check. #covid</td>\n",
       "      <td>['covid']</td>\n",
       "      <td>0</td>\n",
       "      <td>0</td>\n",
       "      <td>landed mumbai midnight absolutely no thermal scan temperature check covid</td>\n",
       "      <td>[landed, mumbai, midnight, absolutely, thermal, scan, temperature, check, covid]</td>\n",
       "      <td>{'neg': 0.0, 'neu': 1.0, 'pos': 0.0, 'compound': 0.0}</td>\n",
       "      <td>0.0000</td>\n",
       "      <td>ntl</td>\n",
       "      <td>landed mumbai midnight absolutely no thermal scan temperature check covid</td>\n",
       "    </tr>\n",
       "    <tr>\n",
       "      <th>1</th>\n",
       "      <td>Bangladesh</td>\n",
       "      <td>Dhaka</td>\n",
       "      <td>57502</td>\n",
       "      <td>FALSE</td>\n",
       "      <td>2020-03-01</td>\n",
       "      <td>Here are the latest developments on the #coronavirusoutbreak:\\n\\n-A boom of cases in Italy, Iran and the U.K.\\n-Italy to spend $4B on coronavirus fight\\n-New York gets OK to develop its own coronavirus test\\n\\n#COVID #Coronavid19 https://t.co/t9I7scIuNi</td>\n",
       "      <td>['coronavirusoutbreak', 'COVID', 'Coronavid19']</td>\n",
       "      <td>7</td>\n",
       "      <td>12</td>\n",
       "      <td>latest developments coronavirusoutbreak a boom cases italy iran u k italy spend coronavirus fight new york gets ok develop coronavirus test covid</td>\n",
       "      <td>[latest, developments, coronavirusoutbreak, a, boom, cases, italy, iran, u, k, italy, spend, coronavirus, fight, new, york, gets, ok, develop, coronavirus, test, covid]</td>\n",
       "      <td>{'neg': 0.119, 'neu': 0.78, 'pos': 0.101, 'compound': -0.1027}</td>\n",
       "      <td>-0.1027</td>\n",
       "      <td>neg</td>\n",
       "      <td>latest developments coronavirusoutbreak a boom cases italy iran u k italy spend coronavirus fight new york gets ok develop coronavirus test covid</td>\n",
       "    </tr>\n",
       "    <tr>\n",
       "      <th>2</th>\n",
       "      <td>United Arab Emirates</td>\n",
       "      <td>Dubai</td>\n",
       "      <td>2061</td>\n",
       "      <td>TRUE</td>\n",
       "      <td>2020-03-01</td>\n",
       "      <td>@UltraAbuDhabi @MEFCC to go ahead as scheduled. @DJmag Middle East stands cancelled. Experts give their valuable advice on safety protocols at massive events! #COVID https://t.co/0XVKPI4Hb3</td>\n",
       "      <td>['COVID']</td>\n",
       "      <td>0</td>\n",
       "      <td>0</td>\n",
       "      <td>go ahead scheduled middle east stands cancelled experts give valuable advice safety protocols massive events covid</td>\n",
       "      <td>[go, ahead, scheduled, middle, east, stands, cancelled, experts, give, valuable, advice, safety, protocols, massive, events, covid]</td>\n",
       "      <td>{'neg': 0.096, 'neu': 0.622, 'pos': 0.282, 'compound': 0.5994}</td>\n",
       "      <td>0.5994</td>\n",
       "      <td>pos</td>\n",
       "      <td>go ahead scheduled middle east stands cancelled experts give valuable advice safety protocols massive events covid</td>\n",
       "    </tr>\n",
       "    <tr>\n",
       "      <th>4</th>\n",
       "      <td>Sri Lanka</td>\n",
       "      <td>NaN</td>\n",
       "      <td>850</td>\n",
       "      <td>FALSE</td>\n",
       "      <td>2020-03-01</td>\n",
       "      <td>@warunawijesuriy Hey buddy, I think today #Armenia  Records his first patient who suffered #COVID</td>\n",
       "      <td>['Armenia', 'COVID']</td>\n",
       "      <td>0</td>\n",
       "      <td>0</td>\n",
       "      <td>hey buddy think today armenia records first patient suffered covid</td>\n",
       "      <td>[hey, buddy, think, today, armenia, records, first, patient, suffered, covid]</td>\n",
       "      <td>{'neg': 0.262, 'neu': 0.738, 'pos': 0.0, 'compound': -0.4939}</td>\n",
       "      <td>-0.4939</td>\n",
       "      <td>neg</td>\n",
       "      <td>hey buddy think today armenia records first patient suffered covid</td>\n",
       "    </tr>\n",
       "    <tr>\n",
       "      <th>5</th>\n",
       "      <td>India</td>\n",
       "      <td>NCT</td>\n",
       "      <td>908</td>\n",
       "      <td>FALSE</td>\n",
       "      <td>2020-03-01</td>\n",
       "      <td>This is what keeps India alive..\\n#Section144\\n#SundayMotivation\\n#COVID\\nhttps://t.co/eD05WlkXQB</td>\n",
       "      <td>['Section144', 'SundayMotivation', 'COVID']</td>\n",
       "      <td>1</td>\n",
       "      <td>2</td>\n",
       "      <td>keeps india alive sundaymotivation covid</td>\n",
       "      <td>[keeps, india, alive, sundaymotivation, covid]</td>\n",
       "      <td>{'neg': 0.0, 'neu': 0.606, 'pos': 0.394, 'compound': 0.3818}</td>\n",
       "      <td>0.3818</td>\n",
       "      <td>pos</td>\n",
       "      <td>keeps india alive sundaymotivation covid</td>\n",
       "    </tr>\n",
       "  </tbody>\n",
       "</table>\n",
       "</div>"
      ],
      "text/plain": [
       "                country   subcountry user_followers user_verified        date  \\\n",
       "0                 India  Maharashtra            370         FALSE  2020-03-01   \n",
       "1            Bangladesh        Dhaka          57502         FALSE  2020-03-01   \n",
       "2  United Arab Emirates        Dubai           2061          TRUE  2020-03-01   \n",
       "4             Sri Lanka          NaN            850         FALSE  2020-03-01   \n",
       "5                 India          NCT            908         FALSE  2020-03-01   \n",
       "\n",
       "                                                                                                                                                                                                                                                            text  \\\n",
       "0                                                                                                                                                           I landed in Mumbai at midnight and there was absolutely no thermal scan or temperature check. #covid   \n",
       "1  Here are the latest developments on the #coronavirusoutbreak:\\n\\n-A boom of cases in Italy, Iran and the U.K.\\n-Italy to spend $4B on coronavirus fight\\n-New York gets OK to develop its own coronavirus test\\n\\n#COVID #Coronavid19 https://t.co/t9I7scIuNi   \n",
       "2                                                                  @UltraAbuDhabi @MEFCC to go ahead as scheduled. @DJmag Middle East stands cancelled. Experts give their valuable advice on safety protocols at massive events! #COVID https://t.co/0XVKPI4Hb3   \n",
       "4                                                                                                                                                              @warunawijesuriy Hey buddy, I think today #Armenia  Records his first patient who suffered #COVID   \n",
       "5                                                                                                                                                              This is what keeps India alive..\\n#Section144\\n#SundayMotivation\\n#COVID\\nhttps://t.co/eD05WlkXQB   \n",
       "\n",
       "                                          hashtags retweets likes_count  \\\n",
       "0                                        ['covid']        0           0   \n",
       "1  ['coronavirusoutbreak', 'COVID', 'Coronavid19']        7          12   \n",
       "2                                        ['COVID']        0           0   \n",
       "4                             ['Armenia', 'COVID']        0           0   \n",
       "5      ['Section144', 'SundayMotivation', 'COVID']        1           2   \n",
       "\n",
       "                                                                                                                                          clean_texts  \\\n",
       "0                                                                           landed mumbai midnight absolutely no thermal scan temperature check covid   \n",
       "1  latest developments coronavirusoutbreak a boom cases italy iran u k italy spend coronavirus fight new york gets ok develop coronavirus test covid    \n",
       "2                                  go ahead scheduled middle east stands cancelled experts give valuable advice safety protocols massive events covid   \n",
       "4                                                                                  hey buddy think today armenia records first patient suffered covid   \n",
       "5                                                                                                            keeps india alive sundaymotivation covid   \n",
       "\n",
       "                                                                                                                                                            tokenized_texts  \\\n",
       "0                                                                                          [landed, mumbai, midnight, absolutely, thermal, scan, temperature, check, covid]   \n",
       "1  [latest, developments, coronavirusoutbreak, a, boom, cases, italy, iran, u, k, italy, spend, coronavirus, fight, new, york, gets, ok, develop, coronavirus, test, covid]   \n",
       "2                                       [go, ahead, scheduled, middle, east, stands, cancelled, experts, give, valuable, advice, safety, protocols, massive, events, covid]   \n",
       "4                                                                                             [hey, buddy, think, today, armenia, records, first, patient, suffered, covid]   \n",
       "5                                                                                                                            [keeps, india, alive, sundaymotivation, covid]   \n",
       "\n",
       "                                                           scores  compound  \\\n",
       "0           {'neg': 0.0, 'neu': 1.0, 'pos': 0.0, 'compound': 0.0}    0.0000   \n",
       "1  {'neg': 0.119, 'neu': 0.78, 'pos': 0.101, 'compound': -0.1027}   -0.1027   \n",
       "2  {'neg': 0.096, 'neu': 0.622, 'pos': 0.282, 'compound': 0.5994}    0.5994   \n",
       "4   {'neg': 0.262, 'neu': 0.738, 'pos': 0.0, 'compound': -0.4939}   -0.4939   \n",
       "5    {'neg': 0.0, 'neu': 0.606, 'pos': 0.394, 'compound': 0.3818}    0.3818   \n",
       "\n",
       "  comp_score  \\\n",
       "0        ntl   \n",
       "1        neg   \n",
       "2        pos   \n",
       "4        neg   \n",
       "5        pos   \n",
       "\n",
       "                                                                                                                             clean_texts_no_Stopwords  \n",
       "0                                                                           landed mumbai midnight absolutely no thermal scan temperature check covid  \n",
       "1  latest developments coronavirusoutbreak a boom cases italy iran u k italy spend coronavirus fight new york gets ok develop coronavirus test covid   \n",
       "2                                  go ahead scheduled middle east stands cancelled experts give valuable advice safety protocols massive events covid  \n",
       "4                                                                                  hey buddy think today armenia records first patient suffered covid  \n",
       "5                                                                                                            keeps india alive sundaymotivation covid  "
      ]
     },
     "execution_count": 259,
     "metadata": {},
     "output_type": "execute_result"
    }
   ],
   "source": [
    "df_final.head()"
   ]
  },
  {
   "cell_type": "code",
   "execution_count": 260,
   "metadata": {},
   "outputs": [],
   "source": [
    "df_final.clean_texts = df_final.clean_texts.replace('\\s+', ' ', regex=True) #removing extra spaces"
   ]
  },
  {
   "cell_type": "code",
   "execution_count": null,
   "metadata": {},
   "outputs": [],
   "source": []
  },
  {
   "cell_type": "code",
   "execution_count": null,
   "metadata": {},
   "outputs": [],
   "source": []
  },
  {
   "cell_type": "code",
   "execution_count": 189,
   "metadata": {},
   "outputs": [
    {
     "data": {
      "text/plain": [
       "(330339, 10)"
      ]
     },
     "execution_count": 189,
     "metadata": {},
     "output_type": "execute_result"
    }
   ],
   "source": [
    "df_final.shape"
   ]
  },
  {
   "cell_type": "code",
   "execution_count": null,
   "metadata": {},
   "outputs": [],
   "source": [
    "# from nltk.stem import PorterStemmer\n",
    "# from nltk.stem import LancasterStemmer\n",
    "# from nltk.stem.snowball import SnowballStemmer"
   ]
  },
  {
   "cell_type": "code",
   "execution_count": 105,
   "metadata": {},
   "outputs": [],
   "source": [
    "from nltk.tokenize import word_tokenize"
   ]
  },
  {
   "cell_type": "code",
   "execution_count": 261,
   "metadata": {},
   "outputs": [
    {
     "data": {
      "text/html": [
       "<div>\n",
       "<style scoped>\n",
       "    .dataframe tbody tr th:only-of-type {\n",
       "        vertical-align: middle;\n",
       "    }\n",
       "\n",
       "    .dataframe tbody tr th {\n",
       "        vertical-align: top;\n",
       "    }\n",
       "\n",
       "    .dataframe thead th {\n",
       "        text-align: right;\n",
       "    }\n",
       "</style>\n",
       "<table border=\"1\" class=\"dataframe\">\n",
       "  <thead>\n",
       "    <tr style=\"text-align: right;\">\n",
       "      <th></th>\n",
       "      <th>country</th>\n",
       "      <th>subcountry</th>\n",
       "      <th>user_followers</th>\n",
       "      <th>user_verified</th>\n",
       "      <th>date</th>\n",
       "      <th>text</th>\n",
       "      <th>hashtags</th>\n",
       "      <th>retweets</th>\n",
       "      <th>likes_count</th>\n",
       "      <th>clean_texts</th>\n",
       "      <th>tokenized_texts</th>\n",
       "      <th>scores</th>\n",
       "      <th>compound</th>\n",
       "      <th>comp_score</th>\n",
       "      <th>clean_texts_no_Stopwords</th>\n",
       "    </tr>\n",
       "  </thead>\n",
       "  <tbody>\n",
       "    <tr>\n",
       "      <th>0</th>\n",
       "      <td>India</td>\n",
       "      <td>Maharashtra</td>\n",
       "      <td>370</td>\n",
       "      <td>FALSE</td>\n",
       "      <td>2020-03-01</td>\n",
       "      <td>I landed in Mumbai at midnight and there was absolutely no thermal scan or temperature check. #covid</td>\n",
       "      <td>['covid']</td>\n",
       "      <td>0</td>\n",
       "      <td>0</td>\n",
       "      <td>landed mumbai midnight absolutely no thermal scan temperature check covid</td>\n",
       "      <td>[landed, mumbai, midnight, absolutely, no, thermal, scan, temperature, check, covid]</td>\n",
       "      <td>{'neg': 0.0, 'neu': 1.0, 'pos': 0.0, 'compound': 0.0}</td>\n",
       "      <td>0.0000</td>\n",
       "      <td>ntl</td>\n",
       "      <td>landed mumbai midnight absolutely no thermal scan temperature check covid</td>\n",
       "    </tr>\n",
       "    <tr>\n",
       "      <th>1</th>\n",
       "      <td>Bangladesh</td>\n",
       "      <td>Dhaka</td>\n",
       "      <td>57502</td>\n",
       "      <td>FALSE</td>\n",
       "      <td>2020-03-01</td>\n",
       "      <td>Here are the latest developments on the #coronavirusoutbreak:\\n\\n-A boom of cases in Italy, Iran and the U.K.\\n-Italy to spend $4B on coronavirus fight\\n-New York gets OK to develop its own coronavirus test\\n\\n#COVID #Coronavid19 https://t.co/t9I7scIuNi</td>\n",
       "      <td>['coronavirusoutbreak', 'COVID', 'Coronavid19']</td>\n",
       "      <td>7</td>\n",
       "      <td>12</td>\n",
       "      <td>latest developments coronavirusoutbreak a boom cases italy iran u k italy spend coronavirus fight new york gets ok develop coronavirus test covid</td>\n",
       "      <td>[latest, developments, coronavirusoutbreak, a, boom, cases, italy, iran, u, k, italy, spend, coronavirus, fight, new, york, gets, ok, develop, coronavirus, test, covid]</td>\n",
       "      <td>{'neg': 0.119, 'neu': 0.78, 'pos': 0.101, 'compound': -0.1027}</td>\n",
       "      <td>-0.1027</td>\n",
       "      <td>neg</td>\n",
       "      <td>latest developments coronavirusoutbreak a boom cases italy iran u k italy spend coronavirus fight new york gets ok develop coronavirus test covid</td>\n",
       "    </tr>\n",
       "    <tr>\n",
       "      <th>2</th>\n",
       "      <td>United Arab Emirates</td>\n",
       "      <td>Dubai</td>\n",
       "      <td>2061</td>\n",
       "      <td>TRUE</td>\n",
       "      <td>2020-03-01</td>\n",
       "      <td>@UltraAbuDhabi @MEFCC to go ahead as scheduled. @DJmag Middle East stands cancelled. Experts give their valuable advice on safety protocols at massive events! #COVID https://t.co/0XVKPI4Hb3</td>\n",
       "      <td>['COVID']</td>\n",
       "      <td>0</td>\n",
       "      <td>0</td>\n",
       "      <td>go ahead scheduled middle east stands cancelled experts give valuable advice safety protocols massive events covid</td>\n",
       "      <td>[go, ahead, scheduled, middle, east, stands, cancelled, experts, give, valuable, advice, safety, protocols, massive, events, covid]</td>\n",
       "      <td>{'neg': 0.096, 'neu': 0.622, 'pos': 0.282, 'compound': 0.5994}</td>\n",
       "      <td>0.5994</td>\n",
       "      <td>pos</td>\n",
       "      <td>go ahead scheduled middle east stands cancelled experts give valuable advice safety protocols massive events covid</td>\n",
       "    </tr>\n",
       "    <tr>\n",
       "      <th>4</th>\n",
       "      <td>Sri Lanka</td>\n",
       "      <td>NaN</td>\n",
       "      <td>850</td>\n",
       "      <td>FALSE</td>\n",
       "      <td>2020-03-01</td>\n",
       "      <td>@warunawijesuriy Hey buddy, I think today #Armenia  Records his first patient who suffered #COVID</td>\n",
       "      <td>['Armenia', 'COVID']</td>\n",
       "      <td>0</td>\n",
       "      <td>0</td>\n",
       "      <td>hey buddy think today armenia records first patient suffered covid</td>\n",
       "      <td>[hey, buddy, think, today, armenia, records, first, patient, suffered, covid]</td>\n",
       "      <td>{'neg': 0.262, 'neu': 0.738, 'pos': 0.0, 'compound': -0.4939}</td>\n",
       "      <td>-0.4939</td>\n",
       "      <td>neg</td>\n",
       "      <td>hey buddy think today armenia records first patient suffered covid</td>\n",
       "    </tr>\n",
       "    <tr>\n",
       "      <th>5</th>\n",
       "      <td>India</td>\n",
       "      <td>NCT</td>\n",
       "      <td>908</td>\n",
       "      <td>FALSE</td>\n",
       "      <td>2020-03-01</td>\n",
       "      <td>This is what keeps India alive..\\n#Section144\\n#SundayMotivation\\n#COVID\\nhttps://t.co/eD05WlkXQB</td>\n",
       "      <td>['Section144', 'SundayMotivation', 'COVID']</td>\n",
       "      <td>1</td>\n",
       "      <td>2</td>\n",
       "      <td>keeps india alive sundaymotivation covid</td>\n",
       "      <td>[keeps, india, alive, sundaymotivation, covid]</td>\n",
       "      <td>{'neg': 0.0, 'neu': 0.606, 'pos': 0.394, 'compound': 0.3818}</td>\n",
       "      <td>0.3818</td>\n",
       "      <td>pos</td>\n",
       "      <td>keeps india alive sundaymotivation covid</td>\n",
       "    </tr>\n",
       "  </tbody>\n",
       "</table>\n",
       "</div>"
      ],
      "text/plain": [
       "                country   subcountry user_followers user_verified        date  \\\n",
       "0                 India  Maharashtra            370         FALSE  2020-03-01   \n",
       "1            Bangladesh        Dhaka          57502         FALSE  2020-03-01   \n",
       "2  United Arab Emirates        Dubai           2061          TRUE  2020-03-01   \n",
       "4             Sri Lanka          NaN            850         FALSE  2020-03-01   \n",
       "5                 India          NCT            908         FALSE  2020-03-01   \n",
       "\n",
       "                                                                                                                                                                                                                                                            text  \\\n",
       "0                                                                                                                                                           I landed in Mumbai at midnight and there was absolutely no thermal scan or temperature check. #covid   \n",
       "1  Here are the latest developments on the #coronavirusoutbreak:\\n\\n-A boom of cases in Italy, Iran and the U.K.\\n-Italy to spend $4B on coronavirus fight\\n-New York gets OK to develop its own coronavirus test\\n\\n#COVID #Coronavid19 https://t.co/t9I7scIuNi   \n",
       "2                                                                  @UltraAbuDhabi @MEFCC to go ahead as scheduled. @DJmag Middle East stands cancelled. Experts give their valuable advice on safety protocols at massive events! #COVID https://t.co/0XVKPI4Hb3   \n",
       "4                                                                                                                                                              @warunawijesuriy Hey buddy, I think today #Armenia  Records his first patient who suffered #COVID   \n",
       "5                                                                                                                                                              This is what keeps India alive..\\n#Section144\\n#SundayMotivation\\n#COVID\\nhttps://t.co/eD05WlkXQB   \n",
       "\n",
       "                                          hashtags retweets likes_count  \\\n",
       "0                                        ['covid']        0           0   \n",
       "1  ['coronavirusoutbreak', 'COVID', 'Coronavid19']        7          12   \n",
       "2                                        ['COVID']        0           0   \n",
       "4                             ['Armenia', 'COVID']        0           0   \n",
       "5      ['Section144', 'SundayMotivation', 'COVID']        1           2   \n",
       "\n",
       "                                                                                                                                          clean_texts  \\\n",
       "0                                                                           landed mumbai midnight absolutely no thermal scan temperature check covid   \n",
       "1  latest developments coronavirusoutbreak a boom cases italy iran u k italy spend coronavirus fight new york gets ok develop coronavirus test covid    \n",
       "2                                  go ahead scheduled middle east stands cancelled experts give valuable advice safety protocols massive events covid   \n",
       "4                                                                                  hey buddy think today armenia records first patient suffered covid   \n",
       "5                                                                                                            keeps india alive sundaymotivation covid   \n",
       "\n",
       "                                                                                                                                                            tokenized_texts  \\\n",
       "0                                                                                      [landed, mumbai, midnight, absolutely, no, thermal, scan, temperature, check, covid]   \n",
       "1  [latest, developments, coronavirusoutbreak, a, boom, cases, italy, iran, u, k, italy, spend, coronavirus, fight, new, york, gets, ok, develop, coronavirus, test, covid]   \n",
       "2                                       [go, ahead, scheduled, middle, east, stands, cancelled, experts, give, valuable, advice, safety, protocols, massive, events, covid]   \n",
       "4                                                                                             [hey, buddy, think, today, armenia, records, first, patient, suffered, covid]   \n",
       "5                                                                                                                            [keeps, india, alive, sundaymotivation, covid]   \n",
       "\n",
       "                                                           scores  compound  \\\n",
       "0           {'neg': 0.0, 'neu': 1.0, 'pos': 0.0, 'compound': 0.0}    0.0000   \n",
       "1  {'neg': 0.119, 'neu': 0.78, 'pos': 0.101, 'compound': -0.1027}   -0.1027   \n",
       "2  {'neg': 0.096, 'neu': 0.622, 'pos': 0.282, 'compound': 0.5994}    0.5994   \n",
       "4   {'neg': 0.262, 'neu': 0.738, 'pos': 0.0, 'compound': -0.4939}   -0.4939   \n",
       "5    {'neg': 0.0, 'neu': 0.606, 'pos': 0.394, 'compound': 0.3818}    0.3818   \n",
       "\n",
       "  comp_score  \\\n",
       "0        ntl   \n",
       "1        neg   \n",
       "2        pos   \n",
       "4        neg   \n",
       "5        pos   \n",
       "\n",
       "                                                                                                                             clean_texts_no_Stopwords  \n",
       "0                                                                           landed mumbai midnight absolutely no thermal scan temperature check covid  \n",
       "1  latest developments coronavirusoutbreak a boom cases italy iran u k italy spend coronavirus fight new york gets ok develop coronavirus test covid   \n",
       "2                                  go ahead scheduled middle east stands cancelled experts give valuable advice safety protocols massive events covid  \n",
       "4                                                                                  hey buddy think today armenia records first patient suffered covid  \n",
       "5                                                                                                            keeps india alive sundaymotivation covid  "
      ]
     },
     "execution_count": 261,
     "metadata": {},
     "output_type": "execute_result"
    }
   ],
   "source": [
    "# Tokenisation\n",
    "df_final['tokenized_texts'] = df_final.clean_texts.apply(word_tokenize)\n",
    "df_final.head()"
   ]
  },
  {
   "cell_type": "code",
   "execution_count": 191,
   "metadata": {},
   "outputs": [
    {
     "data": {
      "text/plain": [
       "0"
      ]
     },
     "execution_count": 191,
     "metadata": {},
     "output_type": "execute_result"
    }
   ],
   "source": [
    "df_final.tokenized_texts.isna().sum()"
   ]
  },
  {
   "cell_type": "code",
   "execution_count": 139,
   "metadata": {},
   "outputs": [],
   "source": [
    "# df_final['clean_texts']=df_final['clean_texts'].apply(str)\n",
    "# def column(text):\n",
    "#     updated_tweet = ' '.join([tweet for tweet in text])\n",
    "#     return updated_tweet\n",
    "\n"
   ]
  },
  {
   "cell_type": "code",
   "execution_count": 145,
   "metadata": {},
   "outputs": [
    {
     "data": {
      "text/plain": [
       "dtype('O')"
      ]
     },
     "execution_count": 145,
     "metadata": {},
     "output_type": "execute_result"
    }
   ],
   "source": [
    "df_final['clean_texts'].dtypes"
   ]
  },
  {
   "cell_type": "code",
   "execution_count": 148,
   "metadata": {},
   "outputs": [],
   "source": [
    "import matplotlib.pyplot as plt\n",
    "def cloud_of_Words(tweet_cat,title):\n",
    "    forcloud = ' '.join([tweet for tweet in tweet_cat])\n",
    "    wordcloud = WordCloud(width =500,height = 300,random_state =5,max_font_size=110).generate(forcloud)\n",
    "    plt.imshow(wordcloud, interpolation ='bilinear')\n",
    "    plt.title(title)\n",
    "    plt.axis('off')\n",
    "    plt.show()\n",
    "    plt.figure(figsize = (10,8))"
   ]
  },
  {
   "cell_type": "code",
   "execution_count": 150,
   "metadata": {},
   "outputs": [
    {
     "data": {
      "image/png": "[encoded data removed]",
      "text/plain": [
       "<Figure size 720x576 with 1 Axes>"
      ]
     },
     "metadata": {
      "needs_background": "light"
     },
     "output_type": "display_data"
    },
    {
     "data": {
      "text/plain": [
       "<Figure size 720x576 with 0 Axes>"
      ]
     },
     "metadata": {},
     "output_type": "display_data"
    }
   ],
   "source": [
    "plt.figure(figsize = (10,8))\n",
    "# Creating wordclouds for positive, negative, neutral tweets\n",
    "cloud_of_Words(df_final['clean_texts'], 'Interpretation')"
   ]
  },
  {
   "cell_type": "code",
   "execution_count": 155,
   "metadata": {},
   "outputs": [],
   "source": [
    "# words = \" \".join(df_final['clean_texts'])\n",
    "# wordss: list[str] = nltk.word_tokenize(words)\n",
    "# fd = nltk.FreqDist(wordss)"
   ]
  },
  {
   "cell_type": "code",
   "execution_count": 107,
   "metadata": {},
   "outputs": [],
   "source": [
    "from wordcloud import WordCloud, ImageColorGenerator, STOPWORDS"
   ]
  },
  {
   "cell_type": "code",
   "execution_count": 152,
   "metadata": {},
   "outputs": [
    {
     "data": {
      "image/png": "[encoded data removed]",
      "text/plain": [
       "<Figure size 720x720 with 1 Axes>"
      ]
     },
     "metadata": {
      "needs_background": "light"
     },
     "output_type": "display_data"
    }
   ],
   "source": [
    "words = \" \".join(df_final['clean_texts'])\n",
    "def punctuation_stop(text):\n",
    "    \"\"\"remove punctuation and stop words\"\"\"\n",
    "    filtered = []\n",
    "    stop_words = set(stopwords.words('english'))\n",
    "    word_tokens = word_tokenize(text)\n",
    "    for w in word_tokens:\n",
    "        if w not in stop_words and w.isalpha():\n",
    "            filtered.append(w.lower())\n",
    "    return filtered\n",
    "\n",
    "\n",
    "words_filtered = punctuation_stop(words)\n",
    "\n",
    "text = \" \".join([ele for ele in words_filtered])\n",
    "\n",
    "wc= WordCloud(background_color=\"white\", random_state=1,stopwords=STOPWORDS, max_words = 2000, width =800, height = 1500)\n",
    "wc.generate(text)\n",
    "\n",
    "plt.figure(figsize=[10,10])\n",
    "plt.imshow(wc, interpolation=\"bilinear\")\n",
    "plt.axis('off')\n",
    "plt.show()"
   ]
  },
  {
   "cell_type": "markdown",
   "metadata": {},
   "source": []
  },
  {
   "cell_type": "markdown",
   "metadata": {},
   "source": [
    "## Need to delete amp word from corpus.()\n",
    "* stopwords = nltk.corpus.stopwords.words('english')\n",
    "* newStopWords = ['stopWord1','stopWord2']\n",
    "* stopwords.extend(newStopWords)"
   ]
  },
  {
   "cell_type": "markdown",
   "metadata": {},
   "source": [
    "# NLTK"
   ]
  },
  {
   "cell_type": "code",
   "execution_count": 156,
   "metadata": {},
   "outputs": [
    {
     "name": "stderr",
     "output_type": "stream",
     "text": [
      "[nltk_data] Downloading package vader_lexicon to\n",
      "[nltk_data]     C:\\Users\\ayushjain9\\AppData\\Roaming\\nltk_data...\n",
      "[nltk_data]   Package vader_lexicon is already up-to-date!\n"
     ]
    }
   ],
   "source": [
    "nltk.download('vader_lexicon')\n",
    "from nltk.sentiment.vader import SentimentIntensityAnalyzer\n",
    "\n",
    "sid = SentimentIntensityAnalyzer()"
   ]
  },
  {
   "cell_type": "code",
   "execution_count": 262,
   "metadata": {},
   "outputs": [
    {
     "data": {
      "text/html": [
       "<div>\n",
       "<style scoped>\n",
       "    .dataframe tbody tr th:only-of-type {\n",
       "        vertical-align: middle;\n",
       "    }\n",
       "\n",
       "    .dataframe tbody tr th {\n",
       "        vertical-align: top;\n",
       "    }\n",
       "\n",
       "    .dataframe thead th {\n",
       "        text-align: right;\n",
       "    }\n",
       "</style>\n",
       "<table border=\"1\" class=\"dataframe\">\n",
       "  <thead>\n",
       "    <tr style=\"text-align: right;\">\n",
       "      <th></th>\n",
       "      <th>country</th>\n",
       "      <th>subcountry</th>\n",
       "      <th>user_followers</th>\n",
       "      <th>user_verified</th>\n",
       "      <th>date</th>\n",
       "      <th>text</th>\n",
       "      <th>hashtags</th>\n",
       "      <th>retweets</th>\n",
       "      <th>likes_count</th>\n",
       "      <th>clean_texts</th>\n",
       "      <th>tokenized_texts</th>\n",
       "      <th>scores</th>\n",
       "      <th>compound</th>\n",
       "      <th>comp_score</th>\n",
       "      <th>clean_texts_no_Stopwords</th>\n",
       "    </tr>\n",
       "  </thead>\n",
       "  <tbody>\n",
       "    <tr>\n",
       "      <th>0</th>\n",
       "      <td>India</td>\n",
       "      <td>Maharashtra</td>\n",
       "      <td>370</td>\n",
       "      <td>FALSE</td>\n",
       "      <td>2020-03-01</td>\n",
       "      <td>I landed in Mumbai at midnight and there was absolutely no thermal scan or temperature check. #covid</td>\n",
       "      <td>['covid']</td>\n",
       "      <td>0</td>\n",
       "      <td>0</td>\n",
       "      <td>landed mumbai midnight absolutely no thermal scan temperature check covid</td>\n",
       "      <td>[landed, mumbai, midnight, absolutely, no, thermal, scan, temperature, check, covid]</td>\n",
       "      <td>{'neg': 0.217, 'neu': 0.783, 'pos': 0.0, 'compound': -0.3597}</td>\n",
       "      <td>0.0000</td>\n",
       "      <td>ntl</td>\n",
       "      <td>landed mumbai midnight absolutely no thermal scan temperature check covid</td>\n",
       "    </tr>\n",
       "    <tr>\n",
       "      <th>1</th>\n",
       "      <td>Bangladesh</td>\n",
       "      <td>Dhaka</td>\n",
       "      <td>57502</td>\n",
       "      <td>FALSE</td>\n",
       "      <td>2020-03-01</td>\n",
       "      <td>Here are the latest developments on the #coronavirusoutbreak:\\n\\n-A boom of cases in Italy, Iran and the U.K.\\n-Italy to spend $4B on coronavirus fight\\n-New York gets OK to develop its own coronavirus test\\n\\n#COVID #Coronavid19 https://t.co/t9I7scIuNi</td>\n",
       "      <td>['coronavirusoutbreak', 'COVID', 'Coronavid19']</td>\n",
       "      <td>7</td>\n",
       "      <td>12</td>\n",
       "      <td>latest developments coronavirusoutbreak a boom cases italy iran u k italy spend coronavirus fight new york gets ok develop coronavirus test covid</td>\n",
       "      <td>[latest, developments, coronavirusoutbreak, a, boom, cases, italy, iran, u, k, italy, spend, coronavirus, fight, new, york, gets, ok, develop, coronavirus, test, covid]</td>\n",
       "      <td>{'neg': 0.119, 'neu': 0.78, 'pos': 0.101, 'compound': -0.1027}</td>\n",
       "      <td>-0.1027</td>\n",
       "      <td>neg</td>\n",
       "      <td>latest developments coronavirusoutbreak a boom cases italy iran u k italy spend coronavirus fight new york gets ok develop coronavirus test covid</td>\n",
       "    </tr>\n",
       "    <tr>\n",
       "      <th>2</th>\n",
       "      <td>United Arab Emirates</td>\n",
       "      <td>Dubai</td>\n",
       "      <td>2061</td>\n",
       "      <td>TRUE</td>\n",
       "      <td>2020-03-01</td>\n",
       "      <td>@UltraAbuDhabi @MEFCC to go ahead as scheduled. @DJmag Middle East stands cancelled. Experts give their valuable advice on safety protocols at massive events! #COVID https://t.co/0XVKPI4Hb3</td>\n",
       "      <td>['COVID']</td>\n",
       "      <td>0</td>\n",
       "      <td>0</td>\n",
       "      <td>go ahead scheduled middle east stands cancelled experts give valuable advice safety protocols massive events covid</td>\n",
       "      <td>[go, ahead, scheduled, middle, east, stands, cancelled, experts, give, valuable, advice, safety, protocols, massive, events, covid]</td>\n",
       "      <td>{'neg': 0.096, 'neu': 0.622, 'pos': 0.282, 'compound': 0.5994}</td>\n",
       "      <td>0.5994</td>\n",
       "      <td>pos</td>\n",
       "      <td>go ahead scheduled middle east stands cancelled experts give valuable advice safety protocols massive events covid</td>\n",
       "    </tr>\n",
       "    <tr>\n",
       "      <th>4</th>\n",
       "      <td>Sri Lanka</td>\n",
       "      <td>NaN</td>\n",
       "      <td>850</td>\n",
       "      <td>FALSE</td>\n",
       "      <td>2020-03-01</td>\n",
       "      <td>@warunawijesuriy Hey buddy, I think today #Armenia  Records his first patient who suffered #COVID</td>\n",
       "      <td>['Armenia', 'COVID']</td>\n",
       "      <td>0</td>\n",
       "      <td>0</td>\n",
       "      <td>hey buddy think today armenia records first patient suffered covid</td>\n",
       "      <td>[hey, buddy, think, today, armenia, records, first, patient, suffered, covid]</td>\n",
       "      <td>{'neg': 0.262, 'neu': 0.738, 'pos': 0.0, 'compound': -0.4939}</td>\n",
       "      <td>-0.4939</td>\n",
       "      <td>neg</td>\n",
       "      <td>hey buddy think today armenia records first patient suffered covid</td>\n",
       "    </tr>\n",
       "    <tr>\n",
       "      <th>5</th>\n",
       "      <td>India</td>\n",
       "      <td>NCT</td>\n",
       "      <td>908</td>\n",
       "      <td>FALSE</td>\n",
       "      <td>2020-03-01</td>\n",
       "      <td>This is what keeps India alive..\\n#Section144\\n#SundayMotivation\\n#COVID\\nhttps://t.co/eD05WlkXQB</td>\n",
       "      <td>['Section144', 'SundayMotivation', 'COVID']</td>\n",
       "      <td>1</td>\n",
       "      <td>2</td>\n",
       "      <td>keeps india alive sundaymotivation covid</td>\n",
       "      <td>[keeps, india, alive, sundaymotivation, covid]</td>\n",
       "      <td>{'neg': 0.0, 'neu': 0.606, 'pos': 0.394, 'compound': 0.3818}</td>\n",
       "      <td>0.3818</td>\n",
       "      <td>pos</td>\n",
       "      <td>keeps india alive sundaymotivation covid</td>\n",
       "    </tr>\n",
       "  </tbody>\n",
       "</table>\n",
       "</div>"
      ],
      "text/plain": [
       "                country   subcountry user_followers user_verified        date  \\\n",
       "0                 India  Maharashtra            370         FALSE  2020-03-01   \n",
       "1            Bangladesh        Dhaka          57502         FALSE  2020-03-01   \n",
       "2  United Arab Emirates        Dubai           2061          TRUE  2020-03-01   \n",
       "4             Sri Lanka          NaN            850         FALSE  2020-03-01   \n",
       "5                 India          NCT            908         FALSE  2020-03-01   \n",
       "\n",
       "                                                                                                                                                                                                                                                            text  \\\n",
       "0                                                                                                                                                           I landed in Mumbai at midnight and there was absolutely no thermal scan or temperature check. #covid   \n",
       "1  Here are the latest developments on the #coronavirusoutbreak:\\n\\n-A boom of cases in Italy, Iran and the U.K.\\n-Italy to spend $4B on coronavirus fight\\n-New York gets OK to develop its own coronavirus test\\n\\n#COVID #Coronavid19 https://t.co/t9I7scIuNi   \n",
       "2                                                                  @UltraAbuDhabi @MEFCC to go ahead as scheduled. @DJmag Middle East stands cancelled. Experts give their valuable advice on safety protocols at massive events! #COVID https://t.co/0XVKPI4Hb3   \n",
       "4                                                                                                                                                              @warunawijesuriy Hey buddy, I think today #Armenia  Records his first patient who suffered #COVID   \n",
       "5                                                                                                                                                              This is what keeps India alive..\\n#Section144\\n#SundayMotivation\\n#COVID\\nhttps://t.co/eD05WlkXQB   \n",
       "\n",
       "                                          hashtags retweets likes_count  \\\n",
       "0                                        ['covid']        0           0   \n",
       "1  ['coronavirusoutbreak', 'COVID', 'Coronavid19']        7          12   \n",
       "2                                        ['COVID']        0           0   \n",
       "4                             ['Armenia', 'COVID']        0           0   \n",
       "5      ['Section144', 'SundayMotivation', 'COVID']        1           2   \n",
       "\n",
       "                                                                                                                                          clean_texts  \\\n",
       "0                                                                           landed mumbai midnight absolutely no thermal scan temperature check covid   \n",
       "1  latest developments coronavirusoutbreak a boom cases italy iran u k italy spend coronavirus fight new york gets ok develop coronavirus test covid    \n",
       "2                                  go ahead scheduled middle east stands cancelled experts give valuable advice safety protocols massive events covid   \n",
       "4                                                                                  hey buddy think today armenia records first patient suffered covid   \n",
       "5                                                                                                            keeps india alive sundaymotivation covid   \n",
       "\n",
       "                                                                                                                                                            tokenized_texts  \\\n",
       "0                                                                                      [landed, mumbai, midnight, absolutely, no, thermal, scan, temperature, check, covid]   \n",
       "1  [latest, developments, coronavirusoutbreak, a, boom, cases, italy, iran, u, k, italy, spend, coronavirus, fight, new, york, gets, ok, develop, coronavirus, test, covid]   \n",
       "2                                       [go, ahead, scheduled, middle, east, stands, cancelled, experts, give, valuable, advice, safety, protocols, massive, events, covid]   \n",
       "4                                                                                             [hey, buddy, think, today, armenia, records, first, patient, suffered, covid]   \n",
       "5                                                                                                                            [keeps, india, alive, sundaymotivation, covid]   \n",
       "\n",
       "                                                           scores  compound  \\\n",
       "0   {'neg': 0.217, 'neu': 0.783, 'pos': 0.0, 'compound': -0.3597}    0.0000   \n",
       "1  {'neg': 0.119, 'neu': 0.78, 'pos': 0.101, 'compound': -0.1027}   -0.1027   \n",
       "2  {'neg': 0.096, 'neu': 0.622, 'pos': 0.282, 'compound': 0.5994}    0.5994   \n",
       "4   {'neg': 0.262, 'neu': 0.738, 'pos': 0.0, 'compound': -0.4939}   -0.4939   \n",
       "5    {'neg': 0.0, 'neu': 0.606, 'pos': 0.394, 'compound': 0.3818}    0.3818   \n",
       "\n",
       "  comp_score  \\\n",
       "0        ntl   \n",
       "1        neg   \n",
       "2        pos   \n",
       "4        neg   \n",
       "5        pos   \n",
       "\n",
       "                                                                                                                             clean_texts_no_Stopwords  \n",
       "0                                                                           landed mumbai midnight absolutely no thermal scan temperature check covid  \n",
       "1  latest developments coronavirusoutbreak a boom cases italy iran u k italy spend coronavirus fight new york gets ok develop coronavirus test covid   \n",
       "2                                  go ahead scheduled middle east stands cancelled experts give valuable advice safety protocols massive events covid  \n",
       "4                                                                                  hey buddy think today armenia records first patient suffered covid  \n",
       "5                                                                                                            keeps india alive sundaymotivation covid  "
      ]
     },
     "execution_count": 262,
     "metadata": {},
     "output_type": "execute_result"
    }
   ],
   "source": [
    "df_final['scores'] = df_final['clean_texts'].apply(lambda review: sid.polarity_scores(review))\n",
    "\n",
    "df_final.head()"
   ]
  },
  {
   "cell_type": "code",
   "execution_count": 263,
   "metadata": {},
   "outputs": [
    {
     "data": {
      "text/html": [
       "<div>\n",
       "<style scoped>\n",
       "    .dataframe tbody tr th:only-of-type {\n",
       "        vertical-align: middle;\n",
       "    }\n",
       "\n",
       "    .dataframe tbody tr th {\n",
       "        vertical-align: top;\n",
       "    }\n",
       "\n",
       "    .dataframe thead th {\n",
       "        text-align: right;\n",
       "    }\n",
       "</style>\n",
       "<table border=\"1\" class=\"dataframe\">\n",
       "  <thead>\n",
       "    <tr style=\"text-align: right;\">\n",
       "      <th></th>\n",
       "      <th>country</th>\n",
       "      <th>subcountry</th>\n",
       "      <th>user_followers</th>\n",
       "      <th>user_verified</th>\n",
       "      <th>date</th>\n",
       "      <th>text</th>\n",
       "      <th>hashtags</th>\n",
       "      <th>retweets</th>\n",
       "      <th>likes_count</th>\n",
       "      <th>clean_texts</th>\n",
       "      <th>tokenized_texts</th>\n",
       "      <th>scores</th>\n",
       "      <th>compound</th>\n",
       "      <th>comp_score</th>\n",
       "      <th>clean_texts_no_Stopwords</th>\n",
       "    </tr>\n",
       "  </thead>\n",
       "  <tbody>\n",
       "    <tr>\n",
       "      <th>0</th>\n",
       "      <td>India</td>\n",
       "      <td>Maharashtra</td>\n",
       "      <td>370</td>\n",
       "      <td>FALSE</td>\n",
       "      <td>2020-03-01</td>\n",
       "      <td>I landed in Mumbai at midnight and there was absolutely no thermal scan or temperature check. #covid</td>\n",
       "      <td>['covid']</td>\n",
       "      <td>0</td>\n",
       "      <td>0</td>\n",
       "      <td>landed mumbai midnight absolutely no thermal scan temperature check covid</td>\n",
       "      <td>[landed, mumbai, midnight, absolutely, no, thermal, scan, temperature, check, covid]</td>\n",
       "      <td>{'neg': 0.217, 'neu': 0.783, 'pos': 0.0, 'compound': -0.3597}</td>\n",
       "      <td>-0.3597</td>\n",
       "      <td>ntl</td>\n",
       "      <td>landed mumbai midnight absolutely no thermal scan temperature check covid</td>\n",
       "    </tr>\n",
       "    <tr>\n",
       "      <th>1</th>\n",
       "      <td>Bangladesh</td>\n",
       "      <td>Dhaka</td>\n",
       "      <td>57502</td>\n",
       "      <td>FALSE</td>\n",
       "      <td>2020-03-01</td>\n",
       "      <td>Here are the latest developments on the #coronavirusoutbreak:\\n\\n-A boom of cases in Italy, Iran and the U.K.\\n-Italy to spend $4B on coronavirus fight\\n-New York gets OK to develop its own coronavirus test\\n\\n#COVID #Coronavid19 https://t.co/t9I7scIuNi</td>\n",
       "      <td>['coronavirusoutbreak', 'COVID', 'Coronavid19']</td>\n",
       "      <td>7</td>\n",
       "      <td>12</td>\n",
       "      <td>latest developments coronavirusoutbreak a boom cases italy iran u k italy spend coronavirus fight new york gets ok develop coronavirus test covid</td>\n",
       "      <td>[latest, developments, coronavirusoutbreak, a, boom, cases, italy, iran, u, k, italy, spend, coronavirus, fight, new, york, gets, ok, develop, coronavirus, test, covid]</td>\n",
       "      <td>{'neg': 0.119, 'neu': 0.78, 'pos': 0.101, 'compound': -0.1027}</td>\n",
       "      <td>-0.1027</td>\n",
       "      <td>neg</td>\n",
       "      <td>latest developments coronavirusoutbreak a boom cases italy iran u k italy spend coronavirus fight new york gets ok develop coronavirus test covid</td>\n",
       "    </tr>\n",
       "    <tr>\n",
       "      <th>2</th>\n",
       "      <td>United Arab Emirates</td>\n",
       "      <td>Dubai</td>\n",
       "      <td>2061</td>\n",
       "      <td>TRUE</td>\n",
       "      <td>2020-03-01</td>\n",
       "      <td>@UltraAbuDhabi @MEFCC to go ahead as scheduled. @DJmag Middle East stands cancelled. Experts give their valuable advice on safety protocols at massive events! #COVID https://t.co/0XVKPI4Hb3</td>\n",
       "      <td>['COVID']</td>\n",
       "      <td>0</td>\n",
       "      <td>0</td>\n",
       "      <td>go ahead scheduled middle east stands cancelled experts give valuable advice safety protocols massive events covid</td>\n",
       "      <td>[go, ahead, scheduled, middle, east, stands, cancelled, experts, give, valuable, advice, safety, protocols, massive, events, covid]</td>\n",
       "      <td>{'neg': 0.096, 'neu': 0.622, 'pos': 0.282, 'compound': 0.5994}</td>\n",
       "      <td>0.5994</td>\n",
       "      <td>pos</td>\n",
       "      <td>go ahead scheduled middle east stands cancelled experts give valuable advice safety protocols massive events covid</td>\n",
       "    </tr>\n",
       "    <tr>\n",
       "      <th>4</th>\n",
       "      <td>Sri Lanka</td>\n",
       "      <td>NaN</td>\n",
       "      <td>850</td>\n",
       "      <td>FALSE</td>\n",
       "      <td>2020-03-01</td>\n",
       "      <td>@warunawijesuriy Hey buddy, I think today #Armenia  Records his first patient who suffered #COVID</td>\n",
       "      <td>['Armenia', 'COVID']</td>\n",
       "      <td>0</td>\n",
       "      <td>0</td>\n",
       "      <td>hey buddy think today armenia records first patient suffered covid</td>\n",
       "      <td>[hey, buddy, think, today, armenia, records, first, patient, suffered, covid]</td>\n",
       "      <td>{'neg': 0.262, 'neu': 0.738, 'pos': 0.0, 'compound': -0.4939}</td>\n",
       "      <td>-0.4939</td>\n",
       "      <td>neg</td>\n",
       "      <td>hey buddy think today armenia records first patient suffered covid</td>\n",
       "    </tr>\n",
       "    <tr>\n",
       "      <th>5</th>\n",
       "      <td>India</td>\n",
       "      <td>NCT</td>\n",
       "      <td>908</td>\n",
       "      <td>FALSE</td>\n",
       "      <td>2020-03-01</td>\n",
       "      <td>This is what keeps India alive..\\n#Section144\\n#SundayMotivation\\n#COVID\\nhttps://t.co/eD05WlkXQB</td>\n",
       "      <td>['Section144', 'SundayMotivation', 'COVID']</td>\n",
       "      <td>1</td>\n",
       "      <td>2</td>\n",
       "      <td>keeps india alive sundaymotivation covid</td>\n",
       "      <td>[keeps, india, alive, sundaymotivation, covid]</td>\n",
       "      <td>{'neg': 0.0, 'neu': 0.606, 'pos': 0.394, 'compound': 0.3818}</td>\n",
       "      <td>0.3818</td>\n",
       "      <td>pos</td>\n",
       "      <td>keeps india alive sundaymotivation covid</td>\n",
       "    </tr>\n",
       "  </tbody>\n",
       "</table>\n",
       "</div>"
      ],
      "text/plain": [
       "                country   subcountry user_followers user_verified        date  \\\n",
       "0                 India  Maharashtra            370         FALSE  2020-03-01   \n",
       "1            Bangladesh        Dhaka          57502         FALSE  2020-03-01   \n",
       "2  United Arab Emirates        Dubai           2061          TRUE  2020-03-01   \n",
       "4             Sri Lanka          NaN            850         FALSE  2020-03-01   \n",
       "5                 India          NCT            908         FALSE  2020-03-01   \n",
       "\n",
       "                                                                                                                                                                                                                                                            text  \\\n",
       "0                                                                                                                                                           I landed in Mumbai at midnight and there was absolutely no thermal scan or temperature check. #covid   \n",
       "1  Here are the latest developments on the #coronavirusoutbreak:\\n\\n-A boom of cases in Italy, Iran and the U.K.\\n-Italy to spend $4B on coronavirus fight\\n-New York gets OK to develop its own coronavirus test\\n\\n#COVID #Coronavid19 https://t.co/t9I7scIuNi   \n",
       "2                                                                  @UltraAbuDhabi @MEFCC to go ahead as scheduled. @DJmag Middle East stands cancelled. Experts give their valuable advice on safety protocols at massive events! #COVID https://t.co/0XVKPI4Hb3   \n",
       "4                                                                                                                                                              @warunawijesuriy Hey buddy, I think today #Armenia  Records his first patient who suffered #COVID   \n",
       "5                                                                                                                                                              This is what keeps India alive..\\n#Section144\\n#SundayMotivation\\n#COVID\\nhttps://t.co/eD05WlkXQB   \n",
       "\n",
       "                                          hashtags retweets likes_count  \\\n",
       "0                                        ['covid']        0           0   \n",
       "1  ['coronavirusoutbreak', 'COVID', 'Coronavid19']        7          12   \n",
       "2                                        ['COVID']        0           0   \n",
       "4                             ['Armenia', 'COVID']        0           0   \n",
       "5      ['Section144', 'SundayMotivation', 'COVID']        1           2   \n",
       "\n",
       "                                                                                                                                          clean_texts  \\\n",
       "0                                                                           landed mumbai midnight absolutely no thermal scan temperature check covid   \n",
       "1  latest developments coronavirusoutbreak a boom cases italy iran u k italy spend coronavirus fight new york gets ok develop coronavirus test covid    \n",
       "2                                  go ahead scheduled middle east stands cancelled experts give valuable advice safety protocols massive events covid   \n",
       "4                                                                                  hey buddy think today armenia records first patient suffered covid   \n",
       "5                                                                                                            keeps india alive sundaymotivation covid   \n",
       "\n",
       "                                                                                                                                                            tokenized_texts  \\\n",
       "0                                                                                      [landed, mumbai, midnight, absolutely, no, thermal, scan, temperature, check, covid]   \n",
       "1  [latest, developments, coronavirusoutbreak, a, boom, cases, italy, iran, u, k, italy, spend, coronavirus, fight, new, york, gets, ok, develop, coronavirus, test, covid]   \n",
       "2                                       [go, ahead, scheduled, middle, east, stands, cancelled, experts, give, valuable, advice, safety, protocols, massive, events, covid]   \n",
       "4                                                                                             [hey, buddy, think, today, armenia, records, first, patient, suffered, covid]   \n",
       "5                                                                                                                            [keeps, india, alive, sundaymotivation, covid]   \n",
       "\n",
       "                                                           scores  compound  \\\n",
       "0   {'neg': 0.217, 'neu': 0.783, 'pos': 0.0, 'compound': -0.3597}   -0.3597   \n",
       "1  {'neg': 0.119, 'neu': 0.78, 'pos': 0.101, 'compound': -0.1027}   -0.1027   \n",
       "2  {'neg': 0.096, 'neu': 0.622, 'pos': 0.282, 'compound': 0.5994}    0.5994   \n",
       "4   {'neg': 0.262, 'neu': 0.738, 'pos': 0.0, 'compound': -0.4939}   -0.4939   \n",
       "5    {'neg': 0.0, 'neu': 0.606, 'pos': 0.394, 'compound': 0.3818}    0.3818   \n",
       "\n",
       "  comp_score  \\\n",
       "0        ntl   \n",
       "1        neg   \n",
       "2        pos   \n",
       "4        neg   \n",
       "5        pos   \n",
       "\n",
       "                                                                                                                             clean_texts_no_Stopwords  \n",
       "0                                                                           landed mumbai midnight absolutely no thermal scan temperature check covid  \n",
       "1  latest developments coronavirusoutbreak a boom cases italy iran u k italy spend coronavirus fight new york gets ok develop coronavirus test covid   \n",
       "2                                  go ahead scheduled middle east stands cancelled experts give valuable advice safety protocols massive events covid  \n",
       "4                                                                                  hey buddy think today armenia records first patient suffered covid  \n",
       "5                                                                                                            keeps india alive sundaymotivation covid  "
      ]
     },
     "execution_count": 263,
     "metadata": {},
     "output_type": "execute_result"
    }
   ],
   "source": [
    "df_final['compound']  = df_final['scores'].apply(lambda score_dict: score_dict['compound'])\n",
    "\n",
    "df_final.head()"
   ]
  },
  {
   "cell_type": "code",
   "execution_count": 264,
   "metadata": {},
   "outputs": [
    {
     "data": {
      "text/html": [
       "<div>\n",
       "<style scoped>\n",
       "    .dataframe tbody tr th:only-of-type {\n",
       "        vertical-align: middle;\n",
       "    }\n",
       "\n",
       "    .dataframe tbody tr th {\n",
       "        vertical-align: top;\n",
       "    }\n",
       "\n",
       "    .dataframe thead th {\n",
       "        text-align: right;\n",
       "    }\n",
       "</style>\n",
       "<table border=\"1\" class=\"dataframe\">\n",
       "  <thead>\n",
       "    <tr style=\"text-align: right;\">\n",
       "      <th></th>\n",
       "      <th>country</th>\n",
       "      <th>subcountry</th>\n",
       "      <th>user_followers</th>\n",
       "      <th>user_verified</th>\n",
       "      <th>date</th>\n",
       "      <th>text</th>\n",
       "      <th>hashtags</th>\n",
       "      <th>retweets</th>\n",
       "      <th>likes_count</th>\n",
       "      <th>clean_texts</th>\n",
       "      <th>tokenized_texts</th>\n",
       "      <th>scores</th>\n",
       "      <th>compound</th>\n",
       "      <th>comp_score</th>\n",
       "      <th>clean_texts_no_Stopwords</th>\n",
       "    </tr>\n",
       "  </thead>\n",
       "  <tbody>\n",
       "    <tr>\n",
       "      <th>0</th>\n",
       "      <td>India</td>\n",
       "      <td>Maharashtra</td>\n",
       "      <td>370</td>\n",
       "      <td>FALSE</td>\n",
       "      <td>2020-03-01</td>\n",
       "      <td>I landed in Mumbai at midnight and there was absolutely no thermal scan or temperature check. #covid</td>\n",
       "      <td>['covid']</td>\n",
       "      <td>0</td>\n",
       "      <td>0</td>\n",
       "      <td>landed mumbai midnight absolutely no thermal scan temperature check covid</td>\n",
       "      <td>[landed, mumbai, midnight, absolutely, no, thermal, scan, temperature, check, covid]</td>\n",
       "      <td>{'neg': 0.217, 'neu': 0.783, 'pos': 0.0, 'compound': -0.3597}</td>\n",
       "      <td>-0.3597</td>\n",
       "      <td>neg</td>\n",
       "      <td>landed mumbai midnight absolutely no thermal scan temperature check covid</td>\n",
       "    </tr>\n",
       "    <tr>\n",
       "      <th>1</th>\n",
       "      <td>Bangladesh</td>\n",
       "      <td>Dhaka</td>\n",
       "      <td>57502</td>\n",
       "      <td>FALSE</td>\n",
       "      <td>2020-03-01</td>\n",
       "      <td>Here are the latest developments on the #coronavirusoutbreak:\\n\\n-A boom of cases in Italy, Iran and the U.K.\\n-Italy to spend $4B on coronavirus fight\\n-New York gets OK to develop its own coronavirus test\\n\\n#COVID #Coronavid19 https://t.co/t9I7scIuNi</td>\n",
       "      <td>['coronavirusoutbreak', 'COVID', 'Coronavid19']</td>\n",
       "      <td>7</td>\n",
       "      <td>12</td>\n",
       "      <td>latest developments coronavirusoutbreak a boom cases italy iran u k italy spend coronavirus fight new york gets ok develop coronavirus test covid</td>\n",
       "      <td>[latest, developments, coronavirusoutbreak, a, boom, cases, italy, iran, u, k, italy, spend, coronavirus, fight, new, york, gets, ok, develop, coronavirus, test, covid]</td>\n",
       "      <td>{'neg': 0.119, 'neu': 0.78, 'pos': 0.101, 'compound': -0.1027}</td>\n",
       "      <td>-0.1027</td>\n",
       "      <td>neg</td>\n",
       "      <td>latest developments coronavirusoutbreak a boom cases italy iran u k italy spend coronavirus fight new york gets ok develop coronavirus test covid</td>\n",
       "    </tr>\n",
       "    <tr>\n",
       "      <th>2</th>\n",
       "      <td>United Arab Emirates</td>\n",
       "      <td>Dubai</td>\n",
       "      <td>2061</td>\n",
       "      <td>TRUE</td>\n",
       "      <td>2020-03-01</td>\n",
       "      <td>@UltraAbuDhabi @MEFCC to go ahead as scheduled. @DJmag Middle East stands cancelled. Experts give their valuable advice on safety protocols at massive events! #COVID https://t.co/0XVKPI4Hb3</td>\n",
       "      <td>['COVID']</td>\n",
       "      <td>0</td>\n",
       "      <td>0</td>\n",
       "      <td>go ahead scheduled middle east stands cancelled experts give valuable advice safety protocols massive events covid</td>\n",
       "      <td>[go, ahead, scheduled, middle, east, stands, cancelled, experts, give, valuable, advice, safety, protocols, massive, events, covid]</td>\n",
       "      <td>{'neg': 0.096, 'neu': 0.622, 'pos': 0.282, 'compound': 0.5994}</td>\n",
       "      <td>0.5994</td>\n",
       "      <td>pos</td>\n",
       "      <td>go ahead scheduled middle east stands cancelled experts give valuable advice safety protocols massive events covid</td>\n",
       "    </tr>\n",
       "    <tr>\n",
       "      <th>4</th>\n",
       "      <td>Sri Lanka</td>\n",
       "      <td>NaN</td>\n",
       "      <td>850</td>\n",
       "      <td>FALSE</td>\n",
       "      <td>2020-03-01</td>\n",
       "      <td>@warunawijesuriy Hey buddy, I think today #Armenia  Records his first patient who suffered #COVID</td>\n",
       "      <td>['Armenia', 'COVID']</td>\n",
       "      <td>0</td>\n",
       "      <td>0</td>\n",
       "      <td>hey buddy think today armenia records first patient suffered covid</td>\n",
       "      <td>[hey, buddy, think, today, armenia, records, first, patient, suffered, covid]</td>\n",
       "      <td>{'neg': 0.262, 'neu': 0.738, 'pos': 0.0, 'compound': -0.4939}</td>\n",
       "      <td>-0.4939</td>\n",
       "      <td>neg</td>\n",
       "      <td>hey buddy think today armenia records first patient suffered covid</td>\n",
       "    </tr>\n",
       "    <tr>\n",
       "      <th>5</th>\n",
       "      <td>India</td>\n",
       "      <td>NCT</td>\n",
       "      <td>908</td>\n",
       "      <td>FALSE</td>\n",
       "      <td>2020-03-01</td>\n",
       "      <td>This is what keeps India alive..\\n#Section144\\n#SundayMotivation\\n#COVID\\nhttps://t.co/eD05WlkXQB</td>\n",
       "      <td>['Section144', 'SundayMotivation', 'COVID']</td>\n",
       "      <td>1</td>\n",
       "      <td>2</td>\n",
       "      <td>keeps india alive sundaymotivation covid</td>\n",
       "      <td>[keeps, india, alive, sundaymotivation, covid]</td>\n",
       "      <td>{'neg': 0.0, 'neu': 0.606, 'pos': 0.394, 'compound': 0.3818}</td>\n",
       "      <td>0.3818</td>\n",
       "      <td>pos</td>\n",
       "      <td>keeps india alive sundaymotivation covid</td>\n",
       "    </tr>\n",
       "  </tbody>\n",
       "</table>\n",
       "</div>"
      ],
      "text/plain": [
       "                country   subcountry user_followers user_verified        date  \\\n",
       "0                 India  Maharashtra            370         FALSE  2020-03-01   \n",
       "1            Bangladesh        Dhaka          57502         FALSE  2020-03-01   \n",
       "2  United Arab Emirates        Dubai           2061          TRUE  2020-03-01   \n",
       "4             Sri Lanka          NaN            850         FALSE  2020-03-01   \n",
       "5                 India          NCT            908         FALSE  2020-03-01   \n",
       "\n",
       "                                                                                                                                                                                                                                                            text  \\\n",
       "0                                                                                                                                                           I landed in Mumbai at midnight and there was absolutely no thermal scan or temperature check. #covid   \n",
       "1  Here are the latest developments on the #coronavirusoutbreak:\\n\\n-A boom of cases in Italy, Iran and the U.K.\\n-Italy to spend $4B on coronavirus fight\\n-New York gets OK to develop its own coronavirus test\\n\\n#COVID #Coronavid19 https://t.co/t9I7scIuNi   \n",
       "2                                                                  @UltraAbuDhabi @MEFCC to go ahead as scheduled. @DJmag Middle East stands cancelled. Experts give their valuable advice on safety protocols at massive events! #COVID https://t.co/0XVKPI4Hb3   \n",
       "4                                                                                                                                                              @warunawijesuriy Hey buddy, I think today #Armenia  Records his first patient who suffered #COVID   \n",
       "5                                                                                                                                                              This is what keeps India alive..\\n#Section144\\n#SundayMotivation\\n#COVID\\nhttps://t.co/eD05WlkXQB   \n",
       "\n",
       "                                          hashtags retweets likes_count  \\\n",
       "0                                        ['covid']        0           0   \n",
       "1  ['coronavirusoutbreak', 'COVID', 'Coronavid19']        7          12   \n",
       "2                                        ['COVID']        0           0   \n",
       "4                             ['Armenia', 'COVID']        0           0   \n",
       "5      ['Section144', 'SundayMotivation', 'COVID']        1           2   \n",
       "\n",
       "                                                                                                                                          clean_texts  \\\n",
       "0                                                                           landed mumbai midnight absolutely no thermal scan temperature check covid   \n",
       "1  latest developments coronavirusoutbreak a boom cases italy iran u k italy spend coronavirus fight new york gets ok develop coronavirus test covid    \n",
       "2                                  go ahead scheduled middle east stands cancelled experts give valuable advice safety protocols massive events covid   \n",
       "4                                                                                  hey buddy think today armenia records first patient suffered covid   \n",
       "5                                                                                                            keeps india alive sundaymotivation covid   \n",
       "\n",
       "                                                                                                                                                            tokenized_texts  \\\n",
       "0                                                                                      [landed, mumbai, midnight, absolutely, no, thermal, scan, temperature, check, covid]   \n",
       "1  [latest, developments, coronavirusoutbreak, a, boom, cases, italy, iran, u, k, italy, spend, coronavirus, fight, new, york, gets, ok, develop, coronavirus, test, covid]   \n",
       "2                                       [go, ahead, scheduled, middle, east, stands, cancelled, experts, give, valuable, advice, safety, protocols, massive, events, covid]   \n",
       "4                                                                                             [hey, buddy, think, today, armenia, records, first, patient, suffered, covid]   \n",
       "5                                                                                                                            [keeps, india, alive, sundaymotivation, covid]   \n",
       "\n",
       "                                                           scores  compound  \\\n",
       "0   {'neg': 0.217, 'neu': 0.783, 'pos': 0.0, 'compound': -0.3597}   -0.3597   \n",
       "1  {'neg': 0.119, 'neu': 0.78, 'pos': 0.101, 'compound': -0.1027}   -0.1027   \n",
       "2  {'neg': 0.096, 'neu': 0.622, 'pos': 0.282, 'compound': 0.5994}    0.5994   \n",
       "4   {'neg': 0.262, 'neu': 0.738, 'pos': 0.0, 'compound': -0.4939}   -0.4939   \n",
       "5    {'neg': 0.0, 'neu': 0.606, 'pos': 0.394, 'compound': 0.3818}    0.3818   \n",
       "\n",
       "  comp_score  \\\n",
       "0        neg   \n",
       "1        neg   \n",
       "2        pos   \n",
       "4        neg   \n",
       "5        pos   \n",
       "\n",
       "                                                                                                                             clean_texts_no_Stopwords  \n",
       "0                                                                           landed mumbai midnight absolutely no thermal scan temperature check covid  \n",
       "1  latest developments coronavirusoutbreak a boom cases italy iran u k italy spend coronavirus fight new york gets ok develop coronavirus test covid   \n",
       "2                                  go ahead scheduled middle east stands cancelled experts give valuable advice safety protocols massive events covid  \n",
       "4                                                                                  hey buddy think today armenia records first patient suffered covid  \n",
       "5                                                                                                            keeps india alive sundaymotivation covid  "
      ]
     },
     "execution_count": 264,
     "metadata": {},
     "output_type": "execute_result"
    }
   ],
   "source": [
    "df_final['comp_score'] = df_final['compound'].apply(lambda c: 'pos' if c >0 else ('ntl' if c ==0 else 'neg'))\n",
    "\n",
    "df_final.head()"
   ]
  },
  {
   "cell_type": "code",
   "execution_count": 265,
   "metadata": {},
   "outputs": [
    {
     "data": {
      "text/plain": [
       "0"
      ]
     },
     "execution_count": 265,
     "metadata": {},
     "output_type": "execute_result"
    }
   ],
   "source": [
    "df_final['clean_texts'].duplicated().sum()"
   ]
  },
  {
   "cell_type": "code",
   "execution_count": 266,
   "metadata": {},
   "outputs": [],
   "source": [
    "df_final = df_final.drop_duplicates(subset=['clean_texts'], keep='last')"
   ]
  },
  {
   "cell_type": "code",
   "execution_count": 270,
   "metadata": {},
   "outputs": [
    {
     "data": {
      "text/html": [
       "<div>\n",
       "<style scoped>\n",
       "    .dataframe tbody tr th:only-of-type {\n",
       "        vertical-align: middle;\n",
       "    }\n",
       "\n",
       "    .dataframe tbody tr th {\n",
       "        vertical-align: top;\n",
       "    }\n",
       "\n",
       "    .dataframe thead th {\n",
       "        text-align: right;\n",
       "    }\n",
       "</style>\n",
       "<table border=\"1\" class=\"dataframe\">\n",
       "  <thead>\n",
       "    <tr style=\"text-align: right;\">\n",
       "      <th></th>\n",
       "      <th>country</th>\n",
       "      <th>date</th>\n",
       "      <th>text</th>\n",
       "      <th>clean_texts</th>\n",
       "      <th>tokenized_texts</th>\n",
       "      <th>comp_score</th>\n",
       "    </tr>\n",
       "  </thead>\n",
       "  <tbody>\n",
       "    <tr>\n",
       "      <th>0</th>\n",
       "      <td>India</td>\n",
       "      <td>2020-03-01</td>\n",
       "      <td>I landed in Mumbai at midnight and there was absolutely no thermal scan or temperature check. #covid</td>\n",
       "      <td>landed mumbai midnight absolutely no thermal scan temperature check covid</td>\n",
       "      <td>[landed, mumbai, midnight, absolutely, no, thermal, scan, temperature, check, covid]</td>\n",
       "      <td>neg</td>\n",
       "    </tr>\n",
       "    <tr>\n",
       "      <th>1</th>\n",
       "      <td>Bangladesh</td>\n",
       "      <td>2020-03-01</td>\n",
       "      <td>Here are the latest developments on the #coronavirusoutbreak:\\n\\n-A boom of cases in Italy, Iran and the U.K.\\n-Italy to spend $4B on coronavirus fight\\n-New York gets OK to develop its own coronavirus test\\n\\n#COVID #Coronavid19 https://t.co/t9I7scIuNi</td>\n",
       "      <td>latest developments coronavirusoutbreak a boom cases italy iran u k italy spend coronavirus fight new york gets ok develop coronavirus test covid</td>\n",
       "      <td>[latest, developments, coronavirusoutbreak, a, boom, cases, italy, iran, u, k, italy, spend, coronavirus, fight, new, york, gets, ok, develop, coronavirus, test, covid]</td>\n",
       "      <td>neg</td>\n",
       "    </tr>\n",
       "    <tr>\n",
       "      <th>2</th>\n",
       "      <td>United Arab Emirates</td>\n",
       "      <td>2020-03-01</td>\n",
       "      <td>@UltraAbuDhabi @MEFCC to go ahead as scheduled. @DJmag Middle East stands cancelled. Experts give their valuable advice on safety protocols at massive events! #COVID https://t.co/0XVKPI4Hb3</td>\n",
       "      <td>go ahead scheduled middle east stands cancelled experts give valuable advice safety protocols massive events covid</td>\n",
       "      <td>[go, ahead, scheduled, middle, east, stands, cancelled, experts, give, valuable, advice, safety, protocols, massive, events, covid]</td>\n",
       "      <td>pos</td>\n",
       "    </tr>\n",
       "    <tr>\n",
       "      <th>4</th>\n",
       "      <td>Sri Lanka</td>\n",
       "      <td>2020-03-01</td>\n",
       "      <td>@warunawijesuriy Hey buddy, I think today #Armenia  Records his first patient who suffered #COVID</td>\n",
       "      <td>hey buddy think today armenia records first patient suffered covid</td>\n",
       "      <td>[hey, buddy, think, today, armenia, records, first, patient, suffered, covid]</td>\n",
       "      <td>neg</td>\n",
       "    </tr>\n",
       "    <tr>\n",
       "      <th>5</th>\n",
       "      <td>India</td>\n",
       "      <td>2020-03-01</td>\n",
       "      <td>This is what keeps India alive..\\n#Section144\\n#SundayMotivation\\n#COVID\\nhttps://t.co/eD05WlkXQB</td>\n",
       "      <td>keeps india alive sundaymotivation covid</td>\n",
       "      <td>[keeps, india, alive, sundaymotivation, covid]</td>\n",
       "      <td>pos</td>\n",
       "    </tr>\n",
       "  </tbody>\n",
       "</table>\n",
       "</div>"
      ],
      "text/plain": [
       "                country        date  \\\n",
       "0                 India  2020-03-01   \n",
       "1            Bangladesh  2020-03-01   \n",
       "2  United Arab Emirates  2020-03-01   \n",
       "4             Sri Lanka  2020-03-01   \n",
       "5                 India  2020-03-01   \n",
       "\n",
       "                                                                                                                                                                                                                                                            text  \\\n",
       "0                                                                                                                                                           I landed in Mumbai at midnight and there was absolutely no thermal scan or temperature check. #covid   \n",
       "1  Here are the latest developments on the #coronavirusoutbreak:\\n\\n-A boom of cases in Italy, Iran and the U.K.\\n-Italy to spend $4B on coronavirus fight\\n-New York gets OK to develop its own coronavirus test\\n\\n#COVID #Coronavid19 https://t.co/t9I7scIuNi   \n",
       "2                                                                  @UltraAbuDhabi @MEFCC to go ahead as scheduled. @DJmag Middle East stands cancelled. Experts give their valuable advice on safety protocols at massive events! #COVID https://t.co/0XVKPI4Hb3   \n",
       "4                                                                                                                                                              @warunawijesuriy Hey buddy, I think today #Armenia  Records his first patient who suffered #COVID   \n",
       "5                                                                                                                                                              This is what keeps India alive..\\n#Section144\\n#SundayMotivation\\n#COVID\\nhttps://t.co/eD05WlkXQB   \n",
       "\n",
       "                                                                                                                                          clean_texts  \\\n",
       "0                                                                           landed mumbai midnight absolutely no thermal scan temperature check covid   \n",
       "1  latest developments coronavirusoutbreak a boom cases italy iran u k italy spend coronavirus fight new york gets ok develop coronavirus test covid    \n",
       "2                                  go ahead scheduled middle east stands cancelled experts give valuable advice safety protocols massive events covid   \n",
       "4                                                                                  hey buddy think today armenia records first patient suffered covid   \n",
       "5                                                                                                            keeps india alive sundaymotivation covid   \n",
       "\n",
       "                                                                                                                                                            tokenized_texts  \\\n",
       "0                                                                                      [landed, mumbai, midnight, absolutely, no, thermal, scan, temperature, check, covid]   \n",
       "1  [latest, developments, coronavirusoutbreak, a, boom, cases, italy, iran, u, k, italy, spend, coronavirus, fight, new, york, gets, ok, develop, coronavirus, test, covid]   \n",
       "2                                       [go, ahead, scheduled, middle, east, stands, cancelled, experts, give, valuable, advice, safety, protocols, massive, events, covid]   \n",
       "4                                                                                             [hey, buddy, think, today, armenia, records, first, patient, suffered, covid]   \n",
       "5                                                                                                                            [keeps, india, alive, sundaymotivation, covid]   \n",
       "\n",
       "  comp_score  \n",
       "0        neg  \n",
       "1        neg  \n",
       "2        pos  \n",
       "4        neg  \n",
       "5        pos  "
      ]
     },
     "execution_count": 270,
     "metadata": {},
     "output_type": "execute_result"
    }
   ],
   "source": [
    "# df_new = df_final.drop(['subcountry','clean_texts_no_Stopwords','scores','compound'], axis =1)\n",
    "df_new = df_final.drop(['subcountry','scores','compound','retweets','hashtags','user_followers','user_verified','likes_count','clean_texts_no_Stopwords'], axis =1)\n",
    "df_new.head()"
   ]
  },
  {
   "cell_type": "code",
   "execution_count": 271,
   "metadata": {},
   "outputs": [
    {
     "data": {
      "text/plain": [
       "pos    148177\n",
       "ntl     84620\n",
       "neg     68082\n",
       "Name: comp_score, dtype: int64"
      ]
     },
     "execution_count": 271,
     "metadata": {},
     "output_type": "execute_result"
    }
   ],
   "source": [
    "df_new['comp_score'].value_counts()"
   ]
  },
  {
   "cell_type": "code",
   "execution_count": 269,
   "metadata": {},
   "outputs": [
    {
     "data": {
      "image/png": "[encoded data removed]",
      "text/plain": [
       "<Figure size 432x288 with 1 Axes>"
      ]
     },
     "metadata": {
      "needs_background": "light"
     },
     "output_type": "display_data"
    }
   ],
   "source": [
    "df_new['comp_score'].value_counts().sort_index().plot.bar()\n",
    "plt.xlabel('Sentiment Label', fontsize=18)\n",
    "plt.ylabel('Tweet Count', fontsize=18)\n",
    "plt.xticks(fontsize=14)\n",
    "plt.yticks(fontsize=14)\n",
    "plt.tight_layout()\n",
    "plt.show()\n",
    "# df_new.plot(x=\"comp_score\", y=\"\", kind=\"bar\", ax=ax, color=\"maroon\")"
   ]
  },
  {
   "cell_type": "code",
   "execution_count": null,
   "metadata": {},
   "outputs": [],
   "source": []
  },
  {
   "cell_type": "markdown",
   "metadata": {},
   "source": [
    "## Negative is lower then positive sentiment"
   ]
  },
  {
   "cell_type": "code",
   "execution_count": 283,
   "metadata": {},
   "outputs": [],
   "source": [
    "# raw_df1 = df_new[df_new['clean_texts'].str.contains('\\b' + '\\b|\\b'.join('amp']) + '\\b')]"
   ]
  },
  {
   "cell_type": "markdown",
   "metadata": {},
   "source": [
    "# Model Building"
   ]
  },
  {
   "cell_type": "code",
   "execution_count": 286,
   "metadata": {},
   "outputs": [],
   "source": [
    "# words = [w for w in nltk.corpus.vader_lexicon.words() if w.isalpha()]\n",
    "# finder = nltk.collocations.TrigramCollocationFinder.from_words(words)"
   ]
  },
  {
   "cell_type": "code",
   "execution_count": 294,
   "metadata": {},
   "outputs": [],
   "source": [
    "from sklearn.feature_extraction.text import TfidfVectorizer\n",
    "vector = TfidfVectorizer(ngram_range=(1,2),min_df=1)\n",
    "vector.fit(df_new['clean_texts'])\n",
    "vect_X = vector.fit_transform(df_new['clean_texts'])"
   ]
  },
  {
   "cell_type": "code",
   "execution_count": 295,
   "metadata": {},
   "outputs": [
    {
     "ename": "MemoryError",
     "evalue": "Unable to allocate 5.31 TiB for an array with shape (300879, 2424768) and data type float64",
     "output_type": "error",
     "traceback": [
      "\u001b[1;31m---------------------------------------------------------------------------\u001b[0m",
      "\u001b[1;31mMemoryError\u001b[0m                               Traceback (most recent call last)",
      "\u001b[1;32m<ipython-input-295-5354ce05a09e>\u001b[0m in \u001b[0;36m<module>\u001b[1;34m\u001b[0m\n\u001b[1;32m----> 1\u001b[1;33m \u001b[0mraw_df\u001b[0m\u001b[1;33m=\u001b[0m \u001b[0mpd\u001b[0m\u001b[1;33m.\u001b[0m\u001b[0mDataFrame\u001b[0m\u001b[1;33m(\u001b[0m\u001b[0mvect_X\u001b[0m\u001b[1;33m.\u001b[0m\u001b[0mtoarray\u001b[0m\u001b[1;33m(\u001b[0m\u001b[1;33m)\u001b[0m\u001b[1;33m,\u001b[0m\u001b[0mcolumns\u001b[0m\u001b[1;33m=\u001b[0m\u001b[0mvector\u001b[0m\u001b[1;33m.\u001b[0m\u001b[0mget_feature_names\u001b[0m\u001b[1;33m(\u001b[0m\u001b[1;33m)\u001b[0m\u001b[1;33m)\u001b[0m\u001b[1;33m\u001b[0m\u001b[1;33m\u001b[0m\u001b[0m\n\u001b[0m",
      "\u001b[1;32mc:\\Users\\ayushjain9\\Desktop\\TwitterProject\\vlib\\lib\\site-packages\\scipy\\sparse\\compressed.py\u001b[0m in \u001b[0;36mtoarray\u001b[1;34m(self, order, out)\u001b[0m\n\u001b[0;32m   1027\u001b[0m         \u001b[1;32mif\u001b[0m \u001b[0mout\u001b[0m \u001b[1;32mis\u001b[0m \u001b[1;32mNone\u001b[0m \u001b[1;32mand\u001b[0m \u001b[0morder\u001b[0m \u001b[1;32mis\u001b[0m \u001b[1;32mNone\u001b[0m\u001b[1;33m:\u001b[0m\u001b[1;33m\u001b[0m\u001b[1;33m\u001b[0m\u001b[0m\n\u001b[0;32m   1028\u001b[0m             \u001b[0morder\u001b[0m \u001b[1;33m=\u001b[0m \u001b[0mself\u001b[0m\u001b[1;33m.\u001b[0m\u001b[0m_swap\u001b[0m\u001b[1;33m(\u001b[0m\u001b[1;34m'cf'\u001b[0m\u001b[1;33m)\u001b[0m\u001b[1;33m[\u001b[0m\u001b[1;36m0\u001b[0m\u001b[1;33m]\u001b[0m\u001b[1;33m\u001b[0m\u001b[1;33m\u001b[0m\u001b[0m\n\u001b[1;32m-> 1029\u001b[1;33m         \u001b[0mout\u001b[0m \u001b[1;33m=\u001b[0m \u001b[0mself\u001b[0m\u001b[1;33m.\u001b[0m\u001b[0m_process_toarray_args\u001b[0m\u001b[1;33m(\u001b[0m\u001b[0morder\u001b[0m\u001b[1;33m,\u001b[0m \u001b[0mout\u001b[0m\u001b[1;33m)\u001b[0m\u001b[1;33m\u001b[0m\u001b[1;33m\u001b[0m\u001b[0m\n\u001b[0m\u001b[0;32m   1030\u001b[0m         \u001b[1;32mif\u001b[0m \u001b[1;32mnot\u001b[0m \u001b[1;33m(\u001b[0m\u001b[0mout\u001b[0m\u001b[1;33m.\u001b[0m\u001b[0mflags\u001b[0m\u001b[1;33m.\u001b[0m\u001b[0mc_contiguous\u001b[0m \u001b[1;32mor\u001b[0m \u001b[0mout\u001b[0m\u001b[1;33m.\u001b[0m\u001b[0mflags\u001b[0m\u001b[1;33m.\u001b[0m\u001b[0mf_contiguous\u001b[0m\u001b[1;33m)\u001b[0m\u001b[1;33m:\u001b[0m\u001b[1;33m\u001b[0m\u001b[1;33m\u001b[0m\u001b[0m\n\u001b[0;32m   1031\u001b[0m             \u001b[1;32mraise\u001b[0m \u001b[0mValueError\u001b[0m\u001b[1;33m(\u001b[0m\u001b[1;34m'Output array must be C or F contiguous'\u001b[0m\u001b[1;33m)\u001b[0m\u001b[1;33m\u001b[0m\u001b[1;33m\u001b[0m\u001b[0m\n",
      "\u001b[1;32mc:\\Users\\ayushjain9\\Desktop\\TwitterProject\\vlib\\lib\\site-packages\\scipy\\sparse\\base.py\u001b[0m in \u001b[0;36m_process_toarray_args\u001b[1;34m(self, order, out)\u001b[0m\n\u001b[0;32m   1183\u001b[0m             \u001b[1;32mreturn\u001b[0m \u001b[0mout\u001b[0m\u001b[1;33m\u001b[0m\u001b[1;33m\u001b[0m\u001b[0m\n\u001b[0;32m   1184\u001b[0m         \u001b[1;32melse\u001b[0m\u001b[1;33m:\u001b[0m\u001b[1;33m\u001b[0m\u001b[1;33m\u001b[0m\u001b[0m\n\u001b[1;32m-> 1185\u001b[1;33m             \u001b[1;32mreturn\u001b[0m \u001b[0mnp\u001b[0m\u001b[1;33m.\u001b[0m\u001b[0mzeros\u001b[0m\u001b[1;33m(\u001b[0m\u001b[0mself\u001b[0m\u001b[1;33m.\u001b[0m\u001b[0mshape\u001b[0m\u001b[1;33m,\u001b[0m \u001b[0mdtype\u001b[0m\u001b[1;33m=\u001b[0m\u001b[0mself\u001b[0m\u001b[1;33m.\u001b[0m\u001b[0mdtype\u001b[0m\u001b[1;33m,\u001b[0m \u001b[0morder\u001b[0m\u001b[1;33m=\u001b[0m\u001b[0morder\u001b[0m\u001b[1;33m)\u001b[0m\u001b[1;33m\u001b[0m\u001b[1;33m\u001b[0m\u001b[0m\n\u001b[0m\u001b[0;32m   1186\u001b[0m \u001b[1;33m\u001b[0m\u001b[0m\n\u001b[0;32m   1187\u001b[0m \u001b[1;33m\u001b[0m\u001b[0m\n",
      "\u001b[1;31mMemoryError\u001b[0m: Unable to allocate 5.31 TiB for an array with shape (300879, 2424768) and data type float64"
     ]
    }
   ],
   "source": [
    "raw_df= pd.DataFrame(vect_X.toarray(),columns=vector.get_feature_names())"
   ]
  },
  {
   "cell_type": "code",
   "execution_count": null,
   "metadata": {},
   "outputs": [],
   "source": []
  }
 ],
 "metadata": {
  "interpreter": {
   "hash": "fe50032d58a82280dd1498746f4654d9737c0e996d20111ca19097e1479440f8"
  },
  "kernelspec": {
   "display_name": "Python 3.6.7 64-bit ('vlib': venv)",
   "name": "python3"
  },
  "language_info": {
   "codemirror_mode": {
    "name": "ipython",
    "version": 3
   },
   "file_extension": ".py",
   "mimetype": "text/x-python",
   "name": "python",
   "nbconvert_exporter": "python",
   "pygments_lexer": "ipython3",
   "version": "3.6.7"
  },
  "orig_nbformat": 4
 },
 "nbformat": 4,
 "nbformat_minor": 2
}
