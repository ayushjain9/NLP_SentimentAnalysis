{
 "cells": [
  {
   "cell_type": "code",
   "execution_count": 1,
   "metadata": {},
   "outputs": [],
   "source": [
    "import pandas as pd\n",
    "import re"
   ]
  },
  {
   "cell_type": "markdown",
   "metadata": {},
   "source": [
    "## 'Covid Data'"
   ]
  },
  {
   "cell_type": "code",
   "execution_count": 2,
   "metadata": {},
   "outputs": [],
   "source": [
    "data = pd.read_csv(\"C:\\\\Users\\\\ayushjain9\\\\Desktop\\\\TwitterProject\\\\data\\\\combine.csv\")"
   ]
  },
  {
   "cell_type": "code",
   "execution_count": 3,
   "metadata": {},
   "outputs": [
    {
     "data": {
      "text/plain": [
       "(870589, 10)"
      ]
     },
     "execution_count": 3,
     "metadata": {},
     "output_type": "execute_result"
    }
   ],
   "source": [
    "data.shape"
   ]
  },
  {
   "cell_type": "code",
   "execution_count": 4,
   "metadata": {},
   "outputs": [],
   "source": [
    "#Remove duplicates from Content column\n",
    "data.drop_duplicates(subset =\"Content\", inplace = True)"
   ]
  },
  {
   "cell_type": "code",
   "execution_count": 5,
   "metadata": {},
   "outputs": [
    {
     "data": {
      "text/plain": [
       "(377547, 10)"
      ]
     },
     "execution_count": 5,
     "metadata": {},
     "output_type": "execute_result"
    }
   ],
   "source": [
    "data.shape"
   ]
  },
  {
   "cell_type": "code",
   "execution_count": 6,
   "metadata": {},
   "outputs": [
    {
     "name": "stdout",
     "output_type": "stream",
     "text": [
      "<class 'pandas.core.frame.DataFrame'>\n",
      "Int64Index: 377547 entries, 0 to 870566\n",
      "Data columns (total 10 columns):\n",
      " #   Column           Non-Null Count   Dtype \n",
      "---  ------           --------------   ----- \n",
      " 0   Datetime         377546 non-null  object\n",
      " 1   Tweet Id         377545 non-null  object\n",
      " 2   Content          377546 non-null  object\n",
      " 3   Location         348776 non-null  object\n",
      " 4   Retweeted Tweet  2 non-null       object\n",
      " 5   Retweeted Count  377543 non-null  object\n",
      " 6   Like Count       377543 non-null  object\n",
      " 7   Hashtags         377394 non-null  object\n",
      " 8   Follower Count   377542 non-null  object\n",
      " 9   Verified User    377542 non-null  object\n",
      "dtypes: object(10)\n",
      "memory usage: 31.7+ MB\n"
     ]
    }
   ],
   "source": [
    "data.info()"
   ]
  },
  {
   "cell_type": "code",
   "execution_count": 7,
   "metadata": {},
   "outputs": [],
   "source": [
    "## Retweeted Tweet is 2\n",
    "data.drop(['Tweet Id', 'Retweeted Tweet'], axis = 1, inplace=True)"
   ]
  },
  {
   "cell_type": "code",
   "execution_count": 8,
   "metadata": {},
   "outputs": [
    {
     "name": "stdout",
     "output_type": "stream",
     "text": [
      "['Datetime', 'Content', 'Location', 'Retweeted Count', 'Like Count', 'Hashtags', 'Follower Count', 'Verified User']\n"
     ]
    }
   ],
   "source": [
    "print(data.columns.values.tolist())"
   ]
  },
  {
   "cell_type": "code",
   "execution_count": 9,
   "metadata": {},
   "outputs": [],
   "source": [
    "data.columns = [ 'date', 'text','user_location', 'retweets', 'likes_count','hashtags', 'user_followers', 'user_verified']"
   ]
  },
  {
   "cell_type": "code",
   "execution_count": 10,
   "metadata": {},
   "outputs": [],
   "source": [
    "data = data[['user_location','user_followers', 'user_verified','date', 'text', 'hashtags','retweets','likes_count' ]]"
   ]
  },
  {
   "cell_type": "code",
   "execution_count": 11,
   "metadata": {},
   "outputs": [
    {
     "data": {
      "text/html": [
       "<div>\n",
       "<style scoped>\n",
       "    .dataframe tbody tr th:only-of-type {\n",
       "        vertical-align: middle;\n",
       "    }\n",
       "\n",
       "    .dataframe tbody tr th {\n",
       "        vertical-align: top;\n",
       "    }\n",
       "\n",
       "    .dataframe thead th {\n",
       "        text-align: right;\n",
       "    }\n",
       "</style>\n",
       "<table border=\"1\" class=\"dataframe\">\n",
       "  <thead>\n",
       "    <tr style=\"text-align: right;\">\n",
       "      <th></th>\n",
       "      <th>user_location</th>\n",
       "      <th>user_followers</th>\n",
       "      <th>user_verified</th>\n",
       "      <th>date</th>\n",
       "      <th>text</th>\n",
       "      <th>hashtags</th>\n",
       "      <th>retweets</th>\n",
       "      <th>likes_count</th>\n",
       "    </tr>\n",
       "  </thead>\n",
       "  <tbody>\n",
       "    <tr>\n",
       "      <th>0</th>\n",
       "      <td>ประเทศไทย</td>\n",
       "      <td>33</td>\n",
       "      <td>FALSE</td>\n",
       "      <td>2020-03-01 23:34:58+00:00</td>\n",
       "      <td>Everyone takes care of their health please.✌🏽😷...</td>\n",
       "      <td>['COVID', 'worldwide']</td>\n",
       "      <td>2</td>\n",
       "      <td>2</td>\n",
       "    </tr>\n",
       "    <tr>\n",
       "      <th>1</th>\n",
       "      <td>Mumbai</td>\n",
       "      <td>370</td>\n",
       "      <td>FALSE</td>\n",
       "      <td>2020-03-01 22:08:50+00:00</td>\n",
       "      <td>I landed in Mumbai at midnight and there was a...</td>\n",
       "      <td>['covid']</td>\n",
       "      <td>0</td>\n",
       "      <td>0</td>\n",
       "    </tr>\n",
       "    <tr>\n",
       "      <th>2</th>\n",
       "      <td>Dhaka</td>\n",
       "      <td>57502</td>\n",
       "      <td>FALSE</td>\n",
       "      <td>2020-03-01 22:03:21+00:00</td>\n",
       "      <td>Here are the latest developments on the #coron...</td>\n",
       "      <td>['coronavirusoutbreak', 'COVID', 'Coronavid19']</td>\n",
       "      <td>7</td>\n",
       "      <td>12</td>\n",
       "    </tr>\n",
       "    <tr>\n",
       "      <th>3</th>\n",
       "      <td>Dubai, United Arab Emirates</td>\n",
       "      <td>2061</td>\n",
       "      <td>TRUE</td>\n",
       "      <td>2020-03-01 20:00:10+00:00</td>\n",
       "      <td>@UltraAbuDhabi @MEFCC to go ahead as scheduled...</td>\n",
       "      <td>['COVID']</td>\n",
       "      <td>0</td>\n",
       "      <td>0</td>\n",
       "    </tr>\n",
       "    <tr>\n",
       "      <th>4</th>\n",
       "      <td>SunnySideOfLife</td>\n",
       "      <td>754</td>\n",
       "      <td>FALSE</td>\n",
       "      <td>2020-03-01 18:37:11+00:00</td>\n",
       "      <td>@AbeShinzo request general public to avoid spo...</td>\n",
       "      <td>['COVID19', 'coronavirus', 'COVID', 'Japan', '...</td>\n",
       "      <td>0</td>\n",
       "      <td>0</td>\n",
       "    </tr>\n",
       "  </tbody>\n",
       "</table>\n",
       "</div>"
      ],
      "text/plain": [
       "                  user_location user_followers user_verified  \\\n",
       "0                     ประเทศไทย             33         FALSE   \n",
       "1                        Mumbai            370         FALSE   \n",
       "2                         Dhaka          57502         FALSE   \n",
       "3  Dubai, United Arab Emirates            2061          TRUE   \n",
       "4               SunnySideOfLife            754         FALSE   \n",
       "\n",
       "                        date  \\\n",
       "0  2020-03-01 23:34:58+00:00   \n",
       "1  2020-03-01 22:08:50+00:00   \n",
       "2  2020-03-01 22:03:21+00:00   \n",
       "3  2020-03-01 20:00:10+00:00   \n",
       "4  2020-03-01 18:37:11+00:00   \n",
       "\n",
       "                                                text  \\\n",
       "0  Everyone takes care of their health please.✌🏽😷...   \n",
       "1  I landed in Mumbai at midnight and there was a...   \n",
       "2  Here are the latest developments on the #coron...   \n",
       "3  @UltraAbuDhabi @MEFCC to go ahead as scheduled...   \n",
       "4  @AbeShinzo request general public to avoid spo...   \n",
       "\n",
       "                                            hashtags retweets likes_count  \n",
       "0                             ['COVID', 'worldwide']        2           2  \n",
       "1                                          ['covid']        0           0  \n",
       "2    ['coronavirusoutbreak', 'COVID', 'Coronavid19']        7          12  \n",
       "3                                          ['COVID']        0           0  \n",
       "4  ['COVID19', 'coronavirus', 'COVID', 'Japan', '...        0           0  "
      ]
     },
     "execution_count": 11,
     "metadata": {},
     "output_type": "execute_result"
    }
   ],
   "source": [
    "data.head()"
   ]
  },
  {
   "cell_type": "code",
   "execution_count": 12,
   "metadata": {},
   "outputs": [
    {
     "name": "stdout",
     "output_type": "stream",
     "text": [
      "<class 'pandas.core.frame.DataFrame'>\n",
      "Int64Index: 377547 entries, 0 to 870566\n",
      "Data columns (total 8 columns):\n",
      " #   Column          Non-Null Count   Dtype \n",
      "---  ------          --------------   ----- \n",
      " 0   user_location   348776 non-null  object\n",
      " 1   user_followers  377542 non-null  object\n",
      " 2   user_verified   377542 non-null  object\n",
      " 3   date            377546 non-null  object\n",
      " 4   text            377546 non-null  object\n",
      " 5   hashtags        377394 non-null  object\n",
      " 6   retweets        377543 non-null  object\n",
      " 7   likes_count     377543 non-null  object\n",
      "dtypes: object(8)\n",
      "memory usage: 25.9+ MB\n"
     ]
    }
   ],
   "source": [
    "data.info()"
   ]
  },
  {
   "cell_type": "code",
   "execution_count": null,
   "metadata": {},
   "outputs": [],
   "source": []
  },
  {
   "cell_type": "markdown",
   "metadata": {},
   "source": []
  },
  {
   "cell_type": "markdown",
   "metadata": {},
   "source": [
    "## 'Vaccination Data'"
   ]
  },
  {
   "cell_type": "code",
   "execution_count": 13,
   "metadata": {},
   "outputs": [],
   "source": [
    "data1 = pd.read_csv(\"C:\\\\Users\\\\ayushjain9\\\\Desktop\\\\TwitterProject\\\\data\\\\vaccination_all_tweets.csv\")"
   ]
  },
  {
   "cell_type": "code",
   "execution_count": 14,
   "metadata": {},
   "outputs": [
    {
     "data": {
      "text/plain": [
       "(193272, 16)"
      ]
     },
     "execution_count": 14,
     "metadata": {},
     "output_type": "execute_result"
    }
   ],
   "source": [
    "data1.shape"
   ]
  },
  {
   "cell_type": "code",
   "execution_count": 15,
   "metadata": {},
   "outputs": [
    {
     "data": {
      "text/plain": [
       "Index(['id', 'user_name', 'user_location', 'user_description', 'user_created',\n",
       "       'user_followers', 'user_friends', 'user_favourites', 'user_verified',\n",
       "       'date', 'text', 'hashtags', 'source', 'retweets', 'favorites',\n",
       "       'is_retweet'],\n",
       "      dtype='object')"
      ]
     },
     "execution_count": 15,
     "metadata": {},
     "output_type": "execute_result"
    }
   ],
   "source": [
    "data1.columns"
   ]
  },
  {
   "cell_type": "code",
   "execution_count": 16,
   "metadata": {},
   "outputs": [
    {
     "name": "stdout",
     "output_type": "stream",
     "text": [
      "<class 'pandas.core.frame.DataFrame'>\n",
      "RangeIndex: 193272 entries, 0 to 193271\n",
      "Data columns (total 16 columns):\n",
      " #   Column            Non-Null Count   Dtype \n",
      "---  ------            --------------   ----- \n",
      " 0   id                193272 non-null  int64 \n",
      " 1   user_name         193271 non-null  object\n",
      " 2   user_location     134699 non-null  object\n",
      " 3   user_description  179542 non-null  object\n",
      " 4   user_created      193272 non-null  object\n",
      " 5   user_followers    193272 non-null  int64 \n",
      " 6   user_friends      193272 non-null  int64 \n",
      " 7   user_favourites   193272 non-null  int64 \n",
      " 8   user_verified     193272 non-null  bool  \n",
      " 9   date              193272 non-null  object\n",
      " 10  text              193272 non-null  object\n",
      " 11  hashtags          152299 non-null  object\n",
      " 12  source            193153 non-null  object\n",
      " 13  retweets          193272 non-null  int64 \n",
      " 14  favorites         193272 non-null  int64 \n",
      " 15  is_retweet        193272 non-null  bool  \n",
      "dtypes: bool(2), int64(6), object(8)\n",
      "memory usage: 21.0+ MB\n"
     ]
    }
   ],
   "source": [
    "data1.info()"
   ]
  },
  {
   "cell_type": "code",
   "execution_count": 17,
   "metadata": {},
   "outputs": [],
   "source": [
    "data1.drop(['id','user_name','user_description', 'user_created','user_friends','source','is_retweet','user_favourites'], axis = 1, inplace=True)"
   ]
  },
  {
   "cell_type": "code",
   "execution_count": 18,
   "metadata": {},
   "outputs": [
    {
     "name": "stdout",
     "output_type": "stream",
     "text": [
      "<class 'pandas.core.frame.DataFrame'>\n",
      "RangeIndex: 193272 entries, 0 to 193271\n",
      "Data columns (total 8 columns):\n",
      " #   Column          Non-Null Count   Dtype \n",
      "---  ------          --------------   ----- \n",
      " 0   user_location   134699 non-null  object\n",
      " 1   user_followers  193272 non-null  int64 \n",
      " 2   user_verified   193272 non-null  bool  \n",
      " 3   date            193272 non-null  object\n",
      " 4   text            193272 non-null  object\n",
      " 5   hashtags        152299 non-null  object\n",
      " 6   retweets        193272 non-null  int64 \n",
      " 7   favorites       193272 non-null  int64 \n",
      "dtypes: bool(1), int64(3), object(4)\n",
      "memory usage: 10.5+ MB\n"
     ]
    }
   ],
   "source": [
    "data1.info()"
   ]
  },
  {
   "cell_type": "code",
   "execution_count": 19,
   "metadata": {},
   "outputs": [],
   "source": [
    "data1.columns = [ 'user_location','user_followers', 'user_verified','date', 'text', 'hashtags','retweets','likes_count']"
   ]
  },
  {
   "cell_type": "code",
   "execution_count": 20,
   "metadata": {},
   "outputs": [
    {
     "name": "stdout",
     "output_type": "stream",
     "text": [
      "<class 'pandas.core.frame.DataFrame'>\n",
      "RangeIndex: 193272 entries, 0 to 193271\n",
      "Data columns (total 8 columns):\n",
      " #   Column          Non-Null Count   Dtype \n",
      "---  ------          --------------   ----- \n",
      " 0   user_location   134699 non-null  object\n",
      " 1   user_followers  193272 non-null  int64 \n",
      " 2   user_verified   193272 non-null  bool  \n",
      " 3   date            193272 non-null  object\n",
      " 4   text            193272 non-null  object\n",
      " 5   hashtags        152299 non-null  object\n",
      " 6   retweets        193272 non-null  int64 \n",
      " 7   likes_count     193272 non-null  int64 \n",
      "dtypes: bool(1), int64(3), object(4)\n",
      "memory usage: 10.5+ MB\n"
     ]
    }
   ],
   "source": [
    "data1.info()"
   ]
  },
  {
   "cell_type": "code",
   "execution_count": 21,
   "metadata": {},
   "outputs": [
    {
     "data": {
      "text/html": [
       "<div>\n",
       "<style scoped>\n",
       "    .dataframe tbody tr th:only-of-type {\n",
       "        vertical-align: middle;\n",
       "    }\n",
       "\n",
       "    .dataframe tbody tr th {\n",
       "        vertical-align: top;\n",
       "    }\n",
       "\n",
       "    .dataframe thead th {\n",
       "        text-align: right;\n",
       "    }\n",
       "</style>\n",
       "<table border=\"1\" class=\"dataframe\">\n",
       "  <thead>\n",
       "    <tr style=\"text-align: right;\">\n",
       "      <th></th>\n",
       "      <th>user_location</th>\n",
       "      <th>user_followers</th>\n",
       "      <th>user_verified</th>\n",
       "      <th>date</th>\n",
       "      <th>text</th>\n",
       "      <th>hashtags</th>\n",
       "      <th>retweets</th>\n",
       "      <th>likes_count</th>\n",
       "    </tr>\n",
       "  </thead>\n",
       "  <tbody>\n",
       "    <tr>\n",
       "      <th>0</th>\n",
       "      <td>La Crescenta-Montrose, CA</td>\n",
       "      <td>405</td>\n",
       "      <td>False</td>\n",
       "      <td>2020-12-20 06:06:44</td>\n",
       "      <td>Same folks said daikon paste could treat a cyt...</td>\n",
       "      <td>['PfizerBioNTech']</td>\n",
       "      <td>0</td>\n",
       "      <td>0</td>\n",
       "    </tr>\n",
       "    <tr>\n",
       "      <th>1</th>\n",
       "      <td>San Francisco, CA</td>\n",
       "      <td>834</td>\n",
       "      <td>False</td>\n",
       "      <td>2020-12-13 16:27:13</td>\n",
       "      <td>While the world has been on the wrong side of ...</td>\n",
       "      <td>NaN</td>\n",
       "      <td>1</td>\n",
       "      <td>1</td>\n",
       "    </tr>\n",
       "    <tr>\n",
       "      <th>2</th>\n",
       "      <td>Your Bed</td>\n",
       "      <td>10</td>\n",
       "      <td>False</td>\n",
       "      <td>2020-12-12 20:33:45</td>\n",
       "      <td>#coronavirus #SputnikV #AstraZeneca #PfizerBio...</td>\n",
       "      <td>['coronavirus', 'SputnikV', 'AstraZeneca', 'Pf...</td>\n",
       "      <td>0</td>\n",
       "      <td>0</td>\n",
       "    </tr>\n",
       "    <tr>\n",
       "      <th>3</th>\n",
       "      <td>Vancouver, BC - Canada</td>\n",
       "      <td>49165</td>\n",
       "      <td>True</td>\n",
       "      <td>2020-12-12 20:23:59</td>\n",
       "      <td>Facts are immutable, Senator, even when you're...</td>\n",
       "      <td>NaN</td>\n",
       "      <td>446</td>\n",
       "      <td>2129</td>\n",
       "    </tr>\n",
       "    <tr>\n",
       "      <th>4</th>\n",
       "      <td>NaN</td>\n",
       "      <td>152</td>\n",
       "      <td>False</td>\n",
       "      <td>2020-12-12 20:17:19</td>\n",
       "      <td>Explain to me again why we need a vaccine @Bor...</td>\n",
       "      <td>['whereareallthesickpeople', 'PfizerBioNTech']</td>\n",
       "      <td>0</td>\n",
       "      <td>0</td>\n",
       "    </tr>\n",
       "  </tbody>\n",
       "</table>\n",
       "</div>"
      ],
      "text/plain": [
       "               user_location  user_followers  user_verified  \\\n",
       "0  La Crescenta-Montrose, CA             405          False   \n",
       "1          San Francisco, CA             834          False   \n",
       "2                   Your Bed              10          False   \n",
       "3     Vancouver, BC - Canada           49165           True   \n",
       "4                        NaN             152          False   \n",
       "\n",
       "                  date                                               text  \\\n",
       "0  2020-12-20 06:06:44  Same folks said daikon paste could treat a cyt...   \n",
       "1  2020-12-13 16:27:13  While the world has been on the wrong side of ...   \n",
       "2  2020-12-12 20:33:45  #coronavirus #SputnikV #AstraZeneca #PfizerBio...   \n",
       "3  2020-12-12 20:23:59  Facts are immutable, Senator, even when you're...   \n",
       "4  2020-12-12 20:17:19  Explain to me again why we need a vaccine @Bor...   \n",
       "\n",
       "                                            hashtags  retweets  likes_count  \n",
       "0                                 ['PfizerBioNTech']         0            0  \n",
       "1                                                NaN         1            1  \n",
       "2  ['coronavirus', 'SputnikV', 'AstraZeneca', 'Pf...         0            0  \n",
       "3                                                NaN       446         2129  \n",
       "4     ['whereareallthesickpeople', 'PfizerBioNTech']         0            0  "
      ]
     },
     "execution_count": 21,
     "metadata": {},
     "output_type": "execute_result"
    }
   ],
   "source": [
    "data1.head()"
   ]
  },
  {
   "cell_type": "code",
   "execution_count": null,
   "metadata": {},
   "outputs": [],
   "source": []
  },
  {
   "cell_type": "markdown",
   "metadata": {},
   "source": [
    "# Merging Two DataFrames"
   ]
  },
  {
   "cell_type": "code",
   "execution_count": 22,
   "metadata": {},
   "outputs": [],
   "source": [
    "# Stack the DataFrames on top of each other\n",
    "df = pd.concat([data, data1], axis=0, ignore_index = True)"
   ]
  },
  {
   "cell_type": "code",
   "execution_count": 23,
   "metadata": {},
   "outputs": [
    {
     "data": {
      "text/plain": [
       "(570819, 8)"
      ]
     },
     "execution_count": 23,
     "metadata": {},
     "output_type": "execute_result"
    }
   ],
   "source": [
    "df.shape"
   ]
  },
  {
   "cell_type": "code",
   "execution_count": 24,
   "metadata": {},
   "outputs": [
    {
     "name": "stdout",
     "output_type": "stream",
     "text": [
      "<class 'pandas.core.frame.DataFrame'>\n",
      "RangeIndex: 570819 entries, 0 to 570818\n",
      "Data columns (total 8 columns):\n",
      " #   Column          Non-Null Count   Dtype \n",
      "---  ------          --------------   ----- \n",
      " 0   user_location   483475 non-null  object\n",
      " 1   user_followers  570814 non-null  object\n",
      " 2   user_verified   570814 non-null  object\n",
      " 3   date            570818 non-null  object\n",
      " 4   text            570818 non-null  object\n",
      " 5   hashtags        529693 non-null  object\n",
      " 6   retweets        570815 non-null  object\n",
      " 7   likes_count     570815 non-null  object\n",
      "dtypes: object(8)\n",
      "memory usage: 34.8+ MB\n"
     ]
    }
   ],
   "source": [
    "df.info()"
   ]
  },
  {
   "cell_type": "code",
   "execution_count": 25,
   "metadata": {},
   "outputs": [
    {
     "data": {
      "text/html": [
       "<div>\n",
       "<style scoped>\n",
       "    .dataframe tbody tr th:only-of-type {\n",
       "        vertical-align: middle;\n",
       "    }\n",
       "\n",
       "    .dataframe tbody tr th {\n",
       "        vertical-align: top;\n",
       "    }\n",
       "\n",
       "    .dataframe thead th {\n",
       "        text-align: right;\n",
       "    }\n",
       "</style>\n",
       "<table border=\"1\" class=\"dataframe\">\n",
       "  <thead>\n",
       "    <tr style=\"text-align: right;\">\n",
       "      <th></th>\n",
       "      <th>user_location</th>\n",
       "      <th>user_followers</th>\n",
       "      <th>user_verified</th>\n",
       "      <th>date</th>\n",
       "      <th>text</th>\n",
       "      <th>hashtags</th>\n",
       "      <th>retweets</th>\n",
       "      <th>likes_count</th>\n",
       "    </tr>\n",
       "  </thead>\n",
       "  <tbody>\n",
       "    <tr>\n",
       "      <th>0</th>\n",
       "      <td>ประเทศไทย</td>\n",
       "      <td>33</td>\n",
       "      <td>FALSE</td>\n",
       "      <td>2020-03-01 23:34:58+00:00</td>\n",
       "      <td>Everyone takes care of their health please.✌🏽😷...</td>\n",
       "      <td>['COVID', 'worldwide']</td>\n",
       "      <td>2</td>\n",
       "      <td>2</td>\n",
       "    </tr>\n",
       "    <tr>\n",
       "      <th>1</th>\n",
       "      <td>Mumbai</td>\n",
       "      <td>370</td>\n",
       "      <td>FALSE</td>\n",
       "      <td>2020-03-01 22:08:50+00:00</td>\n",
       "      <td>I landed in Mumbai at midnight and there was a...</td>\n",
       "      <td>['covid']</td>\n",
       "      <td>0</td>\n",
       "      <td>0</td>\n",
       "    </tr>\n",
       "    <tr>\n",
       "      <th>2</th>\n",
       "      <td>Dhaka</td>\n",
       "      <td>57502</td>\n",
       "      <td>FALSE</td>\n",
       "      <td>2020-03-01 22:03:21+00:00</td>\n",
       "      <td>Here are the latest developments on the #coron...</td>\n",
       "      <td>['coronavirusoutbreak', 'COVID', 'Coronavid19']</td>\n",
       "      <td>7</td>\n",
       "      <td>12</td>\n",
       "    </tr>\n",
       "    <tr>\n",
       "      <th>3</th>\n",
       "      <td>Dubai, United Arab Emirates</td>\n",
       "      <td>2061</td>\n",
       "      <td>TRUE</td>\n",
       "      <td>2020-03-01 20:00:10+00:00</td>\n",
       "      <td>@UltraAbuDhabi @MEFCC to go ahead as scheduled...</td>\n",
       "      <td>['COVID']</td>\n",
       "      <td>0</td>\n",
       "      <td>0</td>\n",
       "    </tr>\n",
       "    <tr>\n",
       "      <th>4</th>\n",
       "      <td>SunnySideOfLife</td>\n",
       "      <td>754</td>\n",
       "      <td>FALSE</td>\n",
       "      <td>2020-03-01 18:37:11+00:00</td>\n",
       "      <td>@AbeShinzo request general public to avoid spo...</td>\n",
       "      <td>['COVID19', 'coronavirus', 'COVID', 'Japan', '...</td>\n",
       "      <td>0</td>\n",
       "      <td>0</td>\n",
       "    </tr>\n",
       "  </tbody>\n",
       "</table>\n",
       "</div>"
      ],
      "text/plain": [
       "                  user_location user_followers user_verified  \\\n",
       "0                     ประเทศไทย             33         FALSE   \n",
       "1                        Mumbai            370         FALSE   \n",
       "2                         Dhaka          57502         FALSE   \n",
       "3  Dubai, United Arab Emirates            2061          TRUE   \n",
       "4               SunnySideOfLife            754         FALSE   \n",
       "\n",
       "                        date  \\\n",
       "0  2020-03-01 23:34:58+00:00   \n",
       "1  2020-03-01 22:08:50+00:00   \n",
       "2  2020-03-01 22:03:21+00:00   \n",
       "3  2020-03-01 20:00:10+00:00   \n",
       "4  2020-03-01 18:37:11+00:00   \n",
       "\n",
       "                                                text  \\\n",
       "0  Everyone takes care of their health please.✌🏽😷...   \n",
       "1  I landed in Mumbai at midnight and there was a...   \n",
       "2  Here are the latest developments on the #coron...   \n",
       "3  @UltraAbuDhabi @MEFCC to go ahead as scheduled...   \n",
       "4  @AbeShinzo request general public to avoid spo...   \n",
       "\n",
       "                                            hashtags retweets likes_count  \n",
       "0                             ['COVID', 'worldwide']        2           2  \n",
       "1                                          ['covid']        0           0  \n",
       "2    ['coronavirusoutbreak', 'COVID', 'Coronavid19']        7          12  \n",
       "3                                          ['COVID']        0           0  \n",
       "4  ['COVID19', 'coronavirus', 'COVID', 'Japan', '...        0           0  "
      ]
     },
     "execution_count": 25,
     "metadata": {},
     "output_type": "execute_result"
    }
   ],
   "source": [
    "df.head()"
   ]
  },
  {
   "cell_type": "markdown",
   "metadata": {},
   "source": [
    "# Data Cleaning\n",
    "\n",
    "## Date"
   ]
  },
  {
   "cell_type": "code",
   "execution_count": 26,
   "metadata": {},
   "outputs": [
    {
     "data": {
      "text/plain": [
       "<bound method Series.isna of 0         2020-03-01 23:34:58+00:00\n",
       "1         2020-03-01 22:08:50+00:00\n",
       "2         2020-03-01 22:03:21+00:00\n",
       "3         2020-03-01 20:00:10+00:00\n",
       "4         2020-03-01 18:37:11+00:00\n",
       "                    ...            \n",
       "570814          2021-09-13 10:30:30\n",
       "570815          2021-09-13 10:30:19\n",
       "570816          2021-09-13 10:27:21\n",
       "570817          2021-09-13 10:24:15\n",
       "570818          2021-09-13 10:00:18\n",
       "Name: date, Length: 570819, dtype: object>"
      ]
     },
     "execution_count": 26,
     "metadata": {},
     "output_type": "execute_result"
    }
   ],
   "source": [
    "df.date.isna"
   ]
  },
  {
   "cell_type": "code",
   "execution_count": 27,
   "metadata": {},
   "outputs": [],
   "source": [
    "df.dropna(subset =['date'], inplace=True)"
   ]
  },
  {
   "cell_type": "code",
   "execution_count": 33,
   "metadata": {},
   "outputs": [
    {
     "ename": "AttributeError",
     "evalue": "Can only use .dt accessor with datetimelike values",
     "output_type": "error",
     "traceback": [
      "\u001b[1;31m---------------------------------------------------------------------------\u001b[0m",
      "\u001b[1;31mAttributeError\u001b[0m                            Traceback (most recent call last)",
      "\u001b[1;32m<ipython-input-33-cd635b6e44dc>\u001b[0m in \u001b[0;36m<module>\u001b[1;34m\u001b[0m\n\u001b[1;32m----> 1\u001b[1;33m \u001b[0mdf\u001b[0m\u001b[1;33m[\u001b[0m\u001b[1;34m'date'\u001b[0m\u001b[1;33m]\u001b[0m \u001b[1;33m=\u001b[0m \u001b[0mpd\u001b[0m\u001b[1;33m.\u001b[0m\u001b[0mto_datetime\u001b[0m\u001b[1;33m(\u001b[0m\u001b[0mdf\u001b[0m\u001b[1;33m[\u001b[0m\u001b[1;34m'date'\u001b[0m\u001b[1;33m]\u001b[0m\u001b[1;33m,\u001b[0m \u001b[0merrors\u001b[0m\u001b[1;33m=\u001b[0m\u001b[1;34m'coerce'\u001b[0m\u001b[1;33m)\u001b[0m\u001b[1;33m.\u001b[0m\u001b[0mdt\u001b[0m\u001b[1;33m.\u001b[0m\u001b[0mdate\u001b[0m\u001b[1;33m\u001b[0m\u001b[1;33m\u001b[0m\u001b[0m\n\u001b[0m",
      "\u001b[1;32mc:\\Users\\ayushjain9\\Desktop\\TwitterProject\\vlib\\lib\\site-packages\\pandas\\core\\generic.py\u001b[0m in \u001b[0;36m__getattr__\u001b[1;34m(self, name)\u001b[0m\n\u001b[0;32m   5135\u001b[0m             \u001b[1;32mor\u001b[0m \u001b[0mname\u001b[0m \u001b[1;32min\u001b[0m \u001b[0mself\u001b[0m\u001b[1;33m.\u001b[0m\u001b[0m_accessors\u001b[0m\u001b[1;33m\u001b[0m\u001b[1;33m\u001b[0m\u001b[0m\n\u001b[0;32m   5136\u001b[0m         ):\n\u001b[1;32m-> 5137\u001b[1;33m             \u001b[1;32mreturn\u001b[0m \u001b[0mobject\u001b[0m\u001b[1;33m.\u001b[0m\u001b[0m__getattribute__\u001b[0m\u001b[1;33m(\u001b[0m\u001b[0mself\u001b[0m\u001b[1;33m,\u001b[0m \u001b[0mname\u001b[0m\u001b[1;33m)\u001b[0m\u001b[1;33m\u001b[0m\u001b[1;33m\u001b[0m\u001b[0m\n\u001b[0m\u001b[0;32m   5138\u001b[0m         \u001b[1;32melse\u001b[0m\u001b[1;33m:\u001b[0m\u001b[1;33m\u001b[0m\u001b[1;33m\u001b[0m\u001b[0m\n\u001b[0;32m   5139\u001b[0m             \u001b[1;32mif\u001b[0m \u001b[0mself\u001b[0m\u001b[1;33m.\u001b[0m\u001b[0m_info_axis\u001b[0m\u001b[1;33m.\u001b[0m\u001b[0m_can_hold_identifiers_and_holds_name\u001b[0m\u001b[1;33m(\u001b[0m\u001b[0mname\u001b[0m\u001b[1;33m)\u001b[0m\u001b[1;33m:\u001b[0m\u001b[1;33m\u001b[0m\u001b[1;33m\u001b[0m\u001b[0m\n",
      "\u001b[1;32mc:\\Users\\ayushjain9\\Desktop\\TwitterProject\\vlib\\lib\\site-packages\\pandas\\core\\accessor.py\u001b[0m in \u001b[0;36m__get__\u001b[1;34m(self, obj, cls)\u001b[0m\n\u001b[0;32m    185\u001b[0m             \u001b[1;31m# we're accessing the attribute of the class, i.e., Dataset.geo\u001b[0m\u001b[1;33m\u001b[0m\u001b[1;33m\u001b[0m\u001b[1;33m\u001b[0m\u001b[0m\n\u001b[0;32m    186\u001b[0m             \u001b[1;32mreturn\u001b[0m \u001b[0mself\u001b[0m\u001b[1;33m.\u001b[0m\u001b[0m_accessor\u001b[0m\u001b[1;33m\u001b[0m\u001b[1;33m\u001b[0m\u001b[0m\n\u001b[1;32m--> 187\u001b[1;33m         \u001b[0maccessor_obj\u001b[0m \u001b[1;33m=\u001b[0m \u001b[0mself\u001b[0m\u001b[1;33m.\u001b[0m\u001b[0m_accessor\u001b[0m\u001b[1;33m(\u001b[0m\u001b[0mobj\u001b[0m\u001b[1;33m)\u001b[0m\u001b[1;33m\u001b[0m\u001b[1;33m\u001b[0m\u001b[0m\n\u001b[0m\u001b[0;32m    188\u001b[0m         \u001b[1;31m# Replace the property with the accessor object. Inspired by:\u001b[0m\u001b[1;33m\u001b[0m\u001b[1;33m\u001b[0m\u001b[1;33m\u001b[0m\u001b[0m\n\u001b[0;32m    189\u001b[0m         \u001b[1;31m# https://www.pydanny.com/cached-property.html\u001b[0m\u001b[1;33m\u001b[0m\u001b[1;33m\u001b[0m\u001b[1;33m\u001b[0m\u001b[0m\n",
      "\u001b[1;32mc:\\Users\\ayushjain9\\Desktop\\TwitterProject\\vlib\\lib\\site-packages\\pandas\\core\\indexes\\accessors.py\u001b[0m in \u001b[0;36m__new__\u001b[1;34m(cls, data)\u001b[0m\n\u001b[0;32m    478\u001b[0m             \u001b[1;32mreturn\u001b[0m \u001b[0mPeriodProperties\u001b[0m\u001b[1;33m(\u001b[0m\u001b[0mdata\u001b[0m\u001b[1;33m,\u001b[0m \u001b[0morig\u001b[0m\u001b[1;33m)\u001b[0m\u001b[1;33m\u001b[0m\u001b[1;33m\u001b[0m\u001b[0m\n\u001b[0;32m    479\u001b[0m \u001b[1;33m\u001b[0m\u001b[0m\n\u001b[1;32m--> 480\u001b[1;33m         \u001b[1;32mraise\u001b[0m \u001b[0mAttributeError\u001b[0m\u001b[1;33m(\u001b[0m\u001b[1;34m\"Can only use .dt accessor with datetimelike values\"\u001b[0m\u001b[1;33m)\u001b[0m\u001b[1;33m\u001b[0m\u001b[1;33m\u001b[0m\u001b[0m\n\u001b[0m",
      "\u001b[1;31mAttributeError\u001b[0m: Can only use .dt accessor with datetimelike values"
     ]
    }
   ],
   "source": [
    "df['date'] = pd.to_datetime(df['date'], errors='coerce').dt.date"
   ]
  },
  {
   "cell_type": "code",
   "execution_count": 28,
   "metadata": {},
   "outputs": [],
   "source": [
    "data['date'] = pd.to_datetime(data['date'], errors='coerce').dt.date"
   ]
  },
  {
   "cell_type": "code",
   "execution_count": 29,
   "metadata": {},
   "outputs": [],
   "source": [
    "data1['date'] = pd.to_datetime(data1['date'], errors='coerce').dt.date"
   ]
  },
  {
   "cell_type": "code",
   "execution_count": 30,
   "metadata": {},
   "outputs": [
    {
     "data": {
      "text/plain": [
       "0         2020-03-01\n",
       "1         2020-03-01\n",
       "2         2020-03-01\n",
       "3         2020-03-01\n",
       "4         2020-03-01\n",
       "             ...    \n",
       "870562    2021-09-25\n",
       "870563    2021-09-25\n",
       "870564    2021-09-25\n",
       "870565    2021-09-25\n",
       "870566    2021-09-25\n",
       "Name: date, Length: 377547, dtype: object"
      ]
     },
     "execution_count": 30,
     "metadata": {},
     "output_type": "execute_result"
    }
   ],
   "source": [
    "data.date"
   ]
  },
  {
   "cell_type": "code",
   "execution_count": 31,
   "metadata": {},
   "outputs": [
    {
     "data": {
      "text/plain": [
       "0         2020-12-20\n",
       "1         2020-12-13\n",
       "2         2020-12-12\n",
       "3         2020-12-12\n",
       "4         2020-12-12\n",
       "             ...    \n",
       "193267    2021-09-13\n",
       "193268    2021-09-13\n",
       "193269    2021-09-13\n",
       "193270    2021-09-13\n",
       "193271    2021-09-13\n",
       "Name: date, Length: 193272, dtype: object"
      ]
     },
     "execution_count": 31,
     "metadata": {},
     "output_type": "execute_result"
    }
   ],
   "source": [
    "data1.date"
   ]
  },
  {
   "cell_type": "code",
   "execution_count": 32,
   "metadata": {},
   "outputs": [],
   "source": [
    "df = pd.concat([data, data1], axis=0, ignore_index = True)"
   ]
  },
  {
   "cell_type": "code",
   "execution_count": 33,
   "metadata": {},
   "outputs": [
    {
     "data": {
      "text/html": [
       "<div>\n",
       "<style scoped>\n",
       "    .dataframe tbody tr th:only-of-type {\n",
       "        vertical-align: middle;\n",
       "    }\n",
       "\n",
       "    .dataframe tbody tr th {\n",
       "        vertical-align: top;\n",
       "    }\n",
       "\n",
       "    .dataframe thead th {\n",
       "        text-align: right;\n",
       "    }\n",
       "</style>\n",
       "<table border=\"1\" class=\"dataframe\">\n",
       "  <thead>\n",
       "    <tr style=\"text-align: right;\">\n",
       "      <th></th>\n",
       "      <th>user_location</th>\n",
       "      <th>user_followers</th>\n",
       "      <th>user_verified</th>\n",
       "      <th>date</th>\n",
       "      <th>text</th>\n",
       "      <th>hashtags</th>\n",
       "      <th>retweets</th>\n",
       "      <th>likes_count</th>\n",
       "    </tr>\n",
       "  </thead>\n",
       "  <tbody>\n",
       "    <tr>\n",
       "      <th>0</th>\n",
       "      <td>ประเทศไทย</td>\n",
       "      <td>33</td>\n",
       "      <td>FALSE</td>\n",
       "      <td>2020-03-01</td>\n",
       "      <td>Everyone takes care of their health please.✌🏽😷...</td>\n",
       "      <td>['COVID', 'worldwide']</td>\n",
       "      <td>2</td>\n",
       "      <td>2</td>\n",
       "    </tr>\n",
       "    <tr>\n",
       "      <th>1</th>\n",
       "      <td>Mumbai</td>\n",
       "      <td>370</td>\n",
       "      <td>FALSE</td>\n",
       "      <td>2020-03-01</td>\n",
       "      <td>I landed in Mumbai at midnight and there was a...</td>\n",
       "      <td>['covid']</td>\n",
       "      <td>0</td>\n",
       "      <td>0</td>\n",
       "    </tr>\n",
       "    <tr>\n",
       "      <th>2</th>\n",
       "      <td>Dhaka</td>\n",
       "      <td>57502</td>\n",
       "      <td>FALSE</td>\n",
       "      <td>2020-03-01</td>\n",
       "      <td>Here are the latest developments on the #coron...</td>\n",
       "      <td>['coronavirusoutbreak', 'COVID', 'Coronavid19']</td>\n",
       "      <td>7</td>\n",
       "      <td>12</td>\n",
       "    </tr>\n",
       "    <tr>\n",
       "      <th>3</th>\n",
       "      <td>Dubai, United Arab Emirates</td>\n",
       "      <td>2061</td>\n",
       "      <td>TRUE</td>\n",
       "      <td>2020-03-01</td>\n",
       "      <td>@UltraAbuDhabi @MEFCC to go ahead as scheduled...</td>\n",
       "      <td>['COVID']</td>\n",
       "      <td>0</td>\n",
       "      <td>0</td>\n",
       "    </tr>\n",
       "    <tr>\n",
       "      <th>4</th>\n",
       "      <td>SunnySideOfLife</td>\n",
       "      <td>754</td>\n",
       "      <td>FALSE</td>\n",
       "      <td>2020-03-01</td>\n",
       "      <td>@AbeShinzo request general public to avoid spo...</td>\n",
       "      <td>['COVID19', 'coronavirus', 'COVID', 'Japan', '...</td>\n",
       "      <td>0</td>\n",
       "      <td>0</td>\n",
       "    </tr>\n",
       "  </tbody>\n",
       "</table>\n",
       "</div>"
      ],
      "text/plain": [
       "                  user_location user_followers user_verified        date  \\\n",
       "0                     ประเทศไทย             33         FALSE  2020-03-01   \n",
       "1                        Mumbai            370         FALSE  2020-03-01   \n",
       "2                         Dhaka          57502         FALSE  2020-03-01   \n",
       "3  Dubai, United Arab Emirates            2061          TRUE  2020-03-01   \n",
       "4               SunnySideOfLife            754         FALSE  2020-03-01   \n",
       "\n",
       "                                                text  \\\n",
       "0  Everyone takes care of their health please.✌🏽😷...   \n",
       "1  I landed in Mumbai at midnight and there was a...   \n",
       "2  Here are the latest developments on the #coron...   \n",
       "3  @UltraAbuDhabi @MEFCC to go ahead as scheduled...   \n",
       "4  @AbeShinzo request general public to avoid spo...   \n",
       "\n",
       "                                            hashtags retweets likes_count  \n",
       "0                             ['COVID', 'worldwide']        2           2  \n",
       "1                                          ['covid']        0           0  \n",
       "2    ['coronavirusoutbreak', 'COVID', 'Coronavid19']        7          12  \n",
       "3                                          ['COVID']        0           0  \n",
       "4  ['COVID19', 'coronavirus', 'COVID', 'Japan', '...        0           0  "
      ]
     },
     "execution_count": 33,
     "metadata": {},
     "output_type": "execute_result"
    }
   ],
   "source": [
    "df.head()"
   ]
  },
  {
   "cell_type": "code",
   "execution_count": 36,
   "metadata": {},
   "outputs": [
    {
     "data": {
      "text/plain": [
       "3"
      ]
     },
     "execution_count": 36,
     "metadata": {},
     "output_type": "execute_result"
    }
   ],
   "source": [
    "df.date.isnull().sum()\n",
    "#NEED TO GET CHECKED"
   ]
  },
  {
   "cell_type": "code",
   "execution_count": 35,
   "metadata": {},
   "outputs": [],
   "source": [
    "df.date.dropna(inplace= True)"
   ]
  },
  {
   "cell_type": "code",
   "execution_count": 37,
   "metadata": {},
   "outputs": [
    {
     "data": {
      "text/html": [
       "<div>\n",
       "<style scoped>\n",
       "    .dataframe tbody tr th:only-of-type {\n",
       "        vertical-align: middle;\n",
       "    }\n",
       "\n",
       "    .dataframe tbody tr th {\n",
       "        vertical-align: top;\n",
       "    }\n",
       "\n",
       "    .dataframe thead th {\n",
       "        text-align: right;\n",
       "    }\n",
       "</style>\n",
       "<table border=\"1\" class=\"dataframe\">\n",
       "  <thead>\n",
       "    <tr style=\"text-align: right;\">\n",
       "      <th></th>\n",
       "      <th>user_location</th>\n",
       "      <th>user_followers</th>\n",
       "      <th>user_verified</th>\n",
       "      <th>date</th>\n",
       "      <th>text</th>\n",
       "      <th>hashtags</th>\n",
       "      <th>retweets</th>\n",
       "      <th>likes_count</th>\n",
       "    </tr>\n",
       "  </thead>\n",
       "  <tbody>\n",
       "    <tr>\n",
       "      <th>401</th>\n",
       "      <td>Location</td>\n",
       "      <td>Follower Count</td>\n",
       "      <td>Verified User</td>\n",
       "      <td>NaT</td>\n",
       "      <td>Content</td>\n",
       "      <td>Hashtags</td>\n",
       "      <td>Retweeted Count</td>\n",
       "      <td>Like Count</td>\n",
       "    </tr>\n",
       "    <tr>\n",
       "      <th>123239</th>\n",
       "      <td>NaN</td>\n",
       "      <td>NaN</td>\n",
       "      <td>NaN</td>\n",
       "      <td>NaT</td>\n",
       "      <td>NaN</td>\n",
       "      <td>NaN</td>\n",
       "      <td>NaN</td>\n",
       "      <td>NaN</td>\n",
       "    </tr>\n",
       "    <tr>\n",
       "      <th>123240</th>\n",
       "      <td>0</td>\n",
       "      <td>NaN</td>\n",
       "      <td>NaN</td>\n",
       "      <td>NaT</td>\n",
       "      <td>0</td>\n",
       "      <td>NaN</td>\n",
       "      <td>650</td>\n",
       "      <td>FALSE</td>\n",
       "    </tr>\n",
       "  </tbody>\n",
       "</table>\n",
       "</div>"
      ],
      "text/plain": [
       "       user_location  user_followers  user_verified date     text  hashtags  \\\n",
       "401         Location  Follower Count  Verified User  NaT  Content  Hashtags   \n",
       "123239           NaN             NaN            NaN  NaT      NaN       NaN   \n",
       "123240             0             NaN            NaN  NaT        0       NaN   \n",
       "\n",
       "               retweets likes_count  \n",
       "401     Retweeted Count  Like Count  \n",
       "123239              NaN         NaN  \n",
       "123240              650       FALSE  "
      ]
     },
     "execution_count": 37,
     "metadata": {},
     "output_type": "execute_result"
    }
   ],
   "source": [
    "null_data = df[df.date.isnull()]\n",
    "null_data"
   ]
  },
  {
   "cell_type": "code",
   "execution_count": 38,
   "metadata": {},
   "outputs": [
    {
     "data": {
      "text/html": [
       "<div>\n",
       "<style scoped>\n",
       "    .dataframe tbody tr th:only-of-type {\n",
       "        vertical-align: middle;\n",
       "    }\n",
       "\n",
       "    .dataframe tbody tr th {\n",
       "        vertical-align: top;\n",
       "    }\n",
       "\n",
       "    .dataframe thead th {\n",
       "        text-align: right;\n",
       "    }\n",
       "</style>\n",
       "<table border=\"1\" class=\"dataframe\">\n",
       "  <thead>\n",
       "    <tr style=\"text-align: right;\">\n",
       "      <th></th>\n",
       "      <th>user_location</th>\n",
       "      <th>user_followers</th>\n",
       "      <th>user_verified</th>\n",
       "      <th>date</th>\n",
       "      <th>text</th>\n",
       "      <th>hashtags</th>\n",
       "      <th>retweets</th>\n",
       "      <th>likes_count</th>\n",
       "    </tr>\n",
       "  </thead>\n",
       "  <tbody>\n",
       "    <tr>\n",
       "      <th>0</th>\n",
       "      <td>ประเทศไทย</td>\n",
       "      <td>33</td>\n",
       "      <td>FALSE</td>\n",
       "      <td>2020-03-01</td>\n",
       "      <td>Everyone takes care of their health please.✌🏽😷...</td>\n",
       "      <td>['COVID', 'worldwide']</td>\n",
       "      <td>2</td>\n",
       "      <td>2</td>\n",
       "    </tr>\n",
       "    <tr>\n",
       "      <th>1</th>\n",
       "      <td>Mumbai</td>\n",
       "      <td>370</td>\n",
       "      <td>FALSE</td>\n",
       "      <td>2020-03-01</td>\n",
       "      <td>I landed in Mumbai at midnight and there was a...</td>\n",
       "      <td>['covid']</td>\n",
       "      <td>0</td>\n",
       "      <td>0</td>\n",
       "    </tr>\n",
       "    <tr>\n",
       "      <th>2</th>\n",
       "      <td>Dhaka</td>\n",
       "      <td>57502</td>\n",
       "      <td>FALSE</td>\n",
       "      <td>2020-03-01</td>\n",
       "      <td>Here are the latest developments on the #coron...</td>\n",
       "      <td>['coronavirusoutbreak', 'COVID', 'Coronavid19']</td>\n",
       "      <td>7</td>\n",
       "      <td>12</td>\n",
       "    </tr>\n",
       "    <tr>\n",
       "      <th>3</th>\n",
       "      <td>Dubai, United Arab Emirates</td>\n",
       "      <td>2061</td>\n",
       "      <td>TRUE</td>\n",
       "      <td>2020-03-01</td>\n",
       "      <td>@UltraAbuDhabi @MEFCC to go ahead as scheduled...</td>\n",
       "      <td>['COVID']</td>\n",
       "      <td>0</td>\n",
       "      <td>0</td>\n",
       "    </tr>\n",
       "    <tr>\n",
       "      <th>4</th>\n",
       "      <td>SunnySideOfLife</td>\n",
       "      <td>754</td>\n",
       "      <td>FALSE</td>\n",
       "      <td>2020-03-01</td>\n",
       "      <td>@AbeShinzo request general public to avoid spo...</td>\n",
       "      <td>['COVID19', 'coronavirus', 'COVID', 'Japan', '...</td>\n",
       "      <td>0</td>\n",
       "      <td>0</td>\n",
       "    </tr>\n",
       "    <tr>\n",
       "      <th>...</th>\n",
       "      <td>...</td>\n",
       "      <td>...</td>\n",
       "      <td>...</td>\n",
       "      <td>...</td>\n",
       "      <td>...</td>\n",
       "      <td>...</td>\n",
       "      <td>...</td>\n",
       "      <td>...</td>\n",
       "    </tr>\n",
       "    <tr>\n",
       "      <th>570814</th>\n",
       "      <td>Bengaluru, India</td>\n",
       "      <td>25</td>\n",
       "      <td>False</td>\n",
       "      <td>2021-09-13</td>\n",
       "      <td>18-44 #BBMP #Bengaluru #CovidVaccine Availabil...</td>\n",
       "      <td>['BBMP', 'Bengaluru', 'CovidVaccine', 'COVISHI...</td>\n",
       "      <td>0</td>\n",
       "      <td>1</td>\n",
       "    </tr>\n",
       "    <tr>\n",
       "      <th>570815</th>\n",
       "      <td>Bengaluru, India</td>\n",
       "      <td>25</td>\n",
       "      <td>False</td>\n",
       "      <td>2021-09-13</td>\n",
       "      <td>18-44 #URBAN #Bengaluru #CovidVaccine Availabi...</td>\n",
       "      <td>['URBAN', 'Bengaluru', 'CovidVaccine', 'COVISH...</td>\n",
       "      <td>0</td>\n",
       "      <td>0</td>\n",
       "    </tr>\n",
       "    <tr>\n",
       "      <th>570816</th>\n",
       "      <td>Fremont, CA, USA</td>\n",
       "      <td>670</td>\n",
       "      <td>False</td>\n",
       "      <td>2021-09-13</td>\n",
       "      <td>US Special Envoy for Climate ... - https://t.c...</td>\n",
       "      <td>['IndiaPostUSA']</td>\n",
       "      <td>0</td>\n",
       "      <td>1</td>\n",
       "    </tr>\n",
       "    <tr>\n",
       "      <th>570817</th>\n",
       "      <td>Fremont, CA, USA</td>\n",
       "      <td>670</td>\n",
       "      <td>False</td>\n",
       "      <td>2021-09-13</td>\n",
       "      <td>India's cumulative COVID-19 vaccination covera...</td>\n",
       "      <td>NaN</td>\n",
       "      <td>0</td>\n",
       "      <td>0</td>\n",
       "    </tr>\n",
       "    <tr>\n",
       "      <th>570818</th>\n",
       "      <td>Bengaluru, India</td>\n",
       "      <td>25</td>\n",
       "      <td>False</td>\n",
       "      <td>2021-09-13</td>\n",
       "      <td>45+ #URBAN #Bengaluru #CovidVaccine Availabili...</td>\n",
       "      <td>['URBAN', 'Bengaluru', 'CovidVaccine', 'COVISH...</td>\n",
       "      <td>0</td>\n",
       "      <td>0</td>\n",
       "    </tr>\n",
       "  </tbody>\n",
       "</table>\n",
       "<p>570816 rows × 8 columns</p>\n",
       "</div>"
      ],
      "text/plain": [
       "                       user_location user_followers user_verified        date  \\\n",
       "0                          ประเทศไทย             33         FALSE  2020-03-01   \n",
       "1                             Mumbai            370         FALSE  2020-03-01   \n",
       "2                              Dhaka          57502         FALSE  2020-03-01   \n",
       "3       Dubai, United Arab Emirates            2061          TRUE  2020-03-01   \n",
       "4                    SunnySideOfLife            754         FALSE  2020-03-01   \n",
       "...                              ...            ...           ...         ...   \n",
       "570814              Bengaluru, India             25         False  2021-09-13   \n",
       "570815              Bengaluru, India             25         False  2021-09-13   \n",
       "570816              Fremont, CA, USA            670         False  2021-09-13   \n",
       "570817              Fremont, CA, USA            670         False  2021-09-13   \n",
       "570818              Bengaluru, India             25         False  2021-09-13   \n",
       "\n",
       "                                                     text  \\\n",
       "0       Everyone takes care of their health please.✌🏽😷...   \n",
       "1       I landed in Mumbai at midnight and there was a...   \n",
       "2       Here are the latest developments on the #coron...   \n",
       "3       @UltraAbuDhabi @MEFCC to go ahead as scheduled...   \n",
       "4       @AbeShinzo request general public to avoid spo...   \n",
       "...                                                   ...   \n",
       "570814  18-44 #BBMP #Bengaluru #CovidVaccine Availabil...   \n",
       "570815  18-44 #URBAN #Bengaluru #CovidVaccine Availabi...   \n",
       "570816  US Special Envoy for Climate ... - https://t.c...   \n",
       "570817  India's cumulative COVID-19 vaccination covera...   \n",
       "570818  45+ #URBAN #Bengaluru #CovidVaccine Availabili...   \n",
       "\n",
       "                                                 hashtags retweets likes_count  \n",
       "0                                  ['COVID', 'worldwide']        2           2  \n",
       "1                                               ['covid']        0           0  \n",
       "2         ['coronavirusoutbreak', 'COVID', 'Coronavid19']        7          12  \n",
       "3                                               ['COVID']        0           0  \n",
       "4       ['COVID19', 'coronavirus', 'COVID', 'Japan', '...        0           0  \n",
       "...                                                   ...      ...         ...  \n",
       "570814  ['BBMP', 'Bengaluru', 'CovidVaccine', 'COVISHI...        0           1  \n",
       "570815  ['URBAN', 'Bengaluru', 'CovidVaccine', 'COVISH...        0           0  \n",
       "570816                                   ['IndiaPostUSA']        0           1  \n",
       "570817                                                NaN        0           0  \n",
       "570818  ['URBAN', 'Bengaluru', 'CovidVaccine', 'COVISH...        0           0  \n",
       "\n",
       "[570816 rows x 8 columns]"
      ]
     },
     "execution_count": 38,
     "metadata": {},
     "output_type": "execute_result"
    }
   ],
   "source": [
    "df[pd.notnull(df['date'])]"
   ]
  },
  {
   "cell_type": "code",
   "execution_count": 39,
   "metadata": {},
   "outputs": [
    {
     "data": {
      "text/plain": [
       "3"
      ]
     },
     "execution_count": 39,
     "metadata": {},
     "output_type": "execute_result"
    }
   ],
   "source": [
    "df.date.isnull().sum()"
   ]
  },
  {
   "cell_type": "code",
   "execution_count": null,
   "metadata": {},
   "outputs": [],
   "source": []
  },
  {
   "cell_type": "code",
   "execution_count": 40,
   "metadata": {},
   "outputs": [
    {
     "data": {
      "text/html": [
       "<div>\n",
       "<style scoped>\n",
       "    .dataframe tbody tr th:only-of-type {\n",
       "        vertical-align: middle;\n",
       "    }\n",
       "\n",
       "    .dataframe tbody tr th {\n",
       "        vertical-align: top;\n",
       "    }\n",
       "\n",
       "    .dataframe thead th {\n",
       "        text-align: right;\n",
       "    }\n",
       "</style>\n",
       "<table border=\"1\" class=\"dataframe\">\n",
       "  <thead>\n",
       "    <tr style=\"text-align: right;\">\n",
       "      <th></th>\n",
       "      <th>user_location</th>\n",
       "      <th>user_followers</th>\n",
       "      <th>user_verified</th>\n",
       "      <th>date</th>\n",
       "      <th>text</th>\n",
       "      <th>hashtags</th>\n",
       "      <th>retweets</th>\n",
       "      <th>likes_count</th>\n",
       "    </tr>\n",
       "  </thead>\n",
       "  <tbody>\n",
       "    <tr>\n",
       "      <th>0</th>\n",
       "      <td>ประเทศไทย</td>\n",
       "      <td>33</td>\n",
       "      <td>FALSE</td>\n",
       "      <td>2020-03-01</td>\n",
       "      <td>Everyone takes care of their health please.✌🏽😷...</td>\n",
       "      <td>['COVID', 'worldwide']</td>\n",
       "      <td>2</td>\n",
       "      <td>2</td>\n",
       "    </tr>\n",
       "    <tr>\n",
       "      <th>1</th>\n",
       "      <td>Mumbai</td>\n",
       "      <td>370</td>\n",
       "      <td>FALSE</td>\n",
       "      <td>2020-03-01</td>\n",
       "      <td>I landed in Mumbai at midnight and there was a...</td>\n",
       "      <td>['covid']</td>\n",
       "      <td>0</td>\n",
       "      <td>0</td>\n",
       "    </tr>\n",
       "    <tr>\n",
       "      <th>2</th>\n",
       "      <td>Dhaka</td>\n",
       "      <td>57502</td>\n",
       "      <td>FALSE</td>\n",
       "      <td>2020-03-01</td>\n",
       "      <td>Here are the latest developments on the #coron...</td>\n",
       "      <td>['coronavirusoutbreak', 'COVID', 'Coronavid19']</td>\n",
       "      <td>7</td>\n",
       "      <td>12</td>\n",
       "    </tr>\n",
       "    <tr>\n",
       "      <th>3</th>\n",
       "      <td>Dubai, United Arab Emirates</td>\n",
       "      <td>2061</td>\n",
       "      <td>TRUE</td>\n",
       "      <td>2020-03-01</td>\n",
       "      <td>@UltraAbuDhabi @MEFCC to go ahead as scheduled...</td>\n",
       "      <td>['COVID']</td>\n",
       "      <td>0</td>\n",
       "      <td>0</td>\n",
       "    </tr>\n",
       "    <tr>\n",
       "      <th>4</th>\n",
       "      <td>SunnySideOfLife</td>\n",
       "      <td>754</td>\n",
       "      <td>FALSE</td>\n",
       "      <td>2020-03-01</td>\n",
       "      <td>@AbeShinzo request general public to avoid spo...</td>\n",
       "      <td>['COVID19', 'coronavirus', 'COVID', 'Japan', '...</td>\n",
       "      <td>0</td>\n",
       "      <td>0</td>\n",
       "    </tr>\n",
       "  </tbody>\n",
       "</table>\n",
       "</div>"
      ],
      "text/plain": [
       "                  user_location user_followers user_verified        date  \\\n",
       "0                     ประเทศไทย             33         FALSE  2020-03-01   \n",
       "1                        Mumbai            370         FALSE  2020-03-01   \n",
       "2                         Dhaka          57502         FALSE  2020-03-01   \n",
       "3  Dubai, United Arab Emirates            2061          TRUE  2020-03-01   \n",
       "4               SunnySideOfLife            754         FALSE  2020-03-01   \n",
       "\n",
       "                                                text  \\\n",
       "0  Everyone takes care of their health please.✌🏽😷...   \n",
       "1  I landed in Mumbai at midnight and there was a...   \n",
       "2  Here are the latest developments on the #coron...   \n",
       "3  @UltraAbuDhabi @MEFCC to go ahead as scheduled...   \n",
       "4  @AbeShinzo request general public to avoid spo...   \n",
       "\n",
       "                                            hashtags retweets likes_count  \n",
       "0                             ['COVID', 'worldwide']        2           2  \n",
       "1                                          ['covid']        0           0  \n",
       "2    ['coronavirusoutbreak', 'COVID', 'Coronavid19']        7          12  \n",
       "3                                          ['COVID']        0           0  \n",
       "4  ['COVID19', 'coronavirus', 'COVID', 'Japan', '...        0           0  "
      ]
     },
     "execution_count": 40,
     "metadata": {},
     "output_type": "execute_result"
    }
   ],
   "source": [
    "df.head()"
   ]
  },
  {
   "cell_type": "markdown",
   "metadata": {},
   "source": [
    "## Location"
   ]
  },
  {
   "cell_type": "code",
   "execution_count": 41,
   "metadata": {},
   "outputs": [
    {
     "data": {
      "text/plain": [
       "0                            ประเทศไทย\n",
       "1                               Mumbai\n",
       "2                                Dhaka\n",
       "3         Dubai, United Arab Emirates \n",
       "4                      SunnySideOfLife\n",
       "                      ...             \n",
       "570814                Bengaluru, India\n",
       "570815                Bengaluru, India\n",
       "570816                Fremont, CA, USA\n",
       "570817                Fremont, CA, USA\n",
       "570818                Bengaluru, India\n",
       "Name: user_location, Length: 570819, dtype: object"
      ]
     },
     "execution_count": 41,
     "metadata": {},
     "output_type": "execute_result"
    }
   ],
   "source": [
    "# Location\n",
    "df.user_location"
   ]
  },
  {
   "cell_type": "code",
   "execution_count": 42,
   "metadata": {},
   "outputs": [
    {
     "data": {
      "text/plain": [
       "87344"
      ]
     },
     "execution_count": 42,
     "metadata": {},
     "output_type": "execute_result"
    }
   ],
   "source": [
    "df.user_location.isnull().sum()"
   ]
  },
  {
   "cell_type": "code",
   "execution_count": 43,
   "metadata": {},
   "outputs": [],
   "source": [
    "df.dropna(subset =['user_location'], inplace=True)"
   ]
  },
  {
   "cell_type": "code",
   "execution_count": 44,
   "metadata": {},
   "outputs": [],
   "source": [
    "import nltk\n",
    "# nltk.download('words')\n",
    "from nltk.corpus import words"
   ]
  },
  {
   "cell_type": "code",
   "execution_count": 45,
   "metadata": {},
   "outputs": [
    {
     "name": "stdout",
     "output_type": "stream",
     "text": [
      "                       user_location user_followers user_verified        date  \\\n",
      "1                             Mumbai            370         FALSE  2020-03-01   \n",
      "2                              Dhaka          57502         FALSE  2020-03-01   \n",
      "3       Dubai, United Arab Emirates            2061          TRUE  2020-03-01   \n",
      "4                    SunnySideOfLife            754         FALSE  2020-03-01   \n",
      "5             Eheliyagoda, Sri Lanka            850         FALSE  2020-03-01   \n",
      "...                              ...            ...           ...         ...   \n",
      "570814              Bengaluru, India             25         False  2021-09-13   \n",
      "570815              Bengaluru, India             25         False  2021-09-13   \n",
      "570816              Fremont, CA, USA            670         False  2021-09-13   \n",
      "570817              Fremont, CA, USA            670         False  2021-09-13   \n",
      "570818              Bengaluru, India             25         False  2021-09-13   \n",
      "\n",
      "                                                     text  \\\n",
      "1       I landed in Mumbai at midnight and there was a...   \n",
      "2       Here are the latest developments on the #coron...   \n",
      "3       @UltraAbuDhabi @MEFCC to go ahead as scheduled...   \n",
      "4       @AbeShinzo request general public to avoid spo...   \n",
      "5       @warunawijesuriy Hey buddy, I think today #Arm...   \n",
      "...                                                   ...   \n",
      "570814  18-44 #BBMP #Bengaluru #CovidVaccine Availabil...   \n",
      "570815  18-44 #URBAN #Bengaluru #CovidVaccine Availabi...   \n",
      "570816  US Special Envoy for Climate ... - https://t.c...   \n",
      "570817  India's cumulative COVID-19 vaccination covera...   \n",
      "570818  45+ #URBAN #Bengaluru #CovidVaccine Availabili...   \n",
      "\n",
      "                                                 hashtags retweets likes_count  \n",
      "1                                               ['covid']        0           0  \n",
      "2         ['coronavirusoutbreak', 'COVID', 'Coronavid19']        7          12  \n",
      "3                                               ['COVID']        0           0  \n",
      "4       ['COVID19', 'coronavirus', 'COVID', 'Japan', '...        0           0  \n",
      "5                                    ['Armenia', 'COVID']        0           0  \n",
      "...                                                   ...      ...         ...  \n",
      "570814  ['BBMP', 'Bengaluru', 'CovidVaccine', 'COVISHI...        0           1  \n",
      "570815  ['URBAN', 'Bengaluru', 'CovidVaccine', 'COVISH...        0           0  \n",
      "570816                                   ['IndiaPostUSA']        0           1  \n",
      "570817                                                NaN        0           0  \n",
      "570818  ['URBAN', 'Bengaluru', 'CovidVaccine', 'COVISH...        0           0  \n",
      "\n",
      "[476160 rows x 8 columns]\n"
     ]
    }
   ],
   "source": [
    "Word = list(set(words.words()))\n",
    "\n",
    "df_final = df[df['user_location'].str.contains('|'.join(Word))]\n",
    "\n",
    "print(df_final)"
   ]
  },
  {
   "cell_type": "code",
   "execution_count": 46,
   "metadata": {},
   "outputs": [
    {
     "data": {
      "text/html": [
       "<div>\n",
       "<style scoped>\n",
       "    .dataframe tbody tr th:only-of-type {\n",
       "        vertical-align: middle;\n",
       "    }\n",
       "\n",
       "    .dataframe tbody tr th {\n",
       "        vertical-align: top;\n",
       "    }\n",
       "\n",
       "    .dataframe thead th {\n",
       "        text-align: right;\n",
       "    }\n",
       "</style>\n",
       "<table border=\"1\" class=\"dataframe\">\n",
       "  <thead>\n",
       "    <tr style=\"text-align: right;\">\n",
       "      <th></th>\n",
       "      <th>user_location</th>\n",
       "      <th>user_followers</th>\n",
       "      <th>user_verified</th>\n",
       "      <th>date</th>\n",
       "      <th>text</th>\n",
       "      <th>hashtags</th>\n",
       "      <th>retweets</th>\n",
       "      <th>likes_count</th>\n",
       "    </tr>\n",
       "  </thead>\n",
       "  <tbody>\n",
       "    <tr>\n",
       "      <th>1</th>\n",
       "      <td>Mumbai</td>\n",
       "      <td>370</td>\n",
       "      <td>FALSE</td>\n",
       "      <td>2020-03-01</td>\n",
       "      <td>I landed in Mumbai at midnight and there was a...</td>\n",
       "      <td>['covid']</td>\n",
       "      <td>0</td>\n",
       "      <td>0</td>\n",
       "    </tr>\n",
       "    <tr>\n",
       "      <th>2</th>\n",
       "      <td>Dhaka</td>\n",
       "      <td>57502</td>\n",
       "      <td>FALSE</td>\n",
       "      <td>2020-03-01</td>\n",
       "      <td>Here are the latest developments on the #coron...</td>\n",
       "      <td>['coronavirusoutbreak', 'COVID', 'Coronavid19']</td>\n",
       "      <td>7</td>\n",
       "      <td>12</td>\n",
       "    </tr>\n",
       "    <tr>\n",
       "      <th>3</th>\n",
       "      <td>Dubai, United Arab Emirates</td>\n",
       "      <td>2061</td>\n",
       "      <td>TRUE</td>\n",
       "      <td>2020-03-01</td>\n",
       "      <td>@UltraAbuDhabi @MEFCC to go ahead as scheduled...</td>\n",
       "      <td>['COVID']</td>\n",
       "      <td>0</td>\n",
       "      <td>0</td>\n",
       "    </tr>\n",
       "    <tr>\n",
       "      <th>4</th>\n",
       "      <td>SunnySideOfLife</td>\n",
       "      <td>754</td>\n",
       "      <td>FALSE</td>\n",
       "      <td>2020-03-01</td>\n",
       "      <td>@AbeShinzo request general public to avoid spo...</td>\n",
       "      <td>['COVID19', 'coronavirus', 'COVID', 'Japan', '...</td>\n",
       "      <td>0</td>\n",
       "      <td>0</td>\n",
       "    </tr>\n",
       "    <tr>\n",
       "      <th>5</th>\n",
       "      <td>Eheliyagoda, Sri Lanka</td>\n",
       "      <td>850</td>\n",
       "      <td>FALSE</td>\n",
       "      <td>2020-03-01</td>\n",
       "      <td>@warunawijesuriy Hey buddy, I think today #Arm...</td>\n",
       "      <td>['Armenia', 'COVID']</td>\n",
       "      <td>0</td>\n",
       "      <td>0</td>\n",
       "    </tr>\n",
       "  </tbody>\n",
       "</table>\n",
       "</div>"
      ],
      "text/plain": [
       "                  user_location user_followers user_verified        date  \\\n",
       "1                        Mumbai            370         FALSE  2020-03-01   \n",
       "2                         Dhaka          57502         FALSE  2020-03-01   \n",
       "3  Dubai, United Arab Emirates            2061          TRUE  2020-03-01   \n",
       "4               SunnySideOfLife            754         FALSE  2020-03-01   \n",
       "5        Eheliyagoda, Sri Lanka            850         FALSE  2020-03-01   \n",
       "\n",
       "                                                text  \\\n",
       "1  I landed in Mumbai at midnight and there was a...   \n",
       "2  Here are the latest developments on the #coron...   \n",
       "3  @UltraAbuDhabi @MEFCC to go ahead as scheduled...   \n",
       "4  @AbeShinzo request general public to avoid spo...   \n",
       "5  @warunawijesuriy Hey buddy, I think today #Arm...   \n",
       "\n",
       "                                            hashtags retweets likes_count  \n",
       "1                                          ['covid']        0           0  \n",
       "2    ['coronavirusoutbreak', 'COVID', 'Coronavid19']        7          12  \n",
       "3                                          ['COVID']        0           0  \n",
       "4  ['COVID19', 'coronavirus', 'COVID', 'Japan', '...        0           0  \n",
       "5                               ['Armenia', 'COVID']        0           0  "
      ]
     },
     "execution_count": 46,
     "metadata": {},
     "output_type": "execute_result"
    }
   ],
   "source": [
    "df_final.head()"
   ]
  },
  {
   "cell_type": "code",
   "execution_count": 47,
   "metadata": {},
   "outputs": [
    {
     "data": {
      "text/html": [
       "<div>\n",
       "<style scoped>\n",
       "    .dataframe tbody tr th:only-of-type {\n",
       "        vertical-align: middle;\n",
       "    }\n",
       "\n",
       "    .dataframe tbody tr th {\n",
       "        vertical-align: top;\n",
       "    }\n",
       "\n",
       "    .dataframe thead th {\n",
       "        text-align: right;\n",
       "    }\n",
       "</style>\n",
       "<table border=\"1\" class=\"dataframe\">\n",
       "  <thead>\n",
       "    <tr style=\"text-align: right;\">\n",
       "      <th></th>\n",
       "      <th>user_location</th>\n",
       "      <th>user_followers</th>\n",
       "      <th>user_verified</th>\n",
       "      <th>date</th>\n",
       "      <th>text</th>\n",
       "      <th>hashtags</th>\n",
       "      <th>retweets</th>\n",
       "      <th>likes_count</th>\n",
       "    </tr>\n",
       "  </thead>\n",
       "  <tbody>\n",
       "    <tr>\n",
       "      <th>0</th>\n",
       "      <td>ประเทศไทย</td>\n",
       "      <td>33</td>\n",
       "      <td>FALSE</td>\n",
       "      <td>2020-03-01</td>\n",
       "      <td>Everyone takes care of their health please.✌🏽😷...</td>\n",
       "      <td>['COVID', 'worldwide']</td>\n",
       "      <td>2</td>\n",
       "      <td>2</td>\n",
       "    </tr>\n",
       "    <tr>\n",
       "      <th>1</th>\n",
       "      <td>Mumbai</td>\n",
       "      <td>370</td>\n",
       "      <td>FALSE</td>\n",
       "      <td>2020-03-01</td>\n",
       "      <td>I landed in Mumbai at midnight and there was a...</td>\n",
       "      <td>['covid']</td>\n",
       "      <td>0</td>\n",
       "      <td>0</td>\n",
       "    </tr>\n",
       "    <tr>\n",
       "      <th>2</th>\n",
       "      <td>Dhaka</td>\n",
       "      <td>57502</td>\n",
       "      <td>FALSE</td>\n",
       "      <td>2020-03-01</td>\n",
       "      <td>Here are the latest developments on the #coron...</td>\n",
       "      <td>['coronavirusoutbreak', 'COVID', 'Coronavid19']</td>\n",
       "      <td>7</td>\n",
       "      <td>12</td>\n",
       "    </tr>\n",
       "    <tr>\n",
       "      <th>3</th>\n",
       "      <td>Dubai, United Arab Emirates</td>\n",
       "      <td>2061</td>\n",
       "      <td>TRUE</td>\n",
       "      <td>2020-03-01</td>\n",
       "      <td>@UltraAbuDhabi @MEFCC to go ahead as scheduled...</td>\n",
       "      <td>['COVID']</td>\n",
       "      <td>0</td>\n",
       "      <td>0</td>\n",
       "    </tr>\n",
       "    <tr>\n",
       "      <th>4</th>\n",
       "      <td>SunnySideOfLife</td>\n",
       "      <td>754</td>\n",
       "      <td>FALSE</td>\n",
       "      <td>2020-03-01</td>\n",
       "      <td>@AbeShinzo request general public to avoid spo...</td>\n",
       "      <td>['COVID19', 'coronavirus', 'COVID', 'Japan', '...</td>\n",
       "      <td>0</td>\n",
       "      <td>0</td>\n",
       "    </tr>\n",
       "  </tbody>\n",
       "</table>\n",
       "</div>"
      ],
      "text/plain": [
       "                  user_location user_followers user_verified        date  \\\n",
       "0                     ประเทศไทย             33         FALSE  2020-03-01   \n",
       "1                        Mumbai            370         FALSE  2020-03-01   \n",
       "2                         Dhaka          57502         FALSE  2020-03-01   \n",
       "3  Dubai, United Arab Emirates            2061          TRUE  2020-03-01   \n",
       "4               SunnySideOfLife            754         FALSE  2020-03-01   \n",
       "\n",
       "                                                text  \\\n",
       "0  Everyone takes care of their health please.✌🏽😷...   \n",
       "1  I landed in Mumbai at midnight and there was a...   \n",
       "2  Here are the latest developments on the #coron...   \n",
       "3  @UltraAbuDhabi @MEFCC to go ahead as scheduled...   \n",
       "4  @AbeShinzo request general public to avoid spo...   \n",
       "\n",
       "                                            hashtags retweets likes_count  \n",
       "0                             ['COVID', 'worldwide']        2           2  \n",
       "1                                          ['covid']        0           0  \n",
       "2    ['coronavirusoutbreak', 'COVID', 'Coronavid19']        7          12  \n",
       "3                                          ['COVID']        0           0  \n",
       "4  ['COVID19', 'coronavirus', 'COVID', 'Japan', '...        0           0  "
      ]
     },
     "execution_count": 47,
     "metadata": {},
     "output_type": "execute_result"
    }
   ],
   "source": [
    "df.head()"
   ]
  },
  {
   "cell_type": "code",
   "execution_count": 48,
   "metadata": {},
   "outputs": [
    {
     "data": {
      "text/plain": [
       "(476160, 8)"
      ]
     },
     "execution_count": 48,
     "metadata": {},
     "output_type": "execute_result"
    }
   ],
   "source": [
    "df_final.shape"
   ]
  },
  {
   "cell_type": "code",
   "execution_count": 49,
   "metadata": {},
   "outputs": [
    {
     "data": {
      "text/plain": [
       "0"
      ]
     },
     "execution_count": 49,
     "metadata": {},
     "output_type": "execute_result"
    }
   ],
   "source": [
    "df_final.user_location.isnull().sum()"
   ]
  },
  {
   "cell_type": "code",
   "execution_count": 50,
   "metadata": {},
   "outputs": [
    {
     "name": "stdout",
     "output_type": "stream",
     "text": [
      "<class 'pandas.core.frame.DataFrame'>\n",
      "Int64Index: 476160 entries, 1 to 570818\n",
      "Data columns (total 8 columns):\n",
      " #   Column          Non-Null Count   Dtype \n",
      "---  ------          --------------   ----- \n",
      " 0   user_location   476160 non-null  object\n",
      " 1   user_followers  476160 non-null  object\n",
      " 2   user_verified   476160 non-null  object\n",
      " 3   date            476159 non-null  object\n",
      " 4   text            476160 non-null  object\n",
      " 5   hashtags        443610 non-null  object\n",
      " 6   retweets        476160 non-null  object\n",
      " 7   likes_count     476160 non-null  object\n",
      "dtypes: object(8)\n",
      "memory usage: 32.7+ MB\n"
     ]
    }
   ],
   "source": [
    "df_final.info()"
   ]
  },
  {
   "cell_type": "code",
   "execution_count": null,
   "metadata": {},
   "outputs": [],
   "source": []
  },
  {
   "cell_type": "code",
   "execution_count": null,
   "metadata": {},
   "outputs": [],
   "source": []
  },
  {
   "cell_type": "code",
   "execution_count": null,
   "metadata": {},
   "outputs": [],
   "source": []
  },
  {
   "cell_type": "code",
   "execution_count": null,
   "metadata": {},
   "outputs": [],
   "source": []
  },
  {
   "cell_type": "code",
   "execution_count": 104,
   "metadata": {},
   "outputs": [
    {
     "data": {
      "text/html": [
       "<div>\n",
       "<style scoped>\n",
       "    .dataframe tbody tr th:only-of-type {\n",
       "        vertical-align: middle;\n",
       "    }\n",
       "\n",
       "    .dataframe tbody tr th {\n",
       "        vertical-align: top;\n",
       "    }\n",
       "\n",
       "    .dataframe thead th {\n",
       "        text-align: right;\n",
       "    }\n",
       "</style>\n",
       "<table border=\"1\" class=\"dataframe\">\n",
       "  <thead>\n",
       "    <tr style=\"text-align: right;\">\n",
       "      <th></th>\n",
       "      <th>user_location</th>\n",
       "      <th>user_followers</th>\n",
       "      <th>user_verified</th>\n",
       "      <th>date</th>\n",
       "      <th>text</th>\n",
       "      <th>hashtags</th>\n",
       "      <th>retweets</th>\n",
       "      <th>likes_count</th>\n",
       "    </tr>\n",
       "  </thead>\n",
       "  <tbody>\n",
       "    <tr>\n",
       "      <th>0</th>\n",
       "      <td>ประเทศไทย</td>\n",
       "      <td>33</td>\n",
       "      <td>FALSE</td>\n",
       "      <td>2020-03-01</td>\n",
       "      <td>Everyone takes care of their health please.✌🏽😷...</td>\n",
       "      <td>['COVID', 'worldwide']</td>\n",
       "      <td>2</td>\n",
       "      <td>2</td>\n",
       "    </tr>\n",
       "    <tr>\n",
       "      <th>1</th>\n",
       "      <td>Mumbai</td>\n",
       "      <td>370</td>\n",
       "      <td>FALSE</td>\n",
       "      <td>2020-03-01</td>\n",
       "      <td>I landed in Mumbai at midnight and there was a...</td>\n",
       "      <td>['covid']</td>\n",
       "      <td>0</td>\n",
       "      <td>0</td>\n",
       "    </tr>\n",
       "    <tr>\n",
       "      <th>2</th>\n",
       "      <td>Dhaka</td>\n",
       "      <td>57502</td>\n",
       "      <td>FALSE</td>\n",
       "      <td>2020-03-01</td>\n",
       "      <td>Here are the latest developments on the #coron...</td>\n",
       "      <td>['coronavirusoutbreak', 'COVID', 'Coronavid19']</td>\n",
       "      <td>7</td>\n",
       "      <td>12</td>\n",
       "    </tr>\n",
       "    <tr>\n",
       "      <th>3</th>\n",
       "      <td>Dubai, United Arab Emirates</td>\n",
       "      <td>2061</td>\n",
       "      <td>TRUE</td>\n",
       "      <td>2020-03-01</td>\n",
       "      <td>@UltraAbuDhabi @MEFCC to go ahead as scheduled...</td>\n",
       "      <td>['COVID']</td>\n",
       "      <td>0</td>\n",
       "      <td>0</td>\n",
       "    </tr>\n",
       "    <tr>\n",
       "      <th>4</th>\n",
       "      <td>SunnySideOfLife</td>\n",
       "      <td>754</td>\n",
       "      <td>FALSE</td>\n",
       "      <td>2020-03-01</td>\n",
       "      <td>@AbeShinzo request general public to avoid spo...</td>\n",
       "      <td>['COVID19', 'coronavirus', 'COVID', 'Japan', '...</td>\n",
       "      <td>0</td>\n",
       "      <td>0</td>\n",
       "    </tr>\n",
       "  </tbody>\n",
       "</table>\n",
       "</div>"
      ],
      "text/plain": [
       "                  user_location user_followers user_verified        date  \\\n",
       "0                     ประเทศไทย             33         FALSE  2020-03-01   \n",
       "1                        Mumbai            370         FALSE  2020-03-01   \n",
       "2                         Dhaka          57502         FALSE  2020-03-01   \n",
       "3  Dubai, United Arab Emirates            2061          TRUE  2020-03-01   \n",
       "4               SunnySideOfLife            754         FALSE  2020-03-01   \n",
       "\n",
       "                                                text  \\\n",
       "0  Everyone takes care of their health please.✌🏽😷...   \n",
       "1  I landed in Mumbai at midnight and there was a...   \n",
       "2  Here are the latest developments on the #coron...   \n",
       "3  @UltraAbuDhabi @MEFCC to go ahead as scheduled...   \n",
       "4  @AbeShinzo request general public to avoid spo...   \n",
       "\n",
       "                                            hashtags retweets likes_count  \n",
       "0                             ['COVID', 'worldwide']        2           2  \n",
       "1                                          ['covid']        0           0  \n",
       "2    ['coronavirusoutbreak', 'COVID', 'Coronavid19']        7          12  \n",
       "3                                          ['COVID']        0           0  \n",
       "4  ['COVID19', 'coronavirus', 'COVID', 'Japan', '...        0           0  "
      ]
     },
     "execution_count": 104,
     "metadata": {},
     "output_type": "execute_result"
    }
   ],
   "source": [
    "#text\n",
    "df_final_test = df[df['text'].str.contains('|'.join(Word))]\n",
    "df_final_test.head()"
   ]
  }
 ],
 "metadata": {
  "interpreter": {
   "hash": "fe50032d58a82280dd1498746f4654d9737c0e996d20111ca19097e1479440f8"
  },
  "kernelspec": {
   "display_name": "Python 3.6.7 64-bit ('vlib': venv)",
   "name": "python3"
  },
  "language_info": {
   "codemirror_mode": {
    "name": "ipython",
    "version": 3
   },
   "file_extension": ".py",
   "mimetype": "text/x-python",
   "name": "python",
   "nbconvert_exporter": "python",
   "pygments_lexer": "ipython3",
   "version": "3.6.7"
  },
  "orig_nbformat": 4
 },
 "nbformat": 4,
 "nbformat_minor": 2
}
